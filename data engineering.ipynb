{
 "cells": [
  {
   "cell_type": "markdown",
   "metadata": {
    "application/vnd.databricks.v1+cell": {
     "cellMetadata": {},
     "inputWidgets": {},
     "nuid": "6b47e562-5503-40be-a60c-9059898aa9e1",
     "showTitle": false,
     "tableResultSettingsMap": {},
     "title": ""
    },
    "id": "MelRvoheawOe"
   },
   "source": [
    "Import files"
   ]
  },
  {
   "cell_type": "code",
   "execution_count": 0,
   "metadata": {
    "application/vnd.databricks.v1+cell": {
     "cellMetadata": {
      "byteLimit": 2048000,
      "rowLimit": 10000
     },
     "inputWidgets": {},
     "nuid": "99f0b0b2-13c4-4dbc-a769-c2ad83d888ab",
     "showTitle": false,
     "tableResultSettingsMap": {},
     "title": ""
    }
   },
   "outputs": [],
   "source": [
    "calendar = spark.read.csv(\"dbfs:/FileStore/predictive/calendar.csv\", header = True)\n",
    "sell_prices = spark.read.csv(\"dbfs:/FileStore/predictive/sell_prices.csv\", header = True)\n",
    "train_eva = spark.read.csv(\"dbfs:/FileStore/predictive/sales_train_evaluation.csv\", header = True)\n"
   ]
  },
  {
   "cell_type": "markdown",
   "metadata": {
    "application/vnd.databricks.v1+cell": {
     "cellMetadata": {},
     "inputWidgets": {},
     "nuid": "f13852e9-bd52-4e3b-bb67-338928f60e10",
     "showTitle": false,
     "tableResultSettingsMap": {},
     "title": ""
    },
    "id": "KYubI65Wf1DO"
   },
   "source": [
    "merge train_eva with calendar and sell price data"
   ]
  },
  {
   "cell_type": "code",
   "execution_count": 0,
   "metadata": {
    "application/vnd.databricks.v1+cell": {
     "cellMetadata": {
      "byteLimit": 2048000,
      "rowLimit": 10000
     },
     "inputWidgets": {},
     "nuid": "48a88eb8-8f77-4727-a061-3fc4d68d6716",
     "showTitle": false,
     "tableResultSettingsMap": {},
     "title": ""
    }
   },
   "outputs": [],
   "source": [
    "d_columns = [col for col in train_eva.columns if col.startswith(\"d_\")]\n",
    "n = len(d_columns)\n",
    "stack_expr = \", \".join([f\"'{c}', `{c}`\" for c in d_columns])\n",
    "id_cols = [\"id\", \"item_id\", \"dept_id\", \"cat_id\", \"store_id\", \"state_id\"]\n",
    "\n",
    "train_eva_melted = train_eva.selectExpr(\n",
    "    *id_cols,\n",
    "    f\"stack({n}, {stack_expr}) as (d, `sell units`)\"\n",
    ")\n"
   ]
  },
  {
   "cell_type": "markdown",
   "metadata": {
    "application/vnd.databricks.v1+cell": {
     "cellMetadata": {},
     "inputWidgets": {},
     "nuid": "cddea865-1755-428e-890e-6ca975db9d9b",
     "showTitle": false,
     "tableResultSettingsMap": {},
     "title": ""
    }
   },
   "source": [
    "merge on calendar data, and sell price"
   ]
  },
  {
   "cell_type": "code",
   "execution_count": 0,
   "metadata": {
    "application/vnd.databricks.v1+cell": {
     "cellMetadata": {
      "byteLimit": 2048000,
      "rowLimit": 10000
     },
     "inputWidgets": {},
     "nuid": "2261c383-047f-4457-9d94-3db134cf8aaf",
     "showTitle": false,
     "tableResultSettingsMap": {},
     "title": ""
    },
    "id": "xeMoiG4OrGf-"
   },
   "outputs": [],
   "source": [
    "df = train_eva_melted.join(calendar,on=\"d\", how=\"left\")"
   ]
  },
  {
   "cell_type": "code",
   "execution_count": 0,
   "metadata": {
    "application/vnd.databricks.v1+cell": {
     "cellMetadata": {
      "byteLimit": 2048000,
      "rowLimit": 10000
     },
     "inputWidgets": {},
     "nuid": "f70af0d6-19ce-43d3-af0c-0c44819845de",
     "showTitle": false,
     "tableResultSettingsMap": {},
     "title": ""
    }
   },
   "outputs": [
    {
     "output_type": "stream",
     "name": "stdout",
     "output_type": "stream",
     "text": [
      "Out[4]: DataFrame[store_id: string, item_id: string, wm_yr_wk: string, d: string, id: string, dept_id: string, cat_id: string, state_id: string, sell units: string, date: string, weekday: string, wday: string, month: string, year: string, event_name_1: string, event_type_1: string, event_name_2: string, event_type_2: string, snap_CA: string, snap_TX: string, snap_WI: string, sell_price: string]"
     ]
    }
   ],
   "source": [
    "full_df = df.join(sell_prices, on = [\"store_id\",\"item_id\",\"wm_yr_wk\"], how= \"left\")\n",
    "full_df.cache()"
   ]
  },
  {
   "cell_type": "markdown",
   "metadata": {
    "application/vnd.databricks.v1+cell": {
     "cellMetadata": {},
     "inputWidgets": {},
     "nuid": "e5406da8-4522-496e-be24-7ac9d40173c5",
     "showTitle": false,
     "tableResultSettingsMap": {},
     "title": ""
    }
   },
   "source": [
    "use only 2 years (730 days) data to train and predict"
   ]
  },
  {
   "cell_type": "code",
   "execution_count": 0,
   "metadata": {
    "application/vnd.databricks.v1+cell": {
     "cellMetadata": {
      "byteLimit": 2048000,
      "rowLimit": 10000
     },
     "inputWidgets": {},
     "nuid": "de1edbbb-0c16-4c49-9a70-0f677d3b3f9c",
     "showTitle": false,
     "tableResultSettingsMap": {},
     "title": ""
    }
   },
   "outputs": [
    {
     "output_type": "stream",
     "name": "stdout",
     "output_type": "stream",
     "text": [
      "Out[21]: DataFrame[store_id: string, item_id: string, wm_yr_wk: string, d: string, id: string, dept_id: string, cat_id: string, state_id: string, sell units: string, date: string, weekday: string, wday: string, month: string, year: string, event_name_1: string, event_type_1: string, event_name_2: string, event_type_2: string, snap_CA: string, snap_TX: string, snap_WI: string, sell_price: string]"
     ]
    }
   ],
   "source": [
    "train_input =  full_df.filter((full_df[\"d\"] == \"d_423\")) \n",
    "train_input"
   ]
  },
  {
   "cell_type": "code",
   "execution_count": 0,
   "metadata": {
    "application/vnd.databricks.v1+cell": {
     "cellMetadata": {
      "byteLimit": 2048000,
      "rowLimit": 10000
     },
     "inputWidgets": {},
     "nuid": "963b627b-e7ca-40e3-83f9-d060d4876a1b",
     "showTitle": false,
     "tableResultSettingsMap": {},
     "title": ""
    }
   },
   "outputs": [
    {
     "output_type": "display_data",
     "data": {
      "text/html": [
       "<style scoped>\n",
       "  .table-result-container {\n",
       "    max-height: 300px;\n",
       "    overflow: auto;\n",
       "  }\n",
       "  table, th, td {\n",
       "    border: 1px solid black;\n",
       "    border-collapse: collapse;\n",
       "  }\n",
       "  th, td {\n",
       "    padding: 5px;\n",
       "  }\n",
       "  th {\n",
       "    text-align: left;\n",
       "  }\n",
       "</style><div class='table-result-container'><table class='table-result'><thead style='background-color: white'><tr><th>store_id</th><th>item_id</th><th>wm_yr_wk</th><th>d</th><th>id</th><th>dept_id</th><th>cat_id</th><th>state_id</th><th>sell units</th><th>date</th><th>weekday</th><th>wday</th><th>month</th><th>year</th><th>event_name_1</th><th>event_type_1</th><th>event_name_2</th><th>event_type_2</th><th>snap_CA</th><th>snap_TX</th><th>snap_WI</th><th>sell_price</th></tr></thead><tbody><tr><td>CA_1</td><td>FOODS_2_004</td><td>11209</td><td>d_423</td><td>FOODS_2_004_CA_1_evaluation</td><td>FOODS_2</td><td>FOODS</td><td>CA</td><td>0</td><td>2012-03-26</td><td>Monday</td><td>3</td><td>3</td><td>2012</td><td>null</td><td>null</td><td>null</td><td>null</td><td>0</td><td>0</td><td>0</td><td>null</td></tr></tbody></table></div>"
      ]
     },
     "metadata": {
      "application/vnd.databricks.v1+output": {
       "addedWidgets": {},
       "aggData": [],
       "aggError": "",
       "aggOverflow": false,
       "aggSchema": [],
       "aggSeriesLimitReached": false,
       "aggType": "",
       "arguments": {},
       "columnCustomDisplayInfos": {},
       "data": [
        [
         "CA_1",
         "FOODS_2_004",
         "11209",
         "d_423",
         "FOODS_2_004_CA_1_evaluation",
         "FOODS_2",
         "FOODS",
         "CA",
         "0",
         "2012-03-26",
         "Monday",
         "3",
         "3",
         "2012",
         null,
         null,
         null,
         null,
         "0",
         "0",
         "0",
         null
        ]
       ],
       "datasetInfos": [],
       "dbfsResultPath": null,
       "isJsonSchema": true,
       "metadata": {},
       "overflow": false,
       "plotOptions": {
        "customPlotOptions": {},
        "displayType": "table",
        "pivotAggregation": null,
        "pivotColumns": null,
        "xColumns": null,
        "yColumns": null
       },
       "removedWidgets": [],
       "schema": [
        {
         "metadata": "{}",
         "name": "store_id",
         "type": "\"string\""
        },
        {
         "metadata": "{}",
         "name": "item_id",
         "type": "\"string\""
        },
        {
         "metadata": "{}",
         "name": "wm_yr_wk",
         "type": "\"string\""
        },
        {
         "metadata": "{}",
         "name": "d",
         "type": "\"string\""
        },
        {
         "metadata": "{}",
         "name": "id",
         "type": "\"string\""
        },
        {
         "metadata": "{}",
         "name": "dept_id",
         "type": "\"string\""
        },
        {
         "metadata": "{}",
         "name": "cat_id",
         "type": "\"string\""
        },
        {
         "metadata": "{}",
         "name": "state_id",
         "type": "\"string\""
        },
        {
         "metadata": "{}",
         "name": "sell units",
         "type": "\"string\""
        },
        {
         "metadata": "{}",
         "name": "date",
         "type": "\"string\""
        },
        {
         "metadata": "{}",
         "name": "weekday",
         "type": "\"string\""
        },
        {
         "metadata": "{}",
         "name": "wday",
         "type": "\"string\""
        },
        {
         "metadata": "{}",
         "name": "month",
         "type": "\"string\""
        },
        {
         "metadata": "{}",
         "name": "year",
         "type": "\"string\""
        },
        {
         "metadata": "{}",
         "name": "event_name_1",
         "type": "\"string\""
        },
        {
         "metadata": "{}",
         "name": "event_type_1",
         "type": "\"string\""
        },
        {
         "metadata": "{}",
         "name": "event_name_2",
         "type": "\"string\""
        },
        {
         "metadata": "{}",
         "name": "event_type_2",
         "type": "\"string\""
        },
        {
         "metadata": "{}",
         "name": "snap_CA",
         "type": "\"string\""
        },
        {
         "metadata": "{}",
         "name": "snap_TX",
         "type": "\"string\""
        },
        {
         "metadata": "{}",
         "name": "snap_WI",
         "type": "\"string\""
        },
        {
         "metadata": "{}",
         "name": "sell_price",
         "type": "\"string\""
        }
       ],
       "type": "table"
      }
     },
     "output_type": "display_data"
    }
   ],
   "source": [
    "train_input.limit(1).display()"
   ]
  },
  {
   "cell_type": "code",
   "execution_count": 0,
   "metadata": {
    "application/vnd.databricks.v1+cell": {
     "cellMetadata": {
      "byteLimit": 2048000,
      "rowLimit": 10000
     },
     "inputWidgets": {},
     "nuid": "c4f7c57b-c2c9-4dc3-9af9-31735116c242",
     "showTitle": false,
     "tableResultSettingsMap": {},
     "title": ""
    }
   },
   "outputs": [],
   "source": [
    "#d_423 = 2012-03-26, d_1153 = 2014-03-26, d_1154 = 2014-03-27, d_1182 = 2014-04-24 , d_1183 = 2014-04-25, d_1913 = 2016-04-24, d_1914 =2016-04-25  , d_1941 = 2016-05-22, d_1211 = 2014-05-23\n",
    "train_input =  full_df.filter((full_df[\"date\"] >= \"2012-03-26\") & (full_df[\"date\"] <= \"2014-03-26\"))   #d_423 ~ d_1153  \n",
    "train_target =  full_df.filter((full_df[\"date\"] >= \"2014-03-27\") & (full_df[\"date\"] <= \"2014-04-24\")) #d_1154 ~ d_1182\n",
    "test_input = full_df.filter((full_df[\"date\"] >= \"2014-04-25\") & (full_df[\"date\"] <= \"2016-04-24\"))  #d_1183 ~ d_1913  \n",
    "test_target =  full_df.filter((full_df[\"date\"] >= \"2016-04-25\") & (full_df[\"date\"] <= \"2016-05-22\"))   #d_1914 ~ d_1941\n",
    "final_input = full_df.filter((full_df[\"date\"] >= \"2014-05-23\") & (full_df[\"date\"] <= \"2016-05-22\")) #d_1211~ d_1941"
   ]
  },
  {
   "cell_type": "markdown",
   "metadata": {
    "application/vnd.databricks.v1+cell": {
     "cellMetadata": {},
     "inputWidgets": {},
     "nuid": "bea03e30-4c05-43e8-a127-2f90334648ee",
     "showTitle": false,
     "tableResultSettingsMap": {},
     "title": ""
    }
   },
   "source": [
    "## Feature engineering"
   ]
  },
  {
   "cell_type": "markdown",
   "metadata": {
    "application/vnd.databricks.v1+cell": {
     "cellMetadata": {},
     "inputWidgets": {},
     "nuid": "0205932b-63e1-4a0c-8c5f-c794ef18803f",
     "showTitle": false,
     "tableResultSettingsMap": {},
     "title": ""
    }
   },
   "source": [
    "**3. Price Features**"
   ]
  },
  {
   "cell_type": "code",
   "execution_count": 0,
   "metadata": {
    "application/vnd.databricks.v1+cell": {
     "cellMetadata": {
      "byteLimit": 2048000,
      "rowLimit": 10000
     },
     "inputWidgets": {},
     "nuid": "3218c026-fb99-47ac-a34c-03bcb63bc5d0",
     "showTitle": false,
     "tableResultSettingsMap": {},
     "title": ""
    }
   },
   "outputs": [],
   "source": [
    "# Price change from previous time\n",
    "from pyspark.sql.window import Window\n",
    "from pyspark.sql.functions import col, lag\n",
    "\n",
    "# Define window\n",
    "price_window = Window.partitionBy(\"store_id\", \"item_id\").orderBy(\"date\")\n",
    "\n",
    "# Calculate percent change\n",
    "train_input = train_input.withColumn(\n",
    "    \"price_change\",\n",
    "    (col(\"sell_price\") - lag(\"sell_price\").over(price_window)) / lag(\"sell_price\").over(price_window)\n",
    ")\n",
    "\n",
    "test_input = test_input.withColumn(\n",
    "    \"price_change\",\n",
    "    (col(\"sell_price\") - lag(\"sell_price\").over(price_window)) / lag(\"sell_price\").over(price_window)\n",
    ")\n",
    "\n",
    "final_input = final_input.withColumn(\n",
    "    \"price_change\",\n",
    "    (col(\"sell_price\") - lag(\"sell_price\").over(price_window)) / lag(\"sell_price\").over(price_window)\n",
    ")\n"
   ]
  },
  {
   "cell_type": "code",
   "execution_count": 0,
   "metadata": {
    "application/vnd.databricks.v1+cell": {
     "cellMetadata": {
      "byteLimit": 2048000,
      "rowLimit": 10000
     },
     "inputWidgets": {},
     "nuid": "d3c8d712-fdc0-4d3c-9980-21868914b2a8",
     "showTitle": false,
     "tableResultSettingsMap": {},
     "title": ""
    }
   },
   "outputs": [],
   "source": [
    "# Normalized price (current / max historical)   #use train data's scaler to prevent data leakage!!\n",
    "from pyspark.sql.window import Window\n",
    "from pyspark.sql.functions import col, max as spark_max\n",
    "# Define the window\n",
    "price_window = Window.partitionBy(\"store_id\", \"item_id\")\n",
    "# Get price_max only from the training data\n",
    "train_input = train_input.withColumn(\"price_max\", spark_max(\"sell_price\").over(price_window))\n",
    "train_input = train_input.withColumn(\"price_norm\", col(\"sell_price\")/ col(\"price_max\"))\n",
    "\n",
    "# Extract the max price per (store_id, item_id) from training data\n",
    "price_scaler = train_input.select(\"store_id\", \"item_id\", \"price_max\").dropDuplicates()\n",
    "\n",
    "# Join the scaler to test and final data\n",
    "test_input = test_input.join(price_scaler, on=[\"store_id\", \"item_id\"], how=\"left\")\n",
    "test_input = test_input.withColumn(\"price_norm\", col(\"sell_price\") / col(\"price_max\"))\n",
    "\n",
    "final_input = final_input.join(price_scaler, on=[\"store_id\", \"item_id\"], how=\"left\")\n",
    "final_input = final_input.withColumn(\"price_norm\", col(\"sell_price\") / col(\"price_max\"))"
   ]
  },
  {
   "cell_type": "markdown",
   "metadata": {
    "application/vnd.databricks.v1+cell": {
     "cellMetadata": {},
     "inputWidgets": {},
     "nuid": "cf4cc999-bd8c-4abd-b50b-b9e07e102a2f",
     "showTitle": false,
     "tableResultSettingsMap": {},
     "title": ""
    }
   },
   "source": [
    "**4. Time/Calendar Features** \\\n",
    "Useful for capturing weekly or monthly trends, holidays, etc."
   ]
  },
  {
   "cell_type": "code",
   "execution_count": 0,
   "metadata": {
    "application/vnd.databricks.v1+cell": {
     "cellMetadata": {
      "byteLimit": 2048000,
      "rowLimit": 10000
     },
     "inputWidgets": {},
     "nuid": "0ae738b9-5e3e-419f-ae59-43400eecc726",
     "showTitle": false,
     "tableResultSettingsMap": {},
     "title": ""
    }
   },
   "outputs": [],
   "source": [
    "from pyspark.sql.functions import col, dayofweek, weekofyear, month, year, when\n",
    "\n",
    "train_input = train_input.withColumn(\"date\", col(\"date\").cast(\"date\"))\n",
    "train_input = train_input.withColumn(\"dayofweek\",dayofweek(col(\"date\"))-1) # 0=monday\n",
    "#week number of the year\n",
    "train_input = train_input.withColumn(\"week\", weekofyear(col(\"date\")))\n",
    "train_input = train_input.withColumn(\"month\", month(col(\"date\")))\n",
    "train_input = train_input.withColumn(\"year\", year(col(\"date\")))\n",
    "train_input = train_input.withColumn(\"is_weekend\", when(col(\"dayofweek\")>=5, 1).otherwise(0))\n",
    "\n",
    "test_input = test_input.withColumn(\"date\", col(\"date\").cast(\"date\"))\n",
    "test_input = test_input.withColumn(\"dayofweek\",dayofweek(col(\"date\"))-1) # 0=monday\n",
    "#week number of the year\n",
    "test_input = test_input.withColumn(\"week\", weekofyear(col(\"date\")))\n",
    "test_input = test_input.withColumn(\"month\", month(col(\"date\")))\n",
    "test_input = test_input.withColumn(\"year\", year(col(\"date\")))\n",
    "test_input = test_input.withColumn(\"is_weekend\", when(col(\"dayofweek\")>=5, 1).otherwise(0))\n",
    "\n",
    "final_input = final_input.withColumn(\"date\", col(\"date\").cast(\"date\"))\n",
    "final_input = final_input.withColumn(\"dayofweek\",dayofweek(col(\"date\"))-1) # 0=monday\n",
    "#week number of the year\n",
    "final_input = final_input.withColumn(\"week\", weekofyear(col(\"date\")))\n",
    "final_input = final_input.withColumn(\"month\", month(col(\"date\")))\n",
    "final_input = final_input.withColumn(\"year\", year(col(\"date\")))\n",
    "final_input = final_input.withColumn(\"is_weekend\", when(col(\"dayofweek\")>=5, 1).otherwise(0))\n",
    "\n"
   ]
  },
  {
   "cell_type": "markdown",
   "metadata": {
    "application/vnd.databricks.v1+cell": {
     "cellMetadata": {},
     "inputWidgets": {},
     "nuid": "a3d9c158-9837-48c7-93a6-2c49fafdf059",
     "showTitle": false,
     "tableResultSettingsMap": {},
     "title": ""
    }
   },
   "source": [
    "**5. Demand Pattern Features**"
   ]
  },
  {
   "cell_type": "code",
   "execution_count": 0,
   "metadata": {
    "application/vnd.databricks.v1+cell": {
     "cellMetadata": {
      "byteLimit": 2048000,
      "rowLimit": 10000
     },
     "inputWidgets": {},
     "nuid": "44f08db1-692d-4d5f-a8dc-7327f293835a",
     "showTitle": false,
     "tableResultSettingsMap": {},
     "title": ""
    }
   },
   "outputs": [
    {
     "output_type": "stream",
     "name": "stdout",
     "output_type": "stream",
     "text": [
      "Out[28]: DataFrame[store_id: string, item_id: string, wm_yr_wk: string, d: string, id: string, dept_id: string, cat_id: string, state_id: string, sell units: string, date: date, weekday: string, wday: string, month: int, year: int, event_name_1: string, event_type_1: string, event_name_2: string, event_type_2: string, snap_CA: string, snap_TX: string, snap_WI: string, sell_price: string, price_change: double, price_max: string, price_norm: double, dayofweek: int, week: int, is_weekend: int]"
     ]
    }
   ],
   "source": [
    "train_input.cache()"
   ]
  },
  {
   "cell_type": "code",
   "execution_count": 0,
   "metadata": {
    "application/vnd.databricks.v1+cell": {
     "cellMetadata": {
      "byteLimit": 2048000,
      "rowLimit": 10000
     },
     "inputWidgets": {},
     "nuid": "014bdf24-b8b9-46a4-9663-34a894133fd5",
     "showTitle": false,
     "tableResultSettingsMap": {},
     "title": ""
    }
   },
   "outputs": [
    {
     "output_type": "stream",
     "name": "stdout",
     "output_type": "stream",
     "text": [
      "Out[29]: DataFrame[store_id: string, item_id: string, wm_yr_wk: string, d: string, id: string, dept_id: string, cat_id: string, state_id: string, sell units: string, date: date, weekday: string, wday: string, month: int, year: int, event_name_1: string, event_type_1: string, event_name_2: string, event_type_2: string, snap_CA: string, snap_TX: string, snap_WI: string, sell_price: string, price_change: double, price_max: string, price_norm: double, dayofweek: int, week: int, is_weekend: int]"
     ]
    }
   ],
   "source": [
    "test_input.cache()"
   ]
  },
  {
   "cell_type": "code",
   "execution_count": 0,
   "metadata": {
    "application/vnd.databricks.v1+cell": {
     "cellMetadata": {
      "byteLimit": 2048000,
      "rowLimit": 10000
     },
     "inputWidgets": {},
     "nuid": "5162a08d-c685-4a44-ae47-d127f76bb10c",
     "showTitle": false,
     "tableResultSettingsMap": {},
     "title": ""
    }
   },
   "outputs": [
    {
     "output_type": "stream",
     "name": "stdout",
     "output_type": "stream",
     "text": [
      "Out[30]: DataFrame[store_id: string, item_id: string, wm_yr_wk: string, d: string, id: string, dept_id: string, cat_id: string, state_id: string, sell units: string, date: date, weekday: string, wday: string, month: int, year: int, event_name_1: string, event_type_1: string, event_name_2: string, event_type_2: string, snap_CA: string, snap_TX: string, snap_WI: string, sell_price: string, price_change: double, price_max: string, price_norm: double, dayofweek: int, week: int, is_weekend: int]"
     ]
    }
   ],
   "source": [
    "final_input.cache()"
   ]
  },
  {
   "cell_type": "code",
   "execution_count": 0,
   "metadata": {
    "application/vnd.databricks.v1+cell": {
     "cellMetadata": {
      "byteLimit": 2048000,
      "rowLimit": 10000
     },
     "inputWidgets": {},
     "nuid": "5558c19a-9fba-4aae-9b5d-bb47b445d2bc",
     "showTitle": false,
     "tableResultSettingsMap": {},
     "title": ""
    }
   },
   "outputs": [],
   "source": [
    "from pyspark.sql.functions import min as spark_min\n",
    "\n",
    "First_sale_day = full_df.groupBy(\"id\").agg(spark_min(\"date\").alias(\"first_sale_day\"))"
   ]
  },
  {
   "cell_type": "code",
   "execution_count": 0,
   "metadata": {
    "application/vnd.databricks.v1+cell": {
     "cellMetadata": {
      "byteLimit": 2048000,
      "rowLimit": 10000
     },
     "inputWidgets": {},
     "nuid": "e4d0adbf-3f61-4703-935b-256d250c5ca5",
     "showTitle": false,
     "tableResultSettingsMap": {},
     "title": ""
    }
   },
   "outputs": [],
   "source": [
    "from pyspark.sql.functions import to_date, col, datediff\n",
    "train_input = train_input.join(First_sale_day, how = \"left\", on = \"id\")\n",
    "train_input = train_input.withColumn(\"first_sale_day\", to_date(\"first_sale_day\"))\n",
    "train_input = train_input.withColumn(\"days_since_first_sale\", datediff(col(\"date\") , col(\"first_sale_day\")))\n",
    "\n",
    "test_input = test_input.join(First_sale_day, how = \"left\", on = \"id\")\n",
    "test_input = test_input.withColumn(\"first_sale_day\", to_date(\"first_sale_day\"))\n",
    "test_input = test_input.withColumn(\"days_since_first_sale\", datediff(col(\"date\") , col(\"first_sale_day\")))\n",
    "\n",
    "final_input = final_input.join(First_sale_day, how = \"left\", on = \"id\")\n",
    "final_input = final_input.withColumn(\"first_sale_day\", to_date(\"first_sale_day\"))\n",
    "final_input = final_input.withColumn(\"days_since_first_sale\", datediff(col(\"date\") , col(\"first_sale_day\")))"
   ]
  },
  {
   "cell_type": "markdown",
   "metadata": {
    "application/vnd.databricks.v1+cell": {
     "cellMetadata": {},
     "inputWidgets": {},
     "nuid": "bba2beba-baf6-4fc7-aa09-bced5ea825bb",
     "showTitle": false,
     "tableResultSettingsMap": {},
     "title": ""
    }
   },
   "source": [
    "**6. Categorical Encodings**"
   ]
  },
  {
   "cell_type": "code",
   "execution_count": 0,
   "metadata": {
    "application/vnd.databricks.v1+cell": {
     "cellMetadata": {
      "byteLimit": 2048000,
      "rowLimit": 10000
     },
     "inputWidgets": {},
     "nuid": "11c72b90-c4da-47f8-8517-2ecfde335451",
     "showTitle": false,
     "tableResultSettingsMap": {},
     "title": ""
    }
   },
   "outputs": [],
   "source": [
    "from pyspark.sql.functions import when, col\n",
    "\n",
    "train_input = train_input.withColumn(\"snap\", when(\n",
    "    ((col(\"state_id\") == \"CA\") & (col(\"snap_CA\").cast(\"int\") == 1)) |\n",
    "    ((col(\"state_id\") == \"TX\") & (col(\"snap_TX\").cast(\"int\") == 1)) |\n",
    "    ((col(\"state_id\") == \"WI\") & (col(\"snap_WI\").cast(\"int\") == 1)),\n",
    "    1).otherwise(0))\n",
    "\n",
    "test_input = test_input.withColumn(\"snap\", when(\n",
    "    ((col(\"state_id\") == \"CA\") & (col(\"snap_CA\").cast(\"int\") == 1)) |\n",
    "    ((col(\"state_id\") == \"TX\") & (col(\"snap_TX\").cast(\"int\") == 1)) |\n",
    "    ((col(\"state_id\") == \"WI\") & (col(\"snap_WI\").cast(\"int\") == 1)),\n",
    "    1).otherwise(0))\n",
    "\n",
    "final_input = final_input.withColumn(\"snap\", when(\n",
    "    ((col(\"state_id\") == \"CA\") & (col(\"snap_CA\").cast(\"int\") == 1)) |\n",
    "    ((col(\"state_id\") == \"TX\") & (col(\"snap_TX\").cast(\"int\") == 1)) |\n",
    "    ((col(\"state_id\") == \"WI\") & (col(\"snap_WI\").cast(\"int\") == 1)),\n",
    "    1).otherwise(0))\n",
    "\n"
   ]
  },
  {
   "cell_type": "markdown",
   "metadata": {
    "application/vnd.databricks.v1+cell": {
     "cellMetadata": {},
     "inputWidgets": {},
     "nuid": "536fd965-96f6-49cd-a770-e8130b4b279a",
     "showTitle": false,
     "tableResultSettingsMap": {},
     "title": ""
    }
   },
   "source": [
    "select features we need"
   ]
  },
  {
   "cell_type": "code",
   "execution_count": 0,
   "metadata": {
    "application/vnd.databricks.v1+cell": {
     "cellMetadata": {
      "byteLimit": 2048000,
      "rowLimit": 10000
     },
     "inputWidgets": {},
     "nuid": "5d2aa429-4c3a-49d1-96e2-493e27b44869",
     "showTitle": false,
     "tableResultSettingsMap": {},
     "title": ""
    }
   },
   "outputs": [],
   "source": [
    "train_input = train_input.select(\"store_id\",\"item_id\",\"d\",  \"cat_id\", \"state_id\", \"month\",  \"dayofweek\", \"is_weekend\", \"event_type_1\",\"event_type_2\", \"snap\", \"price_norm\",\"price_change\", \"first_sale_day\",\"days_since_first_sale\", \"sell units\")\n",
    "test_input = test_input.select(\"store_id\",\"item_id\", \"d\",  \"cat_id\", \"state_id\", \"month\",  \"dayofweek\",  \"is_weekend\", \"event_type_1\", \"event_type_2\", \"snap\", \"price_norm\",\"price_change\", \"first_sale_day\",\"days_since_first_sale\", \"sell units\")\n",
    "final_input = final_input.select(\"store_id\",\"item_id\", \"d\", \"cat_id\", \"state_id\", \"month\",  \"dayofweek\",  \"is_weekend\",  \"event_type_1\", \"event_type_2\", \"snap\", \"price_norm\",\"price_change\", \"first_sale_day\",\"days_since_first_sale\", \"sell units\")"
   ]
  },
  {
   "cell_type": "markdown",
   "metadata": {
    "application/vnd.databricks.v1+cell": {
     "cellMetadata": {},
     "inputWidgets": {},
     "nuid": "9a6df2aa-ac68-4659-ad09-c8363a418bfe",
     "showTitle": false,
     "tableResultSettingsMap": {},
     "title": ""
    }
   },
   "source": [
    "one hot encode the categorical features"
   ]
  },
  {
   "cell_type": "code",
   "execution_count": 0,
   "metadata": {
    "application/vnd.databricks.v1+cell": {
     "cellMetadata": {
      "byteLimit": 2048000,
      "rowLimit": 10000
     },
     "inputWidgets": {},
     "nuid": "b55ccba8-8c9a-492f-8e30-afd657fa6c0d",
     "showTitle": false,
     "tableResultSettingsMap": {},
     "title": ""
    }
   },
   "outputs": [],
   "source": [
    "from pyspark.ml.feature import StringIndexer, OneHotEncoder\n",
    "from pyspark.ml import Pipeline\n",
    "\n",
    "categorical_cols = [ \"cat_id\", \"state_id\", \"month\", \"dayofweek\", \"event_type_1\", \"event_type_2\"]\n",
    "\n",
    "\n",
    "# Step 1: Create indexers for each column\n",
    "indexers = [\n",
    "    StringIndexer(inputCol=col, outputCol=col + \"_index\", handleInvalid=\"keep\")\n",
    "    for col in categorical_cols\n",
    "]\n",
    "\n",
    "# Step 2: Create one-hot encoders for each indexed column\n",
    "encoders = [\n",
    "    OneHotEncoder(inputCol=col + \"_index\", outputCol=col + \"_ohe\")\n",
    "    for col in categorical_cols\n",
    "]\n",
    "\n",
    "# Step 3: Combine into a pipeline\n",
    "pipeline = Pipeline(stages=indexers + encoders)\n",
    "\n",
    "# Step 4: Fit and transform your dataset\n",
    "model = pipeline.fit(train_input)\n",
    "train_input_encoded = model.transform(train_input)\n",
    "test_input_encoded = model.transform(test_input)\n",
    "final_input_encoded = model.transform(final_input)\n"
   ]
  },
  {
   "cell_type": "code",
   "execution_count": 0,
   "metadata": {
    "application/vnd.databricks.v1+cell": {
     "cellMetadata": {
      "byteLimit": 2048000,
      "rowLimit": 10000
     },
     "inputWidgets": {},
     "nuid": "6aa7d8af-10e5-4219-b730-8457977065d3",
     "showTitle": false,
     "tableResultSettingsMap": {},
     "title": ""
    }
   },
   "outputs": [
    {
     "output_type": "stream",
     "name": "stdout",
     "output_type": "stream",
     "text": [
      "+-----+\n|month|\n+-----+\n|   12|\n|    1|\n|    6|\n|    3|\n|    5|\n|    9|\n|    4|\n|    8|\n|    7|\n|   10|\n|   11|\n|    2|\n+-----+\n\n"
     ]
    }
   ],
   "source": [
    "train_input.select(\"month\").distinct().show()"
   ]
  },
  {
   "cell_type": "code",
   "execution_count": 0,
   "metadata": {
    "application/vnd.databricks.v1+cell": {
     "cellMetadata": {
      "byteLimit": 2048000,
      "rowLimit": 10000
     },
     "inputWidgets": {},
     "nuid": "a9e0f163-f588-48bf-9ae4-a0cfdcc7f479",
     "showTitle": false,
     "tableResultSettingsMap": {},
     "title": ""
    }
   },
   "outputs": [
    {
     "output_type": "display_data",
     "data": {
      "text/html": [
       "<style scoped>\n",
       "  .table-result-container {\n",
       "    max-height: 300px;\n",
       "    overflow: auto;\n",
       "  }\n",
       "  table, th, td {\n",
       "    border: 1px solid black;\n",
       "    border-collapse: collapse;\n",
       "  }\n",
       "  th, td {\n",
       "    padding: 5px;\n",
       "  }\n",
       "  th {\n",
       "    text-align: left;\n",
       "  }\n",
       "</style><div class='table-result-container'><table class='table-result'><thead style='background-color: white'><tr><th>month_ohe</th></tr></thead><tbody><tr><td>Map(vectorType -> sparse, length -> 12, indices -> List(0), values -> List(1.0))</td></tr></tbody></table></div>"
      ]
     },
     "metadata": {
      "application/vnd.databricks.v1+output": {
       "addedWidgets": {},
       "aggData": [],
       "aggError": "",
       "aggOverflow": false,
       "aggSchema": [],
       "aggSeriesLimitReached": false,
       "aggType": "",
       "arguments": {},
       "columnCustomDisplayInfos": {},
       "data": [
        [
         {
          "indices": [
           0
          ],
          "length": 12,
          "values": [
           1.0
          ],
          "vectorType": "sparse"
         }
        ]
       ],
       "datasetInfos": [],
       "dbfsResultPath": null,
       "isJsonSchema": true,
       "metadata": {},
       "overflow": false,
       "plotOptions": {
        "customPlotOptions": {},
        "displayType": "table",
        "pivotAggregation": null,
        "pivotColumns": null,
        "xColumns": null,
        "yColumns": null
       },
       "removedWidgets": [],
       "schema": [
        {
         "metadata": "{\"ml_attr\":{\"attrs\":{\"binary\":[{\"idx\":0,\"name\":\"3\"},{\"idx\":1,\"name\":\"1\"},{\"idx\":2,\"name\":\"10\"},{\"idx\":3,\"name\":\"12\"},{\"idx\":4,\"name\":\"5\"},{\"idx\":5,\"name\":\"7\"},{\"idx\":6,\"name\":\"8\"},{\"idx\":7,\"name\":\"11\"},{\"idx\":8,\"name\":\"4\"},{\"idx\":9,\"name\":\"6\"},{\"idx\":10,\"name\":\"9\"},{\"idx\":11,\"name\":\"2\"}]},\"num_attrs\":12}}",
         "name": "month_ohe",
         "type": "{\"type\":\"udt\",\"class\":\"org.apache.spark.ml.linalg.VectorUDT\",\"pyClass\":\"pyspark.ml.linalg.VectorUDT\",\"sqlType\":{\"type\":\"struct\",\"fields\":[{\"name\":\"type\",\"type\":\"byte\",\"nullable\":false,\"metadata\":{}},{\"name\":\"size\",\"type\":\"integer\",\"nullable\":true,\"metadata\":{}},{\"name\":\"indices\",\"type\":{\"type\":\"array\",\"elementType\":\"integer\",\"containsNull\":false},\"nullable\":true,\"metadata\":{}},{\"name\":\"values\",\"type\":{\"type\":\"array\",\"elementType\":\"double\",\"containsNull\":false},\"nullable\":true,\"metadata\":{}}]}}"
        }
       ],
       "type": "table"
      }
     },
     "output_type": "display_data"
    }
   ],
   "source": [
    "train_input_encoded.select(\"month_ohe\").limit(1).display()"
   ]
  },
  {
   "cell_type": "code",
   "execution_count": 0,
   "metadata": {
    "application/vnd.databricks.v1+cell": {
     "cellMetadata": {
      "byteLimit": 2048000,
      "rowLimit": 10000
     },
     "inputWidgets": {},
     "nuid": "ea481d69-7cdd-4eff-a62b-b2e28f1bbd50",
     "showTitle": false,
     "tableResultSettingsMap": {},
     "title": ""
    }
   },
   "outputs": [
    {
     "output_type": "stream",
     "name": "stdout",
     "output_type": "stream",
     "text": [
      "root\n |-- store_id: string (nullable = true)\n |-- item_id: string (nullable = true)\n |-- d: string (nullable = true)\n |-- cat_id: string (nullable = true)\n |-- state_id: string (nullable = true)\n |-- month: integer (nullable = true)\n |-- dayofweek: integer (nullable = true)\n |-- is_weekend: integer (nullable = false)\n |-- event_type_1: string (nullable = true)\n |-- event_type_2: string (nullable = true)\n |-- snap: integer (nullable = false)\n |-- price_norm: double (nullable = true)\n |-- price_change: double (nullable = true)\n |-- first_sale_day: date (nullable = true)\n |-- days_since_first_sale: integer (nullable = true)\n |-- sell units: string (nullable = true)\n |-- cat_id_index: double (nullable = false)\n |-- state_id_index: double (nullable = false)\n |-- month_index: double (nullable = false)\n |-- dayofweek_index: double (nullable = false)\n |-- event_type_1_index: double (nullable = false)\n |-- event_type_2_index: double (nullable = false)\n |-- cat_id_ohe: vector (nullable = true)\n |-- state_id_ohe: vector (nullable = true)\n |-- month_ohe: vector (nullable = true)\n |-- dayofweek_ohe: vector (nullable = true)\n |-- event_type_1_ohe: vector (nullable = true)\n |-- event_type_2_ohe: vector (nullable = true)\n\n"
     ]
    }
   ],
   "source": [
    "train_input_encoded.printSchema()"
   ]
  },
  {
   "cell_type": "code",
   "execution_count": 0,
   "metadata": {
    "application/vnd.databricks.v1+cell": {
     "cellMetadata": {
      "byteLimit": 2048000,
      "rowLimit": 10000
     },
     "inputWidgets": {},
     "nuid": "45215afa-4e6e-4982-baa9-71516e84320f",
     "showTitle": false,
     "tableResultSettingsMap": {},
     "title": ""
    }
   },
   "outputs": [],
   "source": [
    "from pyspark.sql.functions import col\n",
    "from pyspark.ml.functions import vector_to_array\n",
    "\n",
    "def expand_vector_column(df, vector_col, prefix):\n",
    "    \"\"\"Correct way to split a one-hot encoded vector column into individual columns using vector_to_array.\"\"\"\n",
    "    array_col = vector_col + \"_arr\"\n",
    "    df = df.withColumn(array_col, vector_to_array(col(vector_col)))\n",
    "    vector_size = len(df.select(array_col).first()[0])  # fixed this line\n",
    "    for i in range(vector_size):\n",
    "        df = df.withColumn(f\"{prefix}_{i}\", col(array_col)[i])\n",
    "    return df.drop(array_col)\n",
    "\n",
    "# Example application\n",
    "columns_to_expand = [\"cat_id_ohe\", \"state_id_ohe\", \"month_ohe\", \"dayofweek_ohe\", \"event_type_1_ohe\", \"event_type_2_ohe\"]\n",
    "\n",
    "train_input_expand = train_input_encoded\n",
    "for col_name in columns_to_expand:\n",
    "    train_input_expand = expand_vector_column(train_input_expand, col_name, col_name)\n",
    "\n",
    "test_input_expand = test_input_encoded\n",
    "for col_name in columns_to_expand:\n",
    "    test_input_expand = expand_vector_column(test_input_expand, col_name, col_name)\n",
    "\n",
    "final_input_expand = final_input_encoded\n",
    "for col_name in columns_to_expand:\n",
    "    final_input_expand = expand_vector_column(final_input_expand, col_name, col_name)\n"
   ]
  },
  {
   "cell_type": "code",
   "execution_count": 0,
   "metadata": {
    "application/vnd.databricks.v1+cell": {
     "cellMetadata": {
      "byteLimit": 2048000,
      "rowLimit": 10000
     },
     "inputWidgets": {},
     "nuid": "c2635da3-1850-4079-a8bf-969715e6cff7",
     "showTitle": false,
     "tableResultSettingsMap": {},
     "title": ""
    }
   },
   "outputs": [
    {
     "output_type": "stream",
     "name": "stdout",
     "output_type": "stream",
     "text": [
      "root\n |-- store_id: string (nullable = true)\n |-- item_id: string (nullable = true)\n |-- d: string (nullable = true)\n |-- cat_id: string (nullable = true)\n |-- state_id: string (nullable = true)\n |-- month: integer (nullable = true)\n |-- dayofweek: integer (nullable = true)\n |-- is_weekend: integer (nullable = false)\n |-- event_type_1: string (nullable = true)\n |-- event_type_2: string (nullable = true)\n |-- snap: integer (nullable = false)\n |-- price_norm: double (nullable = true)\n |-- price_change: double (nullable = true)\n |-- first_sale_day: date (nullable = true)\n |-- days_since_first_sale: integer (nullable = true)\n |-- sell units: string (nullable = true)\n |-- cat_id_index: double (nullable = false)\n |-- state_id_index: double (nullable = false)\n |-- month_index: double (nullable = false)\n |-- dayofweek_index: double (nullable = false)\n |-- event_type_1_index: double (nullable = false)\n |-- event_type_2_index: double (nullable = false)\n |-- cat_id_ohe: vector (nullable = true)\n |-- state_id_ohe: vector (nullable = true)\n |-- month_ohe: vector (nullable = true)\n |-- dayofweek_ohe: vector (nullable = true)\n |-- event_type_1_ohe: vector (nullable = true)\n |-- event_type_2_ohe: vector (nullable = true)\n |-- cat_id_ohe_0: double (nullable = true)\n |-- cat_id_ohe_1: double (nullable = true)\n |-- cat_id_ohe_2: double (nullable = true)\n |-- state_id_ohe_0: double (nullable = true)\n |-- state_id_ohe_1: double (nullable = true)\n |-- state_id_ohe_2: double (nullable = true)\n |-- month_ohe_0: double (nullable = true)\n |-- month_ohe_1: double (nullable = true)\n |-- month_ohe_2: double (nullable = true)\n |-- month_ohe_3: double (nullable = true)\n |-- month_ohe_4: double (nullable = true)\n |-- month_ohe_5: double (nullable = true)\n |-- month_ohe_6: double (nullable = true)\n |-- month_ohe_7: double (nullable = true)\n |-- month_ohe_8: double (nullable = true)\n |-- month_ohe_9: double (nullable = true)\n |-- month_ohe_10: double (nullable = true)\n |-- month_ohe_11: double (nullable = true)\n |-- dayofweek_ohe_0: double (nullable = true)\n |-- dayofweek_ohe_1: double (nullable = true)\n |-- dayofweek_ohe_2: double (nullable = true)\n |-- dayofweek_ohe_3: double (nullable = true)\n |-- dayofweek_ohe_4: double (nullable = true)\n |-- dayofweek_ohe_5: double (nullable = true)\n |-- dayofweek_ohe_6: double (nullable = true)\n |-- event_type_1_ohe_0: double (nullable = true)\n |-- event_type_1_ohe_1: double (nullable = true)\n |-- event_type_1_ohe_2: double (nullable = true)\n |-- event_type_1_ohe_3: double (nullable = true)\n |-- event_type_2_ohe_0: double (nullable = true)\n\n"
     ]
    }
   ],
   "source": [
    "train_input_expand.printSchema()"
   ]
  },
  {
   "cell_type": "markdown",
   "metadata": {
    "application/vnd.databricks.v1+cell": {
     "cellMetadata": {},
     "inputWidgets": {},
     "nuid": "2c587674-ddda-4496-88ed-c9cc2200e9b3",
     "showTitle": false,
     "tableResultSettingsMap": {},
     "title": ""
    }
   },
   "source": [
    "select features we need"
   ]
  },
  {
   "cell_type": "code",
   "execution_count": 0,
   "metadata": {
    "application/vnd.databricks.v1+cell": {
     "cellMetadata": {
      "byteLimit": 2048000,
      "rowLimit": 10000
     },
     "inputWidgets": {},
     "nuid": "77c82920-7881-47a6-a7b3-07c862f565a0",
     "showTitle": false,
     "tableResultSettingsMap": {},
     "title": ""
    }
   },
   "outputs": [],
   "source": [
    "train_input_expand_1 = train_input_expand.drop(\n",
    "    \"cat_id_index\", \"state_id_index\", \"month_index\", \"dayofweek_index\",\n",
    "    \"event_type_1_index\", \"event_type_2_index\",\n",
    "    \"cat_id_ohe\", \"state_id_ohe\", \"month_ohe\", \"dayofweek_ohe\",\n",
    "    \"event_type_1_ohe\", \"event_type_2_ohe\",  \"cat_id\", \"state_id\", \"month\", \"dayofweek\", \"event_type_1\", \"event_type_2\"\n",
    ")\n",
    "\n",
    "test_input_expand_1 = test_input_expand.drop(\n",
    "    \"cat_id_index\", \"state_id_index\", \"month_index\", \"dayofweek_index\",\n",
    "    \"event_type_1_index\", \"event_type_2_index\",\n",
    "    \"cat_id_ohe\", \"state_id_ohe\", \"month_ohe\", \"dayofweek_ohe\",\n",
    "    \"event_type_1_ohe\", \"event_type_2_ohe\",  \"cat_id\", \"state_id\", \"month\", \"dayofweek\", \"event_type_1\", \"event_type_2\"\n",
    ")\n",
    "\n",
    "final_input_expand_1 = final_input_expand.drop(\n",
    "    \"cat_id_index\", \"state_id_index\", \"month_index\", \"dayofweek_index\",\n",
    "    \"event_type_1_index\", \"event_type_2_index\",\n",
    "    \"cat_id_ohe\", \"state_id_ohe\", \"month_ohe\", \"dayofweek_ohe\",\n",
    "    \"event_type_1_ohe\", \"event_type_2_ohe\",  \"cat_id\", \"state_id\", \"month\", \"dayofweek\", \"event_type_1\", \"event_type_2\"\n",
    ")\n",
    "\n"
   ]
  },
  {
   "cell_type": "markdown",
   "metadata": {
    "application/vnd.databricks.v1+cell": {
     "cellMetadata": {},
     "inputWidgets": {},
     "nuid": "34bca329-1fbe-4897-b84b-b9db6dc6e949",
     "showTitle": false,
     "tableResultSettingsMap": {},
     "title": ""
    }
   },
   "source": [
    "normalized price_change, days_since_first_sale, sell units"
   ]
  },
  {
   "cell_type": "code",
   "execution_count": 0,
   "metadata": {
    "application/vnd.databricks.v1+cell": {
     "cellMetadata": {
      "byteLimit": 2048000,
      "rowLimit": 10000
     },
     "inputWidgets": {},
     "nuid": "9f479611-2032-40c2-b2a1-df21248782ff",
     "showTitle": false,
     "tableResultSettingsMap": {},
     "title": ""
    }
   },
   "outputs": [],
   "source": [
    "from pyspark.sql import functions as F\n",
    "\n",
    "# List of columns you want to standardize\n",
    "inputCols = [\"price_change\", \"days_since_first_sale\", \"sell units\"]\n",
    "\n",
    "# Initialize the DataFrames for transformation\n",
    "train_input_norm = train_input_expand_1\n",
    "test_input_norm = test_input_expand_1\n",
    "final_input_norm = final_input_expand_1\n",
    "\n",
    "# For each column, compute mean and stddev\n",
    "for col in inputCols:\n",
    "    # Compute mean and standard deviation for the column\n",
    "    mean = train_input_norm.agg({col: \"mean\"}).collect()[0][0]\n",
    "    stddev = train_input_norm.agg({col: \"stddev\"}).collect()[0][0]\n",
    "    \n",
    "    # Apply standardization to the train, test, and final data\n",
    "    train_input_norm = train_input_norm.withColumn(col + \"_scaled\", (F.col(col) - mean) / stddev)\n",
    "    test_input_norm = test_input_norm.withColumn(col + \"_scaled\", (F.col(col) - mean) / stddev)\n",
    "    final_input_norm = final_input_norm.withColumn(col + \"_scaled\", (F.col(col) - mean) / stddev)\n"
   ]
  },
  {
   "cell_type": "code",
   "execution_count": 0,
   "metadata": {
    "application/vnd.databricks.v1+cell": {
     "cellMetadata": {
      "byteLimit": 2048000,
      "rowLimit": 10000
     },
     "inputWidgets": {},
     "nuid": "45e6dd08-27f1-4dfe-8b9c-f5fd9228ed21",
     "showTitle": false,
     "tableResultSettingsMap": {},
     "title": ""
    }
   },
   "outputs": [],
   "source": [
    "train_input_norm_1 = train_input_norm.drop(\n",
    "    \"price_change\",\"sell units\"\n",
    ")\n",
    "test_input_norm_1 = test_input_norm.drop(\n",
    "    \"price_change\",\"sell units\"\n",
    ")\n",
    "final_input_norm_1 = final_input_norm.drop(\n",
    "    \"price_change\",\"sell units\"\n",
    ")\n",
    "\n"
   ]
  },
  {
   "cell_type": "code",
   "execution_count": 0,
   "metadata": {
    "application/vnd.databricks.v1+cell": {
     "cellMetadata": {
      "byteLimit": 2048000,
      "rowLimit": 10000
     },
     "inputWidgets": {},
     "nuid": "0065406a-2428-4a3c-ab2b-386439699991",
     "showTitle": false,
     "tableResultSettingsMap": {},
     "title": ""
    }
   },
   "outputs": [],
   "source": [
    "train_target = train_target.select(\"store_id\", \"item_id\", \"date\",\"sell units\")\n",
    "test_target = test_target.select(\"store_id\", \"item_id\", \"date\",\"sell units\")"
   ]
  },
  {
   "cell_type": "code",
   "execution_count": 0,
   "metadata": {
    "application/vnd.databricks.v1+cell": {
     "cellMetadata": {
      "byteLimit": 2048000,
      "rowLimit": 10000
     },
     "inputWidgets": {},
     "nuid": "72d64eee-1583-4ca2-8478-e24330e80bdc",
     "showTitle": false,
     "tableResultSettingsMap": {},
     "title": ""
    }
   },
   "outputs": [],
   "source": [
    "train_input_norm_1.write.parquet(\"/dbfs/FileStore/predictive/train_input.parquet\")\n",
    "test_input_norm_1.write.parquet(\"/dbfs/FileStore/predictive/test_input.parquet\")\n",
    "final_input_norm_1.write.parquet(\"/dbfs/FileStore/predictive/final_input.parquet\")\n",
    "train_target.write.parquet(\"/dbfs/FileStore/predictive/train_target.parquet\")\n",
    "test_target.write.parquet(\"/dbfs/FileStore/predictive/test_target.parquet\")"
   ]
  },
  {
   "cell_type": "markdown",
   "metadata": {
    "application/vnd.databricks.v1+cell": {
     "cellMetadata": {},
     "inputWidgets": {},
     "nuid": "a92dbdeb-5af3-4b25-b9bf-c0ea35945527",
     "showTitle": false,
     "tableResultSettingsMap": {},
     "title": ""
    }
   },
   "source": [
    "turn features to -10 if the item didn't start to sell. use padding mask and set special value = -10 later in training process"
   ]
  },
  {
   "cell_type": "code",
   "execution_count": 0,
   "metadata": {
    "application/vnd.databricks.v1+cell": {
     "cellMetadata": {
      "byteLimit": 2048000,
      "rowLimit": 10000
     },
     "inputWidgets": {},
     "nuid": "e7f78019-2ea8-41e0-8d01-073e180690ae",
     "showTitle": false,
     "tableResultSettingsMap": {},
     "title": ""
    }
   },
   "outputs": [],
   "source": [
    "from pyspark.sql import functions as F\n",
    "\n",
    "# List of columns you want to check for null or pad with -10\n",
    "columns_to_check = [\n",
    " \"is_weekend\", \"snap\", \"price_norm\",\n",
    "    \"cat_id_ohe_0\", \"cat_id_ohe_1\", \"cat_id_ohe_2\",\n",
    "    \"state_id_ohe_0\", \"state_id_ohe_1\", \"state_id_ohe_2\",\n",
    "    \"month_ohe_0\", \"month_ohe_1\", \"month_ohe_2\", \"month_ohe_3\",\n",
    "    \"month_ohe_4\", \"month_ohe_5\", \"month_ohe_6\", \"month_ohe_7\",\n",
    "    \"month_ohe_8\", \"month_ohe_9\", \"month_ohe_10\", \"month_ohe_11\",\n",
    "    \"dayofweek_ohe_0\", \"dayofweek_ohe_1\", \"dayofweek_ohe_2\",\n",
    "    \"dayofweek_ohe_3\", \"dayofweek_ohe_4\", \"dayofweek_ohe_5\", \"dayofweek_ohe_6\",\n",
    "    \"event_type_1_ohe_0\", \"event_type_1_ohe_1\", \"event_type_1_ohe_2\", \"event_type_1_ohe_3\",\n",
    "    \"event_type_2_ohe_0\",\n",
    "    \"price_change_scaled\", \"days_since_first_sale_scaled\", \"sell units_scaled\"\n",
    "]\n",
    "pad_train_input = train_input_norm_1\n",
    "pad_test_input = test_input_norm_1\n",
    "pad_final_input = final_input_norm_1\n",
    "\n",
    "# Apply this condition to all columns\n",
    "for col in columns_to_check:\n",
    "    pad_train_input = pad_train_input.withColumn(col, F.when(F.col(\"days_since_first_sale\").cast(\"int\") == 0  , -10).otherwise(F.col(col)))\n",
    "    pad_test_input = pad_test_input.withColumn(col, F.when(F.col(\"days_since_first_sale\").cast(\"int\")== 0, -10).otherwise(F.col(col)))\n",
    "    pad_final_input = pad_final_input.withColumn(col, F.when(F.col(\"days_since_first_sale\").cast(\"int\") == 0, -10).otherwise(F.col(col)))\n"
   ]
  },
  {
   "cell_type": "code",
   "execution_count": 0,
   "metadata": {
    "application/vnd.databricks.v1+cell": {
     "cellMetadata": {
      "byteLimit": 2048000,
      "rowLimit": 10000
     },
     "inputWidgets": {},
     "nuid": "862b8fb1-b1a2-4c9f-9246-f32021a1226f",
     "showTitle": false,
     "tableResultSettingsMap": {},
     "title": ""
    }
   },
   "outputs": [],
   "source": [
    "pad_train_input = pad_train_input.drop(\"first_sale_day\",\"days_since_first_sale\")\n",
    "pad_test_input = pad_test_input.drop(\"first_sale_day\",\"days_since_first_sale\")\n",
    "pad_final_input = pad_final_input.drop(\"first_sale_day\",\"days_since_first_sale\")"
   ]
  },
  {
   "cell_type": "code",
   "execution_count": 0,
   "metadata": {
    "application/vnd.databricks.v1+cell": {
     "cellMetadata": {
      "byteLimit": 2048000,
      "rowLimit": 10000
     },
     "inputWidgets": {},
     "nuid": "fcc830f3-feb3-4e84-ab0c-876f56307757",
     "showTitle": false,
     "tableResultSettingsMap": {},
     "title": ""
    }
   },
   "outputs": [],
   "source": [
    "pad_train_input.write.parquet(\"/dbfs/FileStore/predictive/train_input_pad.parquet\")\n",
    "pad_test_input.write.parquet(\"/dbfs/FileStore/predictive/test_input_pad.parquet\")\n",
    "pad_final_input.write.parquet(\"/dbfs/FileStore/predictive/final_input_pad.parquet\")"
   ]
  },
  {
   "cell_type": "code",
   "execution_count": 0,
   "metadata": {
    "application/vnd.databricks.v1+cell": {
     "cellMetadata": {
      "byteLimit": 2048000,
      "rowLimit": 10000
     },
     "inputWidgets": {},
     "nuid": "aa1ecf78-c416-4ff2-ab35-4b58fee60c03",
     "showTitle": false,
     "tableResultSettingsMap": {},
     "title": ""
    }
   },
   "outputs": [
    {
     "output_type": "display_data",
     "data": {
      "text/html": [
       "<style scoped>\n",
       "  .table-result-container {\n",
       "    max-height: 300px;\n",
       "    overflow: auto;\n",
       "  }\n",
       "  table, th, td {\n",
       "    border: 1px solid black;\n",
       "    border-collapse: collapse;\n",
       "  }\n",
       "  th, td {\n",
       "    padding: 5px;\n",
       "  }\n",
       "  th {\n",
       "    text-align: left;\n",
       "  }\n",
       "</style><div class='table-result-container'><table class='table-result'><thead style='background-color: white'><tr><th>path</th><th>name</th><th>size</th><th>modificationTime</th></tr></thead><tbody><tr><td>dbfs:/dbfs/FileStore/predictive/final_input.parquet/</td><td>final_input.parquet/</td><td>0</td><td>0</td></tr><tr><td>dbfs:/dbfs/FileStore/predictive/final_input_pad.parquet/</td><td>final_input_pad.parquet/</td><td>0</td><td>0</td></tr><tr><td>dbfs:/dbfs/FileStore/predictive/test_input.parquet/</td><td>test_input.parquet/</td><td>0</td><td>0</td></tr><tr><td>dbfs:/dbfs/FileStore/predictive/test_input_pad.parquet/</td><td>test_input_pad.parquet/</td><td>0</td><td>0</td></tr><tr><td>dbfs:/dbfs/FileStore/predictive/test_target.parquet/</td><td>test_target.parquet/</td><td>0</td><td>0</td></tr><tr><td>dbfs:/dbfs/FileStore/predictive/train_input.parquet/</td><td>train_input.parquet/</td><td>0</td><td>0</td></tr><tr><td>dbfs:/dbfs/FileStore/predictive/train_input_pad.parquet/</td><td>train_input_pad.parquet/</td><td>0</td><td>0</td></tr><tr><td>dbfs:/dbfs/FileStore/predictive/train_target.parquet/</td><td>train_target.parquet/</td><td>0</td><td>0</td></tr></tbody></table></div>"
      ]
     },
     "metadata": {
      "application/vnd.databricks.v1+output": {
       "addedWidgets": {},
       "aggData": [],
       "aggError": "",
       "aggOverflow": false,
       "aggSchema": [],
       "aggSeriesLimitReached": false,
       "aggType": "",
       "arguments": {},
       "columnCustomDisplayInfos": {},
       "data": [
        [
         "dbfs:/dbfs/FileStore/predictive/final_input.parquet/",
         "final_input.parquet/",
         0,
         0
        ],
        [
         "dbfs:/dbfs/FileStore/predictive/final_input_pad.parquet/",
         "final_input_pad.parquet/",
         0,
         0
        ],
        [
         "dbfs:/dbfs/FileStore/predictive/test_input.parquet/",
         "test_input.parquet/",
         0,
         0
        ],
        [
         "dbfs:/dbfs/FileStore/predictive/test_input_pad.parquet/",
         "test_input_pad.parquet/",
         0,
         0
        ],
        [
         "dbfs:/dbfs/FileStore/predictive/test_target.parquet/",
         "test_target.parquet/",
         0,
         0
        ],
        [
         "dbfs:/dbfs/FileStore/predictive/train_input.parquet/",
         "train_input.parquet/",
         0,
         0
        ],
        [
         "dbfs:/dbfs/FileStore/predictive/train_input_pad.parquet/",
         "train_input_pad.parquet/",
         0,
         0
        ],
        [
         "dbfs:/dbfs/FileStore/predictive/train_target.parquet/",
         "train_target.parquet/",
         0,
         0
        ]
       ],
       "datasetInfos": [],
       "dbfsResultPath": null,
       "isJsonSchema": true,
       "metadata": {
        "isDbfsCommandResult": false
       },
       "overflow": false,
       "plotOptions": {
        "customPlotOptions": {},
        "displayType": "table",
        "pivotAggregation": null,
        "pivotColumns": null,
        "xColumns": null,
        "yColumns": null
       },
       "removedWidgets": [],
       "schema": [
        {
         "metadata": "{}",
         "name": "path",
         "type": "\"string\""
        },
        {
         "metadata": "{}",
         "name": "name",
         "type": "\"string\""
        },
        {
         "metadata": "{}",
         "name": "size",
         "type": "\"long\""
        },
        {
         "metadata": "{}",
         "name": "modificationTime",
         "type": "\"long\""
        }
       ],
       "type": "table"
      }
     },
     "output_type": "display_data"
    }
   ],
   "source": [
    "%fs ls dbfs:/dbfs/FileStore/predictive"
   ]
  },
  {
   "cell_type": "code",
   "execution_count": 0,
   "metadata": {
    "application/vnd.databricks.v1+cell": {
     "cellMetadata": {
      "byteLimit": 2048000,
      "rowLimit": 10000
     },
     "inputWidgets": {},
     "nuid": "9bf6b4d8-a174-4e5c-a578-d811a4e7aa36",
     "showTitle": false,
     "tableResultSettingsMap": {},
     "title": ""
    }
   },
   "outputs": [
    {
     "output_type": "stream",
     "name": "stdout",
     "output_type": "stream",
     "text": [
      "Out[39]: True"
     ]
    }
   ],
   "source": [
    "# dbutils.fs.cp(\"dbfs:/dbfs/FileStore/predictive/final_input_pad.parquet\", \"dbfs:/FileStore/predictive_clean/final_input_pad.parquet\", recurse=True)\n",
    "# dbutils.fs.cp(\"dbfs:/dbfs/FileStore/predictive/test_input_pad.parquet\", \"dbfs:/FileStore/predictive_clean/test_input_pad.parquet\", recurse=True)\n",
    "# dbutils.fs.cp(\"dbfs:/dbfs/FileStore/predictive/train_input_pad.parquet\", \"dbfs:/FileStore/predictive_clean/train_input_pad.parquet\", recurse=True)\n",
    "# dbutils.fs.cp(\"dbfs:/dbfs/FileStore/predictive/train_target.parquet\", \"dbfs:/FileStore/predictive_clean/train_target.parquet\", recurse=True)\n",
    "# dbutils.fs.cp(\"dbfs:/dbfs/FileStore/predictive/test_target.parquet\", \"dbfs:/FileStore/predictive_clean/test_target.parquet\", recurse=True)\n",
    "\n",
    "dbutils.fs.cp(\"dbfs:/FileStore/predictive_clean/test_input_pad.parquet\", \n",
    "              \"file:/dbfs/FileStore/predictive_clean/test_input_pad.parquet\", \n",
    "              recurse=True)\n",
    "dbutils.fs.cp(\"dbfs:/FileStore/predictive_clean/train_input_pad.parquet\", \n",
    "              \"file:/dbfs/FileStore/predictive_clean/train_input_pad.parquet\", \n",
    "              recurse=True)\n",
    "dbutils.fs.cp(\"dbfs:/FileStore/predictive_clean/final_input_pad.parquet\", \n",
    "              \"file:/dbfs/FileStore/predictive_clean/final_input_pad.parquet\", \n",
    "              recurse=True)\n",
    "dbutils.fs.cp(\"dbfs:/FileStore/predictive_clean/test_target.parquet\", \n",
    "              \"file:/dbfs/FileStore/predictive_clean/test_target.parquet\", \n",
    "              recurse=True)\n",
    "dbutils.fs.cp(\"dbfs:/FileStore/predictive_clean/train_target.parquet\", \n",
    "              \"file:/dbfs/FileStore/predictive_clean/train_target.parquet\", \n",
    "              recurse=True)\n",
    "\n"
   ]
  },
  {
   "cell_type": "code",
   "execution_count": 0,
   "metadata": {
    "application/vnd.databricks.v1+cell": {
     "cellMetadata": {
      "byteLimit": 2048000,
      "rowLimit": 10000
     },
     "inputWidgets": {},
     "nuid": "15501477-4f36-42b1-bb36-9e6ca1debd9b",
     "showTitle": false,
     "tableResultSettingsMap": {},
     "title": ""
    }
   },
   "outputs": [
    {
     "output_type": "display_data",
     "data": {
      "text/html": [
       "<style scoped>\n",
       "  .table-result-container {\n",
       "    max-height: 300px;\n",
       "    overflow: auto;\n",
       "  }\n",
       "  table, th, td {\n",
       "    border: 1px solid black;\n",
       "    border-collapse: collapse;\n",
       "  }\n",
       "  th, td {\n",
       "    padding: 5px;\n",
       "  }\n",
       "  th {\n",
       "    text-align: left;\n",
       "  }\n",
       "</style><div class='table-result-container'><table class='table-result'><thead style='background-color: white'><tr><th>path</th><th>name</th><th>size</th><th>modificationTime</th></tr></thead><tbody><tr><td>dbfs:/FileStore/predictive_clean/final_input_pad.parquet/</td><td>final_input_pad.parquet/</td><td>0</td><td>0</td></tr><tr><td>dbfs:/FileStore/predictive_clean/test_input_pad.parquet/</td><td>test_input_pad.parquet/</td><td>0</td><td>0</td></tr><tr><td>dbfs:/FileStore/predictive_clean/test_target.parquet/</td><td>test_target.parquet/</td><td>0</td><td>0</td></tr><tr><td>dbfs:/FileStore/predictive_clean/train_input_pad.parquet/</td><td>train_input_pad.parquet/</td><td>0</td><td>0</td></tr><tr><td>dbfs:/FileStore/predictive_clean/train_target.parquet/</td><td>train_target.parquet/</td><td>0</td><td>0</td></tr></tbody></table></div>"
      ]
     },
     "metadata": {
      "application/vnd.databricks.v1+output": {
       "addedWidgets": {},
       "aggData": [],
       "aggError": "",
       "aggOverflow": false,
       "aggSchema": [],
       "aggSeriesLimitReached": false,
       "aggType": "",
       "arguments": {},
       "columnCustomDisplayInfos": {},
       "data": [
        [
         "dbfs:/FileStore/predictive_clean/final_input_pad.parquet/",
         "final_input_pad.parquet/",
         0,
         0
        ],
        [
         "dbfs:/FileStore/predictive_clean/test_input_pad.parquet/",
         "test_input_pad.parquet/",
         0,
         0
        ],
        [
         "dbfs:/FileStore/predictive_clean/test_target.parquet/",
         "test_target.parquet/",
         0,
         0
        ],
        [
         "dbfs:/FileStore/predictive_clean/train_input_pad.parquet/",
         "train_input_pad.parquet/",
         0,
         0
        ],
        [
         "dbfs:/FileStore/predictive_clean/train_target.parquet/",
         "train_target.parquet/",
         0,
         0
        ]
       ],
       "datasetInfos": [],
       "dbfsResultPath": null,
       "isJsonSchema": true,
       "metadata": {
        "isDbfsCommandResult": false
       },
       "overflow": false,
       "plotOptions": {
        "customPlotOptions": {},
        "displayType": "table",
        "pivotAggregation": null,
        "pivotColumns": null,
        "xColumns": null,
        "yColumns": null
       },
       "removedWidgets": [],
       "schema": [
        {
         "metadata": "{}",
         "name": "path",
         "type": "\"string\""
        },
        {
         "metadata": "{}",
         "name": "name",
         "type": "\"string\""
        },
        {
         "metadata": "{}",
         "name": "size",
         "type": "\"long\""
        },
        {
         "metadata": "{}",
         "name": "modificationTime",
         "type": "\"long\""
        }
       ],
       "type": "table"
      }
     },
     "output_type": "display_data"
    }
   ],
   "source": [
    "%fs ls /FileStore/predictive_clean/"
   ]
  },
  {
   "cell_type": "code",
   "execution_count": 0,
   "metadata": {
    "application/vnd.databricks.v1+cell": {
     "cellMetadata": {
      "byteLimit": 2048000,
      "rowLimit": 10000
     },
     "inputWidgets": {},
     "nuid": "3ca9d1b6-5c70-4638-a34c-e78e9e11d945",
     "showTitle": false,
     "tableResultSettingsMap": {},
     "title": ""
    }
   },
   "outputs": [
    {
     "output_type": "display_data",
     "data": {
      "text/html": [
       "<style scoped>\n",
       "  .table-result-container {\n",
       "    max-height: 300px;\n",
       "    overflow: auto;\n",
       "  }\n",
       "  table, th, td {\n",
       "    border: 1px solid black;\n",
       "    border-collapse: collapse;\n",
       "  }\n",
       "  th, td {\n",
       "    padding: 5px;\n",
       "  }\n",
       "  th {\n",
       "    text-align: left;\n",
       "  }\n",
       "</style><div class='table-result-container'><table class='table-result'><thead style='background-color: white'><tr><th>path</th><th>name</th><th>size</th><th>modificationTime</th></tr></thead><tbody><tr><td>dbfs:/FileStore/predictive_clean/test_input_pad.parquet/_SUCCESS</td><td>_SUCCESS</td><td>0</td><td>1746121954000</td></tr><tr><td>dbfs:/FileStore/predictive_clean/test_input_pad.parquet/_committed_6341098318129863703</td><td>_committed_6341098318129863703</td><td>1248</td><td>1746121954000</td></tr><tr><td>dbfs:/FileStore/predictive_clean/test_input_pad.parquet/_started_6341098318129863703</td><td>_started_6341098318129863703</td><td>0</td><td>1746121955000</td></tr><tr><td>dbfs:/FileStore/predictive_clean/test_input_pad.parquet/part-00000-tid-6341098318129863703-f4da18e6-eea9-4d99-8265-c704d5bd6593-10707-1-c000.snappy.parquet</td><td>part-00000-tid-6341098318129863703-f4da18e6-eea9-4d99-8265-c704d5bd6593-10707-1-c000.snappy.parquet</td><td>2823196</td><td>1746121955000</td></tr><tr><td>dbfs:/FileStore/predictive_clean/test_input_pad.parquet/part-00001-tid-6341098318129863703-f4da18e6-eea9-4d99-8265-c704d5bd6593-10708-1-c000.snappy.parquet</td><td>part-00001-tid-6341098318129863703-f4da18e6-eea9-4d99-8265-c704d5bd6593-10708-1-c000.snappy.parquet</td><td>2841911</td><td>1746121956000</td></tr><tr><td>dbfs:/FileStore/predictive_clean/test_input_pad.parquet/part-00002-tid-6341098318129863703-f4da18e6-eea9-4d99-8265-c704d5bd6593-10709-1-c000.snappy.parquet</td><td>part-00002-tid-6341098318129863703-f4da18e6-eea9-4d99-8265-c704d5bd6593-10709-1-c000.snappy.parquet</td><td>2930372</td><td>1746121957000</td></tr><tr><td>dbfs:/FileStore/predictive_clean/test_input_pad.parquet/part-00003-tid-6341098318129863703-f4da18e6-eea9-4d99-8265-c704d5bd6593-10710-1-c000.snappy.parquet</td><td>part-00003-tid-6341098318129863703-f4da18e6-eea9-4d99-8265-c704d5bd6593-10710-1-c000.snappy.parquet</td><td>2836645</td><td>1746121958000</td></tr><tr><td>dbfs:/FileStore/predictive_clean/test_input_pad.parquet/part-00004-tid-6341098318129863703-f4da18e6-eea9-4d99-8265-c704d5bd6593-10711-1-c000.snappy.parquet</td><td>part-00004-tid-6341098318129863703-f4da18e6-eea9-4d99-8265-c704d5bd6593-10711-1-c000.snappy.parquet</td><td>2878417</td><td>1746121959000</td></tr><tr><td>dbfs:/FileStore/predictive_clean/test_input_pad.parquet/part-00005-tid-6341098318129863703-f4da18e6-eea9-4d99-8265-c704d5bd6593-10712-1-c000.snappy.parquet</td><td>part-00005-tid-6341098318129863703-f4da18e6-eea9-4d99-8265-c704d5bd6593-10712-1-c000.snappy.parquet</td><td>2726292</td><td>1746121959000</td></tr><tr><td>dbfs:/FileStore/predictive_clean/test_input_pad.parquet/part-00006-tid-6341098318129863703-f4da18e6-eea9-4d99-8265-c704d5bd6593-10713-1-c000.snappy.parquet</td><td>part-00006-tid-6341098318129863703-f4da18e6-eea9-4d99-8265-c704d5bd6593-10713-1-c000.snappy.parquet</td><td>2772999</td><td>1746121960000</td></tr><tr><td>dbfs:/FileStore/predictive_clean/test_input_pad.parquet/part-00007-tid-6341098318129863703-f4da18e6-eea9-4d99-8265-c704d5bd6593-10714-1-c000.snappy.parquet</td><td>part-00007-tid-6341098318129863703-f4da18e6-eea9-4d99-8265-c704d5bd6593-10714-1-c000.snappy.parquet</td><td>2750071</td><td>1746121961000</td></tr><tr><td>dbfs:/FileStore/predictive_clean/test_input_pad.parquet/part-00008-tid-6341098318129863703-f4da18e6-eea9-4d99-8265-c704d5bd6593-10715-1-c000.snappy.parquet</td><td>part-00008-tid-6341098318129863703-f4da18e6-eea9-4d99-8265-c704d5bd6593-10715-1-c000.snappy.parquet</td><td>2781284</td><td>1746121962000</td></tr><tr><td>dbfs:/FileStore/predictive_clean/test_input_pad.parquet/part-00009-tid-6341098318129863703-f4da18e6-eea9-4d99-8265-c704d5bd6593-10716-1-c000.snappy.parquet</td><td>part-00009-tid-6341098318129863703-f4da18e6-eea9-4d99-8265-c704d5bd6593-10716-1-c000.snappy.parquet</td><td>2700505</td><td>1746121962000</td></tr><tr><td>dbfs:/FileStore/predictive_clean/test_input_pad.parquet/part-00010-tid-6341098318129863703-f4da18e6-eea9-4d99-8265-c704d5bd6593-10717-1-c000.snappy.parquet</td><td>part-00010-tid-6341098318129863703-f4da18e6-eea9-4d99-8265-c704d5bd6593-10717-1-c000.snappy.parquet</td><td>2857223</td><td>1746121963000</td></tr><tr><td>dbfs:/FileStore/predictive_clean/test_input_pad.parquet/part-00011-tid-6341098318129863703-f4da18e6-eea9-4d99-8265-c704d5bd6593-10718-1-c000.snappy.parquet</td><td>part-00011-tid-6341098318129863703-f4da18e6-eea9-4d99-8265-c704d5bd6593-10718-1-c000.snappy.parquet</td><td>1888318</td><td>1746121964000</td></tr></tbody></table></div>"
      ]
     },
     "metadata": {
      "application/vnd.databricks.v1+output": {
       "addedWidgets": {},
       "aggData": [],
       "aggError": "",
       "aggOverflow": false,
       "aggSchema": [],
       "aggSeriesLimitReached": false,
       "aggType": "",
       "arguments": {},
       "columnCustomDisplayInfos": {},
       "data": [
        [
         "dbfs:/FileStore/predictive_clean/test_input_pad.parquet/_SUCCESS",
         "_SUCCESS",
         0,
         1746121954000
        ],
        [
         "dbfs:/FileStore/predictive_clean/test_input_pad.parquet/_committed_6341098318129863703",
         "_committed_6341098318129863703",
         1248,
         1746121954000
        ],
        [
         "dbfs:/FileStore/predictive_clean/test_input_pad.parquet/_started_6341098318129863703",
         "_started_6341098318129863703",
         0,
         1746121955000
        ],
        [
         "dbfs:/FileStore/predictive_clean/test_input_pad.parquet/part-00000-tid-6341098318129863703-f4da18e6-eea9-4d99-8265-c704d5bd6593-10707-1-c000.snappy.parquet",
         "part-00000-tid-6341098318129863703-f4da18e6-eea9-4d99-8265-c704d5bd6593-10707-1-c000.snappy.parquet",
         2823196,
         1746121955000
        ],
        [
         "dbfs:/FileStore/predictive_clean/test_input_pad.parquet/part-00001-tid-6341098318129863703-f4da18e6-eea9-4d99-8265-c704d5bd6593-10708-1-c000.snappy.parquet",
         "part-00001-tid-6341098318129863703-f4da18e6-eea9-4d99-8265-c704d5bd6593-10708-1-c000.snappy.parquet",
         2841911,
         1746121956000
        ],
        [
         "dbfs:/FileStore/predictive_clean/test_input_pad.parquet/part-00002-tid-6341098318129863703-f4da18e6-eea9-4d99-8265-c704d5bd6593-10709-1-c000.snappy.parquet",
         "part-00002-tid-6341098318129863703-f4da18e6-eea9-4d99-8265-c704d5bd6593-10709-1-c000.snappy.parquet",
         2930372,
         1746121957000
        ],
        [
         "dbfs:/FileStore/predictive_clean/test_input_pad.parquet/part-00003-tid-6341098318129863703-f4da18e6-eea9-4d99-8265-c704d5bd6593-10710-1-c000.snappy.parquet",
         "part-00003-tid-6341098318129863703-f4da18e6-eea9-4d99-8265-c704d5bd6593-10710-1-c000.snappy.parquet",
         2836645,
         1746121958000
        ],
        [
         "dbfs:/FileStore/predictive_clean/test_input_pad.parquet/part-00004-tid-6341098318129863703-f4da18e6-eea9-4d99-8265-c704d5bd6593-10711-1-c000.snappy.parquet",
         "part-00004-tid-6341098318129863703-f4da18e6-eea9-4d99-8265-c704d5bd6593-10711-1-c000.snappy.parquet",
         2878417,
         1746121959000
        ],
        [
         "dbfs:/FileStore/predictive_clean/test_input_pad.parquet/part-00005-tid-6341098318129863703-f4da18e6-eea9-4d99-8265-c704d5bd6593-10712-1-c000.snappy.parquet",
         "part-00005-tid-6341098318129863703-f4da18e6-eea9-4d99-8265-c704d5bd6593-10712-1-c000.snappy.parquet",
         2726292,
         1746121959000
        ],
        [
         "dbfs:/FileStore/predictive_clean/test_input_pad.parquet/part-00006-tid-6341098318129863703-f4da18e6-eea9-4d99-8265-c704d5bd6593-10713-1-c000.snappy.parquet",
         "part-00006-tid-6341098318129863703-f4da18e6-eea9-4d99-8265-c704d5bd6593-10713-1-c000.snappy.parquet",
         2772999,
         1746121960000
        ],
        [
         "dbfs:/FileStore/predictive_clean/test_input_pad.parquet/part-00007-tid-6341098318129863703-f4da18e6-eea9-4d99-8265-c704d5bd6593-10714-1-c000.snappy.parquet",
         "part-00007-tid-6341098318129863703-f4da18e6-eea9-4d99-8265-c704d5bd6593-10714-1-c000.snappy.parquet",
         2750071,
         1746121961000
        ],
        [
         "dbfs:/FileStore/predictive_clean/test_input_pad.parquet/part-00008-tid-6341098318129863703-f4da18e6-eea9-4d99-8265-c704d5bd6593-10715-1-c000.snappy.parquet",
         "part-00008-tid-6341098318129863703-f4da18e6-eea9-4d99-8265-c704d5bd6593-10715-1-c000.snappy.parquet",
         2781284,
         1746121962000
        ],
        [
         "dbfs:/FileStore/predictive_clean/test_input_pad.parquet/part-00009-tid-6341098318129863703-f4da18e6-eea9-4d99-8265-c704d5bd6593-10716-1-c000.snappy.parquet",
         "part-00009-tid-6341098318129863703-f4da18e6-eea9-4d99-8265-c704d5bd6593-10716-1-c000.snappy.parquet",
         2700505,
         1746121962000
        ],
        [
         "dbfs:/FileStore/predictive_clean/test_input_pad.parquet/part-00010-tid-6341098318129863703-f4da18e6-eea9-4d99-8265-c704d5bd6593-10717-1-c000.snappy.parquet",
         "part-00010-tid-6341098318129863703-f4da18e6-eea9-4d99-8265-c704d5bd6593-10717-1-c000.snappy.parquet",
         2857223,
         1746121963000
        ],
        [
         "dbfs:/FileStore/predictive_clean/test_input_pad.parquet/part-00011-tid-6341098318129863703-f4da18e6-eea9-4d99-8265-c704d5bd6593-10718-1-c000.snappy.parquet",
         "part-00011-tid-6341098318129863703-f4da18e6-eea9-4d99-8265-c704d5bd6593-10718-1-c000.snappy.parquet",
         1888318,
         1746121964000
        ]
       ],
       "datasetInfos": [],
       "dbfsResultPath": null,
       "isJsonSchema": true,
       "metadata": {
        "isDbfsCommandResult": false
       },
       "overflow": false,
       "plotOptions": {
        "customPlotOptions": {},
        "displayType": "table",
        "pivotAggregation": null,
        "pivotColumns": null,
        "xColumns": null,
        "yColumns": null
       },
       "removedWidgets": [],
       "schema": [
        {
         "metadata": "{}",
         "name": "path",
         "type": "\"string\""
        },
        {
         "metadata": "{}",
         "name": "name",
         "type": "\"string\""
        },
        {
         "metadata": "{}",
         "name": "size",
         "type": "\"long\""
        },
        {
         "metadata": "{}",
         "name": "modificationTime",
         "type": "\"long\""
        }
       ],
       "type": "table"
      }
     },
     "output_type": "display_data"
    }
   ],
   "source": [
    "\n",
    "%fs ls /FileStore/predictive_clean/test_input_pad.parquet/"
   ]
  },
  {
   "cell_type": "code",
   "execution_count": 0,
   "metadata": {
    "application/vnd.databricks.v1+cell": {
     "cellMetadata": {
      "byteLimit": 2048000,
      "rowLimit": 10000
     },
     "inputWidgets": {},
     "nuid": "dcda437a-8dbf-4414-8d23-685430dc0d00",
     "showTitle": false,
     "tableResultSettingsMap": {},
     "title": ""
    }
   },
   "outputs": [
    {
     "output_type": "stream",
     "name": "stdout",
     "output_type": "stream",
     "text": [
      "updating: train_input_pad.parquet/ (stored 0%)\nupdating: train_input_pad.parquet/._started_1124793087610049014.crc (stored 0%)\nupdating: train_input_pad.parquet/part-00003-tid-1124793087610049014-a4f75e2b-f77d-460c-be87-4b0a26fcc4ad-10297-1-c000.snappy.parquet (deflated 68%)\nupdating: train_input_pad.parquet/.part-00010-tid-1124793087610049014-a4f75e2b-f77d-460c-be87-4b0a26fcc4ad-10304-1-c000.snappy.parquet.crc (deflated 0%)\nupdating: train_input_pad.parquet/part-00006-tid-1124793087610049014-a4f75e2b-f77d-460c-be87-4b0a26fcc4ad-10300-1-c000.snappy.parquet (deflated 67%)\nupdating: train_input_pad.parquet/.part-00011-tid-1124793087610049014-a4f75e2b-f77d-460c-be87-4b0a26fcc4ad-10305-1-c000.snappy.parquet.crc (deflated 0%)\nupdating: train_input_pad.parquet/._SUCCESS.crc (stored 0%)\nupdating: train_input_pad.parquet/.part-00007-tid-1124793087610049014-a4f75e2b-f77d-460c-be87-4b0a26fcc4ad-10301-1-c000.snappy.parquet.crc (deflated 0%)\nupdating: train_input_pad.parquet/part-00005-tid-1124793087610049014-a4f75e2b-f77d-460c-be87-4b0a26fcc4ad-10299-1-c000.snappy.parquet (deflated 68%)\nupdating: train_input_pad.parquet/.part-00006-tid-1124793087610049014-a4f75e2b-f77d-460c-be87-4b0a26fcc4ad-10300-1-c000.snappy.parquet.crc (deflated 0%)\nupdating: train_input_pad.parquet/part-00000-tid-1124793087610049014-a4f75e2b-f77d-460c-be87-4b0a26fcc4ad-10294-1-c000.snappy.parquet (deflated 68%)\nupdating: train_input_pad.parquet/part-00008-tid-1124793087610049014-a4f75e2b-f77d-460c-be87-4b0a26fcc4ad-10302-1-c000.snappy.parquet (deflated 68%)\nupdating: train_input_pad.parquet/part-00001-tid-1124793087610049014-a4f75e2b-f77d-460c-be87-4b0a26fcc4ad-10295-1-c000.snappy.parquet (deflated 69%)\nupdating: train_input_pad.parquet/part-00009-tid-1124793087610049014-a4f75e2b-f77d-460c-be87-4b0a26fcc4ad-10303-1-c000.snappy.parquet (deflated 68%)\nupdating: train_input_pad.parquet/.part-00012-tid-1124793087610049014-a4f75e2b-f77d-460c-be87-4b0a26fcc4ad-10306-1-c000.snappy.parquet.crc (stored 0%)\nupdating: train_input_pad.parquet/part-00002-tid-1124793087610049014-a4f75e2b-f77d-460c-be87-4b0a26fcc4ad-10296-1-c000.snappy.parquet (deflated 68%)\nupdating: train_input_pad.parquet/.part-00002-tid-1124793087610049014-a4f75e2b-f77d-460c-be87-4b0a26fcc4ad-10296-1-c000.snappy.parquet.crc (deflated 0%)\nupdating: train_input_pad.parquet/._committed_1124793087610049014.crc (stored 0%)\nupdating: train_input_pad.parquet/part-00010-tid-1124793087610049014-a4f75e2b-f77d-460c-be87-4b0a26fcc4ad-10304-1-c000.snappy.parquet (deflated 66%)\nupdating: train_input_pad.parquet/.part-00005-tid-1124793087610049014-a4f75e2b-f77d-460c-be87-4b0a26fcc4ad-10299-1-c000.snappy.parquet.crc (deflated 0%)\nupdating: train_input_pad.parquet/part-00007-tid-1124793087610049014-a4f75e2b-f77d-460c-be87-4b0a26fcc4ad-10301-1-c000.snappy.parquet (deflated 68%)\nupdating: train_input_pad.parquet/_SUCCESS (stored 0%)\nupdating: train_input_pad.parquet/.part-00009-tid-1124793087610049014-a4f75e2b-f77d-460c-be87-4b0a26fcc4ad-10303-1-c000.snappy.parquet.crc (deflated 0%)\nupdating: train_input_pad.parquet/.part-00001-tid-1124793087610049014-a4f75e2b-f77d-460c-be87-4b0a26fcc4ad-10295-1-c000.snappy.parquet.crc (deflated 0%)\nupdating: train_input_pad.parquet/.part-00008-tid-1124793087610049014-a4f75e2b-f77d-460c-be87-4b0a26fcc4ad-10302-1-c000.snappy.parquet.crc (deflated 0%)\nupdating: train_input_pad.parquet/.part-00003-tid-1124793087610049014-a4f75e2b-f77d-460c-be87-4b0a26fcc4ad-10297-1-c000.snappy.parquet.crc (deflated 0%)\nupdating: train_input_pad.parquet/_committed_1124793087610049014 (deflated 87%)\nupdating: train_input_pad.parquet/part-00012-tid-1124793087610049014-a4f75e2b-f77d-460c-be87-4b0a26fcc4ad-10306-1-c000.snappy.parquet (deflated 64%)\nupdating: train_input_pad.parquet/_started_1124793087610049014 (stored 0%)\nupdating: train_input_pad.parquet/.part-00000-tid-1124793087610049014-a4f75e2b-f77d-460c-be87-4b0a26fcc4ad-10294-1-c000.snappy.parquet.crc (stored 0%)\nupdating: train_input_pad.parquet/part-00011-tid-1124793087610049014-a4f75e2b-f77d-460c-be87-4b0a26fcc4ad-10305-1-c000.snappy.parquet (deflated 69%)\nupdating: train_input_pad.parquet/part-00004-tid-1124793087610049014-a4f75e2b-f77d-460c-be87-4b0a26fcc4ad-10298-1-c000.snappy.parquet (deflated 68%)\nupdating: train_input_pad.parquet/.part-00004-tid-1124793087610049014-a4f75e2b-f77d-460c-be87-4b0a26fcc4ad-10298-1-c000.snappy.parquet.crc (deflated 0%)\nupdating: test_input_pad.parquet/ (stored 0%)\nupdating: test_input_pad.parquet/.part-00010-tid-6341098318129863703-f4da18e6-eea9-4d99-8265-c704d5bd6593-10717-1-c000.snappy.parquet.crc (deflated 0%)\nupdating: test_input_pad.parquet/.part-00004-tid-6341098318129863703-f4da18e6-eea9-4d99-8265-c704d5bd6593-10711-1-c000.snappy.parquet.crc (deflated 0%)\nupdating: test_input_pad.parquet/part-00005-tid-6341098318129863703-f4da18e6-eea9-4d99-8265-c704d5bd6593-10712-1-c000.snappy.parquet (deflated 65%)\nupdating: test_input_pad.parquet/part-00010-tid-6341098318129863703-f4da18e6-eea9-4d99-8265-c704d5bd6593-10717-1-c000.snappy.parquet (deflated 65%)\nupdating: test_input_pad.parquet/part-00011-tid-6341098318129863703-f4da18e6-eea9-4d99-8265-c704d5bd6593-10718-1-c000.snappy.parquet (deflated 64%)\nupdating: test_input_pad.parquet/.part-00006-tid-6341098318129863703-f4da18e6-eea9-4d99-8265-c704d5bd6593-10713-1-c000.snappy.parquet.crc (deflated 0%)\nupdating: test_input_pad.parquet/._SUCCESS.crc (stored 0%)\nupdating: test_input_pad.parquet/part-00007-tid-6341098318129863703-f4da18e6-eea9-4d99-8265-c704d5bd6593-10714-1-c000.snappy.parquet (deflated 64%)\nupdating: test_input_pad.parquet/part-00009-tid-6341098318129863703-f4da18e6-eea9-4d99-8265-c704d5bd6593-10716-1-c000.snappy.parquet (deflated 65%)\nupdating: test_input_pad.parquet/.part-00003-tid-6341098318129863703-f4da18e6-eea9-4d99-8265-c704d5bd6593-10710-1-c000.snappy.parquet.crc (deflated 0%)\nupdating: test_input_pad.parquet/part-00006-tid-6341098318129863703-f4da18e6-eea9-4d99-8265-c704d5bd6593-10713-1-c000.snappy.parquet (deflated 65%)\nupdating: test_input_pad.parquet/.part-00000-tid-6341098318129863703-f4da18e6-eea9-4d99-8265-c704d5bd6593-10707-1-c000.snappy.parquet.crc (stored 0%)\nupdating: test_input_pad.parquet/part-00004-tid-6341098318129863703-f4da18e6-eea9-4d99-8265-c704d5bd6593-10711-1-c000.snappy.parquet (deflated 65%)\nupdating: test_input_pad.parquet/.part-00002-tid-6341098318129863703-f4da18e6-eea9-4d99-8265-c704d5bd6593-10709-1-c000.snappy.parquet.crc (deflated 0%)\nupdating: test_input_pad.parquet/._committed_6341098318129863703.crc (stored 0%)\nupdating: test_input_pad.parquet/_SUCCESS (stored 0%)\nupdating: test_input_pad.parquet/_committed_6341098318129863703 (deflated 86%)\nupdating: test_input_pad.parquet/.part-00005-tid-6341098318129863703-f4da18e6-eea9-4d99-8265-c704d5bd6593-10712-1-c000.snappy.parquet.crc (deflated 0%)\nupdating: test_input_pad.parquet/part-00008-tid-6341098318129863703-f4da18e6-eea9-4d99-8265-c704d5bd6593-10715-1-c000.snappy.parquet (deflated 64%)\nupdating: test_input_pad.parquet/.part-00007-tid-6341098318129863703-f4da18e6-eea9-4d99-8265-c704d5bd6593-10714-1-c000.snappy.parquet.crc (stored 0%)\nupdating: test_input_pad.parquet/part-00002-tid-6341098318129863703-f4da18e6-eea9-4d99-8265-c704d5bd6593-10709-1-c000.snappy.parquet (deflated 64%)\nupdating: test_input_pad.parquet/part-00003-tid-6341098318129863703-f4da18e6-eea9-4d99-8265-c704d5bd6593-10710-1-c000.snappy.parquet (deflated 64%)\nupdating: test_input_pad.parquet/.part-00009-tid-6341098318129863703-f4da18e6-eea9-4d99-8265-c704d5bd6593-10716-1-c000.snappy.parquet.crc (deflated 0%)\nupdating: test_input_pad.parquet/.part-00008-tid-6341098318129863703-f4da18e6-eea9-4d99-8265-c704d5bd6593-10715-1-c000.snappy.parquet.crc (deflated 0%)\nupdating: test_input_pad.parquet/.part-00011-tid-6341098318129863703-f4da18e6-eea9-4d99-8265-c704d5bd6593-10718-1-c000.snappy.parquet.crc (stored 0%)\nupdating: test_input_pad.parquet/.part-00001-tid-6341098318129863703-f4da18e6-eea9-4d99-8265-c704d5bd6593-10708-1-c000.snappy.parquet.crc (deflated 0%)\nupdating: test_input_pad.parquet/part-00000-tid-6341098318129863703-f4da18e6-eea9-4d99-8265-c704d5bd6593-10707-1-c000.snappy.parquet (deflated 64%)\nupdating: test_input_pad.parquet/._started_6341098318129863703.crc (stored 0%)\nupdating: test_input_pad.parquet/_started_6341098318129863703 (stored 0%)\nupdating: test_input_pad.parquet/part-00001-tid-6341098318129863703-f4da18e6-eea9-4d99-8265-c704d5bd6593-10708-1-c000.snappy.parquet (deflated 65%)\nupdating: final_input_pad.parquet/ (stored 0%)\nupdating: final_input_pad.parquet/part-00009-tid-1198775509260456708-684ee51f-a544-446e-96d0-63abbc1a89f6-11128-1-c000.snappy.parquet (deflated 64%)\nupdating: final_input_pad.parquet/part-00008-tid-1198775509260456708-684ee51f-a544-446e-96d0-63abbc1a89f6-11127-1-c000.snappy.parquet (deflated 64%)\nupdating: final_input_pad.parquet/.part-00007-tid-1198775509260456708-684ee51f-a544-446e-96d0-63abbc1a89f6-11126-1-c000.snappy.parquet.crc (deflated 0%)\nupdating: final_input_pad.parquet/.part-00005-tid-1198775509260456708-684ee51f-a544-446e-96d0-63abbc1a89f6-11124-1-c000.snappy.parquet.crc (stored 0%)\nupdating: final_input_pad.parquet/.part-00003-tid-1198775509260456708-684ee51f-a544-446e-96d0-63abbc1a89f6-11122-1-c000.snappy.parquet.crc (deflated 0%)\nupdating: final_input_pad.parquet/._SUCCESS.crc (stored 0%)\nupdating: final_input_pad.parquet/part-00005-tid-1198775509260456708-684ee51f-a544-446e-96d0-63abbc1a89f6-11124-1-c000.snappy.parquet (deflated 64%)\nupdating: final_input_pad.parquet/.part-00008-tid-1198775509260456708-684ee51f-a544-446e-96d0-63abbc1a89f6-11127-1-c000.snappy.parquet.crc (stored 0%)\nupdating: final_input_pad.parquet/part-00002-tid-1198775509260456708-684ee51f-a544-446e-96d0-63abbc1a89f6-11121-1-c000.snappy.parquet (deflated 63%)\nupdating: final_input_pad.parquet/.part-00010-tid-1198775509260456708-684ee51f-a544-446e-96d0-63abbc1a89f6-11129-1-c000.snappy.parquet.crc (deflated 0%)\nupdating: final_input_pad.parquet/part-00007-tid-1198775509260456708-684ee51f-a544-446e-96d0-63abbc1a89f6-11126-1-c000.snappy.parquet (deflated 64%)\nupdating: final_input_pad.parquet/.part-00009-tid-1198775509260456708-684ee51f-a544-446e-96d0-63abbc1a89f6-11128-1-c000.snappy.parquet.crc (deflated 0%)\nupdating: final_input_pad.parquet/.part-00000-tid-1198775509260456708-684ee51f-a544-446e-96d0-63abbc1a89f6-11119-1-c000.snappy.parquet.crc (stored 0%)\nupdating: final_input_pad.parquet/_SUCCESS (stored 0%)\nupdating: final_input_pad.parquet/.part-00004-tid-1198775509260456708-684ee51f-a544-446e-96d0-63abbc1a89f6-11123-1-c000.snappy.parquet.crc (deflated 0%)\nupdating: final_input_pad.parquet/part-00011-tid-1198775509260456708-684ee51f-a544-446e-96d0-63abbc1a89f6-11130-1-c000.snappy.parquet (deflated 64%)\nupdating: final_input_pad.parquet/.part-00011-tid-1198775509260456708-684ee51f-a544-446e-96d0-63abbc1a89f6-11130-1-c000.snappy.parquet.crc (stored 0%)\nupdating: final_input_pad.parquet/.part-00006-tid-1198775509260456708-684ee51f-a544-446e-96d0-63abbc1a89f6-11125-1-c000.snappy.parquet.crc (stored 0%)\nupdating: final_input_pad.parquet/.part-00001-tid-1198775509260456708-684ee51f-a544-446e-96d0-63abbc1a89f6-11120-1-c000.snappy.parquet.crc (deflated 0%)\nupdating: final_input_pad.parquet/._started_1198775509260456708.crc (stored 0%)\nupdating: final_input_pad.parquet/._committed_1198775509260456708.crc (stored 0%)\nupdating: final_input_pad.parquet/part-00004-tid-1198775509260456708-684ee51f-a544-446e-96d0-63abbc1a89f6-11123-1-c000.snappy.parquet (deflated 65%)\nupdating: final_input_pad.parquet/part-00010-tid-1198775509260456708-684ee51f-a544-446e-96d0-63abbc1a89f6-11129-1-c000.snappy.parquet (deflated 65%)\nupdating: final_input_pad.parquet/part-00006-tid-1198775509260456708-684ee51f-a544-446e-96d0-63abbc1a89f6-11125-1-c000.snappy.parquet (deflated 65%)\nupdating: final_input_pad.parquet/_started_1198775509260456708 (stored 0%)\nupdating: final_input_pad.parquet/part-00001-tid-1198775509260456708-684ee51f-a544-446e-96d0-63abbc1a89f6-11120-1-c000.snappy.parquet (deflated 65%)\nupdating: final_input_pad.parquet/part-00000-tid-1198775509260456708-684ee51f-a544-446e-96d0-63abbc1a89f6-11119-1-c000.snappy.parquet (deflated 64%)\nupdating: final_input_pad.parquet/.part-00002-tid-1198775509260456708-684ee51f-a544-446e-96d0-63abbc1a89f6-11121-1-c000.snappy.parquet.crc (deflated 0%)\nupdating: final_input_pad.parquet/part-00003-tid-1198775509260456708-684ee51f-a544-446e-96d0-63abbc1a89f6-11122-1-c000.snappy.parquet (deflated 63%)\nupdating: final_input_pad.parquet/_committed_1198775509260456708 (deflated 86%)\nupdating: train_target.parquet/ (stored 0%)\nupdating: train_target.parquet/.part-00187-tid-5982363118589765492-95149607-a82e-4b97-b0a8-5bb20b7625fd-8737-1-c000.snappy.parquet.crc (stored 0%)\nupdating: train_target.parquet/part-00180-tid-5982363118589765492-95149607-a82e-4b97-b0a8-5bb20b7625fd-8730-1-c000.snappy.parquet (deflated 19%)\nupdating: train_target.parquet/.part-00163-tid-5982363118589765492-95149607-a82e-4b97-b0a8-5bb20b7625fd-8713-1-c000.snappy.parquet.crc (stored 0%)\nupdating: train_target.parquet/part-00164-tid-5982363118589765492-95149607-a82e-4b97-b0a8-5bb20b7625fd-8714-1-c000.snappy.parquet (deflated 19%)\nupdating: train_target.parquet/part-00124-tid-5982363118589765492-95149607-a82e-4b97-b0a8-5bb20b7625fd-8674-1-c000.snappy.parquet (deflated 19%)\nupdating: train_target.parquet/part-00181-tid-5982363118589765492-95149607-a82e-4b97-b0a8-5bb20b7625fd-8731-1-c000.snappy.parquet (deflated 19%)\nupdating: train_target.parquet/.part-00088-tid-5982363118589765492-95149607-a82e-4b97-b0a8-5bb20b7625fd-8638-1-c000.snappy.parquet.crc (stored 0%)\nupdating: train_target.parquet/.part-00043-tid-5982363118589765492-95149607-a82e-4b97-b0a8-5bb20b7625fd-8593-1-c000.snappy.parquet.crc (stored 0%)\nupdating: train_target.parquet/.part-00155-tid-5982363118589765492-95149607-a82e-4b97-b0a8-5bb20b7625fd-8705-1-c000.snappy.parquet.crc (stored 0%)\nupdating: train_target.parquet/part-00016-tid-5982363118589765492-95149607-a82e-4b97-b0a8-5bb20b7625fd-8566-1-c000.snappy.parquet (deflated 19%)\nupdating: train_target.parquet/.part-00076-tid-5982363118589765492-95149607-a82e-4b97-b0a8-5bb20b7625fd-8626-1-c000.snappy.parquet.crc (stored 0%)\nupdating: train_target.parquet/part-00077-tid-5982363118589765492-95149607-a82e-4b97-b0a8-5bb20b7625fd-8627-1-c000.snappy.parquet (deflated 18%)\nupdating: train_target.parquet/.part-00115-tid-5982363118589765492-95149607-a82e-4b97-b0a8-5bb20b7625fd-8665-1-c000.snappy.parquet.crc (stored 0%)\nupdating: train_target.parquet/part-00044-tid-5982363118589765492-95149607-a82e-4b97-b0a8-5bb20b7625fd-8594-1-c000.snappy.parquet (deflated 19%)\nupdating: train_target.parquet/.part-00009-tid-5982363118589765492-95149607-a82e-4b97-b0a8-5bb20b7625fd-8559-1-c000.snappy.parquet.crc (stored 0%)\nupdating: train_target.parquet/part-00194-tid-5982363118589765492-95149607-a82e-4b97-b0a8-5bb20b7625fd-8744-1-c000.snappy.parquet (deflated 19%)\nupdating: train_target.parquet/part-00082-tid-5982363118589765492-95149607-a82e-4b97-b0a8-5bb20b7625fd-8632-1-c000.snappy.parquet (deflated 19%)\nupdating: train_target.parquet/part-00136-tid-5982363118589765492-95149607-a82e-4b97-b0a8-5bb20b7625fd-8686-1-c000.snappy.parquet (deflated 19%)\nupdating: train_target.parquet/part-00152-tid-5982363118589765492-95149607-a82e-4b97-b0a8-5bb20b7625fd-8702-1-c000.snappy.parquet (deflated 19%)\nupdating: train_target.parquet/part-00096-tid-5982363118589765492-95149607-a82e-4b97-b0a8-5bb20b7625fd-8646-1-c000.snappy.parquet (deflated 19%)\nupdating: train_target.parquet/part-00050-tid-5982363118589765492-95149607-a82e-4b97-b0a8-5bb20b7625fd-8600-1-c000.snappy.parquet (deflated 19%)\nupdating: train_target.parquet/part-00092-tid-5982363118589765492-95149607-a82e-4b97-b0a8-5bb20b7625fd-8642-1-c000.snappy.parquet (deflated 19%)\nupdating: train_target.parquet/part-00196-tid-5982363118589765492-95149607-a82e-4b97-b0a8-5bb20b7625fd-8746-1-c000.snappy.parquet (deflated 19%)\nupdating: train_target.parquet/.part-00085-tid-5982363118589765492-95149607-a82e-4b97-b0a8-5bb20b7625fd-8635-1-c000.snappy.parquet.crc (stored 0%)\nupdating: train_target.parquet/.part-00097-tid-5982363118589765492-95149607-a82e-4b97-b0a8-5bb20b7625fd-8647-1-c000.snappy.parquet.crc (stored 0%)\nupdating: train_target.parquet/part-00192-tid-5982363118589765492-95149607-a82e-4b97-b0a8-5bb20b7625fd-8742-1-c000.snappy.parquet (deflated 19%)\nupdating: train_target.parquet/part-00048-tid-5982363118589765492-95149607-a82e-4b97-b0a8-5bb20b7625fd-8598-1-c000.snappy.parquet (deflated 18%)\nupdating: train_target.parquet/part-00115-tid-5982363118589765492-95149607-a82e-4b97-b0a8-5bb20b7625fd-8665-1-c000.snappy.parquet (deflated 18%)\nupdating: train_target.parquet/part-00001-tid-5982363118589765492-95149607-a82e-4b97-b0a8-5bb20b7625fd-8551-1-c000.snappy.parquet (deflated 19%)\nupdating: train_target.parquet/.part-00083-tid-5982363118589765492-95149607-a82e-4b97-b0a8-5bb20b7625fd-8633-1-c000.snappy.parquet.crc (stored 0%)\nupdating: train_target.parquet/part-00156-tid-5982363118589765492-95149607-a82e-4b97-b0a8-5bb20b7625fd-8706-1-c000.snappy.parquet (deflated 19%)\nupdating: train_target.parquet/part-00163-tid-5982363118589765492-95149607-a82e-4b97-b0a8-5bb20b7625fd-8713-1-c000.snappy.parquet (deflated 18%)\nupdating: train_target.parquet/part-00141-tid-5982363118589765492-95149607-a82e-4b97-b0a8-5bb20b7625fd-8691-1-c000.snappy.parquet (deflated 19%)\nupdating: train_target.parquet/.part-00018-tid-5982363118589765492-95149607-a82e-4b97-b0a8-5bb20b7625fd-8568-1-c000.snappy.parquet.crc (stored 0%)\nupdating: train_target.parquet/part-00007-tid-5982363118589765492-95149607-a82e-4b97-b0a8-5bb20b7625fd-8557-1-c000.snappy.parquet (deflated 19%)\nupdating: train_target.parquet/part-00191-tid-5982363118589765492-95149607-a82e-4b97-b0a8-5bb20b7625fd-8741-1-c000.snappy.parquet (deflated 18%)\nupdating: train_target.parquet/part-00120-tid-5982363118589765492-95149607-a82e-4b97-b0a8-5bb20b7625fd-8670-1-c000.snappy.parquet (deflated 19%)\nupdating: train_target.parquet/part-00059-tid-5982363118589765492-95149607-a82e-4b97-b0a8-5bb20b7625fd-8609-1-c000.snappy.parquet (deflated 19%)\nupdating: train_target.parquet/part-00014-tid-5982363118589765492-95149607-a82e-4b97-b0a8-5bb20b7625fd-8564-1-c000.snappy.parquet (deflated 19%)\nupdating: train_target.parquet/.part-00089-tid-5982363118589765492-95149607-a82e-4b97-b0a8-5bb20b7625fd-8639-1-c000.snappy.parquet.crc (stored 0%)\nupdating: train_target.parquet/part-00179-tid-5982363118589765492-95149607-a82e-4b97-b0a8-5bb20b7625fd-8729-1-c000.snappy.parquet (deflated 19%)\nupdating: train_target.parquet/.part-00116-tid-5982363118589765492-95149607-a82e-4b97-b0a8-5bb20b7625fd-8666-1-c000.snappy.parquet.crc (stored 0%)\nupdating: train_target.parquet/part-00197-tid-5982363118589765492-95149607-a82e-4b97-b0a8-5bb20b7625fd-8747-1-c000.snappy.parquet (deflated 19%)\nupdating: train_target.parquet/.part-00112-tid-5982363118589765492-95149607-a82e-4b97-b0a8-5bb20b7625fd-8662-1-c000.snappy.parquet.crc (stored 0%)\nupdating: train_target.parquet/_started_5982363118589765492 (stored 0%)\nupdating: train_target.parquet/.part-00030-tid-5982363118589765492-95149607-a82e-4b97-b0a8-5bb20b7625fd-8580-1-c000.snappy.parquet.crc (stored 0%)\nupdating: train_target.parquet/.part-00185-tid-5982363118589765492-95149607-a82e-4b97-b0a8-5bb20b7625fd-8735-1-c000.snappy.parquet.crc (stored 0%)\nupdating: train_target.parquet/part-00032-tid-5982363118589765492-95149607-a82e-4b97-b0a8-5bb20b7625fd-8582-1-c000.snappy.parquet (deflated 19%)\nupdating: train_target.parquet/.part-00108-tid-5982363118589765492-95149607-a82e-4b97-b0a8-5bb20b7625fd-8658-1-c000.snappy.parquet.crc (stored 0%)\nupdating: train_target.parquet/part-00103-tid-5982363118589765492-95149607-a82e-4b97-b0a8-5bb20b7625fd-8653-1-c000.snappy.parquet (deflated 19%)\nupdating: train_target.parquet/part-00073-tid-5982363118589765492-95149607-a82e-4b97-b0a8-5bb20b7625fd-8623-1-c000.snappy.parquet (deflated 18%)\nupdating: train_target.parquet/part-00189-tid-5982363118589765492-95149607-a82e-4b97-b0a8-5bb20b7625fd-8739-1-c000.snappy.parquet (deflated 19%)\nupdating: train_target.parquet/.part-00119-tid-5982363118589765492-95149607-a82e-4b97-b0a8-5bb20b7625fd-8669-1-c000.snappy.parquet.crc (stored 0%)\nupdating: train_target.parquet/.part-00165-tid-5982363118589765492-95149607-a82e-4b97-b0a8-5bb20b7625fd-8715-1-c000.snappy.parquet.crc (stored 0%)\nupdating: train_target.parquet/part-00097-tid-5982363118589765492-95149607-a82e-4b97-b0a8-5bb20b7625fd-8647-1-c000.snappy.parquet (deflated 19%)\nupdating: train_target.parquet/.part-00004-tid-5982363118589765492-95149607-a82e-4b97-b0a8-5bb20b7625fd-8554-1-c000.snappy.parquet.crc (stored 0%)\nupdating: train_target.parquet/part-00013-tid-5982363118589765492-95149607-a82e-4b97-b0a8-5bb20b7625fd-8563-1-c000.snappy.parquet (deflated 19%)\nupdating: train_target.parquet/.part-00179-tid-5982363118589765492-95149607-a82e-4b97-b0a8-5bb20b7625fd-8729-1-c000.snappy.parquet.crc (stored 0%)\nupdating: train_target.parquet/.part-00070-tid-5982363118589765492-95149607-a82e-4b97-b0a8-5bb20b7625fd-8620-1-c000.snappy.parquet.crc (stored 0%)\nupdating: train_target.parquet/part-00011-tid-5982363118589765492-95149607-a82e-4b97-b0a8-5bb20b7625fd-8561-1-c000.snappy.parquet (deflated 19%)\nupdating: train_target.parquet/.part-00014-tid-5982363118589765492-95149607-a82e-4b97-b0a8-5bb20b7625fd-8564-1-c000.snappy.parquet.crc (stored 0%)\nupdating: train_target.parquet/part-00071-tid-5982363118589765492-95149607-a82e-4b97-b0a8-5bb20b7625fd-8621-1-c000.snappy.parquet (deflated 19%)\nupdating: train_target.parquet/.part-00144-tid-5982363118589765492-95149607-a82e-4b97-b0a8-5bb20b7625fd-8694-1-c000.snappy.parquet.crc (stored 0%)\nupdating: train_target.parquet/part-00162-tid-5982363118589765492-95149607-a82e-4b97-b0a8-5bb20b7625fd-8712-1-c000.snappy.parquet (deflated 19%)\nupdating: train_target.parquet/part-00023-tid-5982363118589765492-95149607-a82e-4b97-b0a8-5bb20b7625fd-8573-1-c000.snappy.parquet (deflated 19%)\nupdating: train_target.parquet/part-00116-tid-5982363118589765492-95149607-a82e-4b97-b0a8-5bb20b7625fd-8666-1-c000.snappy.parquet (deflated 19%)\nupdating: train_target.parquet/part-00173-tid-5982363118589765492-95149607-a82e-4b97-b0a8-5bb20b7625fd-8723-1-c000.snappy.parquet (deflated 19%)\nupdating: train_target.parquet/part-00107-tid-5982363118589765492-95149607-a82e-4b97-b0a8-5bb20b7625fd-8657-1-c000.snappy.parquet (deflated 19%)\nupdating: train_target.parquet/part-00127-tid-5982363118589765492-95149607-a82e-4b97-b0a8-5bb20b7625fd-8677-1-c000.snappy.parquet (deflated 19%)\nupdating: train_target.parquet/.part-00039-tid-5982363118589765492-95149607-a82e-4b97-b0a8-5bb20b7625fd-8589-1-c000.snappy.parquet.crc (stored 0%)\nupdating: train_target.parquet/.part-00141-tid-5982363118589765492-95149607-a82e-4b97-b0a8-5bb20b7625fd-8691-1-c000.snappy.parquet.crc (stored 0%)\nupdating: train_target.parquet/.part-00022-tid-5982363118589765492-95149607-a82e-4b97-b0a8-5bb20b7625fd-8572-1-c000.snappy.parquet.crc (stored 0%)\nupdating: train_target.parquet/.part-00142-tid-5982363118589765492-95149607-a82e-4b97-b0a8-5bb20b7625fd-8692-1-c000.snappy.parquet.crc (stored 0%)\nupdating: train_target.parquet/part-00182-tid-5982363118589765492-95149607-a82e-4b97-b0a8-5bb20b7625fd-8732-1-c000.snappy.parquet (deflated 19%)\nupdating: train_target.parquet/part-00166-tid-5982363118589765492-95149607-a82e-4b97-b0a8-5bb20b7625fd-8716-1-c000.snappy.parquet (deflated 19%)\nupdating: train_target.parquet/.part-00127-tid-5982363118589765492-95149607-a82e-4b97-b0a8-5bb20b7625fd-8677-1-c000.snappy.parquet.crc (stored 0%)\nupdating: train_target.parquet/.part-00167-tid-5982363118589765492-95149607-a82e-4b97-b0a8-5bb20b7625fd-8717-1-c000.snappy.parquet.crc (stored 0%)\nupdating: train_target.parquet/.part-00184-tid-5982363118589765492-95149607-a82e-4b97-b0a8-5bb20b7625fd-8734-1-c000.snappy.parquet.crc (stored 0%)\nupdating: train_target.parquet/part-00030-tid-5982363118589765492-95149607-a82e-4b97-b0a8-5bb20b7625fd-8580-1-c000.snappy.parquet (deflated 19%)\nupdating: train_target.parquet/part-00190-tid-5982363118589765492-95149607-a82e-4b97-b0a8-5bb20b7625fd-8740-1-c000.snappy.parquet (deflated 18%)\nupdating: train_target.parquet/.part-00086-tid-5982363118589765492-95149607-a82e-4b97-b0a8-5bb20b7625fd-8636-1-c000.snappy.parquet.crc (stored 0%)\nupdating: train_target.parquet/.part-00147-tid-5982363118589765492-95149607-a82e-4b97-b0a8-5bb20b7625fd-8697-1-c000.snappy.parquet.crc (stored 0%)\nupdating: train_target.parquet/.part-00101-tid-5982363118589765492-95149607-a82e-4b97-b0a8-5bb20b7625fd-8651-1-c000.snappy.parquet.crc (stored 0%)\nupdating: train_target.parquet/._SUCCESS.crc (stored 0%)\nupdating: train_target.parquet/.part-00107-tid-5982363118589765492-95149607-a82e-4b97-b0a8-5bb20b7625fd-8657-1-c000.snappy.parquet.crc (stored 0%)\nupdating: train_target.parquet/.part-00002-tid-5982363118589765492-95149607-a82e-4b97-b0a8-5bb20b7625fd-8552-1-c000.snappy.parquet.crc (stored 0%)\nupdating: tra\n\n*** WARNING: max output size exceeded, skipping output. ***\n\nbc9e-555d06ebb6d9-8751-1-c000.snappy.parquet (deflated 19%)\nupdating: test_target.parquet/.part-00085-tid-5921241872214806594-a5757a61-f16b-4056-bc9e-555d06ebb6d9-8835-1-c000.snappy.parquet.crc (stored 0%)\nupdating: test_target.parquet/.part-00152-tid-5921241872214806594-a5757a61-f16b-4056-bc9e-555d06ebb6d9-8902-1-c000.snappy.parquet.crc (stored 0%)\nupdating: test_target.parquet/part-00141-tid-5921241872214806594-a5757a61-f16b-4056-bc9e-555d06ebb6d9-8891-1-c000.snappy.parquet (deflated 19%)\nupdating: test_target.parquet/.part-00061-tid-5921241872214806594-a5757a61-f16b-4056-bc9e-555d06ebb6d9-8811-1-c000.snappy.parquet.crc (stored 0%)\nupdating: test_target.parquet/.part-00052-tid-5921241872214806594-a5757a61-f16b-4056-bc9e-555d06ebb6d9-8802-1-c000.snappy.parquet.crc (stored 0%)\nupdating: test_target.parquet/.part-00132-tid-5921241872214806594-a5757a61-f16b-4056-bc9e-555d06ebb6d9-8882-1-c000.snappy.parquet.crc (stored 0%)\nupdating: test_target.parquet/part-00075-tid-5921241872214806594-a5757a61-f16b-4056-bc9e-555d06ebb6d9-8825-1-c000.snappy.parquet (deflated 19%)\nupdating: test_target.parquet/.part-00128-tid-5921241872214806594-a5757a61-f16b-4056-bc9e-555d06ebb6d9-8878-1-c000.snappy.parquet.crc (stored 0%)\nupdating: test_target.parquet/.part-00192-tid-5921241872214806594-a5757a61-f16b-4056-bc9e-555d06ebb6d9-8942-1-c000.snappy.parquet.crc (stored 0%)\nupdating: test_target.parquet/part-00000-tid-5921241872214806594-a5757a61-f16b-4056-bc9e-555d06ebb6d9-8750-1-c000.snappy.parquet (deflated 19%)\nupdating: test_target.parquet/part-00122-tid-5921241872214806594-a5757a61-f16b-4056-bc9e-555d06ebb6d9-8872-1-c000.snappy.parquet (deflated 19%)\nupdating: test_target.parquet/.part-00022-tid-5921241872214806594-a5757a61-f16b-4056-bc9e-555d06ebb6d9-8772-1-c000.snappy.parquet.crc (stored 0%)\nupdating: test_target.parquet/.part-00043-tid-5921241872214806594-a5757a61-f16b-4056-bc9e-555d06ebb6d9-8793-1-c000.snappy.parquet.crc (stored 0%)\nupdating: test_target.parquet/.part-00009-tid-5921241872214806594-a5757a61-f16b-4056-bc9e-555d06ebb6d9-8759-1-c000.snappy.parquet.crc (stored 0%)\nupdating: test_target.parquet/part-00014-tid-5921241872214806594-a5757a61-f16b-4056-bc9e-555d06ebb6d9-8764-1-c000.snappy.parquet (deflated 19%)\nupdating: test_target.parquet/part-00064-tid-5921241872214806594-a5757a61-f16b-4056-bc9e-555d06ebb6d9-8814-1-c000.snappy.parquet (deflated 19%)\nupdating: test_target.parquet/.part-00164-tid-5921241872214806594-a5757a61-f16b-4056-bc9e-555d06ebb6d9-8914-1-c000.snappy.parquet.crc (stored 0%)\nupdating: test_target.parquet/.part-00188-tid-5921241872214806594-a5757a61-f16b-4056-bc9e-555d06ebb6d9-8938-1-c000.snappy.parquet.crc (stored 0%)\nupdating: test_target.parquet/part-00143-tid-5921241872214806594-a5757a61-f16b-4056-bc9e-555d06ebb6d9-8893-1-c000.snappy.parquet (deflated 18%)\nupdating: test_target.parquet/.part-00133-tid-5921241872214806594-a5757a61-f16b-4056-bc9e-555d06ebb6d9-8883-1-c000.snappy.parquet.crc (stored 0%)\nupdating: test_target.parquet/.part-00033-tid-5921241872214806594-a5757a61-f16b-4056-bc9e-555d06ebb6d9-8783-1-c000.snappy.parquet.crc (stored 0%)\nupdating: test_target.parquet/part-00182-tid-5921241872214806594-a5757a61-f16b-4056-bc9e-555d06ebb6d9-8932-1-c000.snappy.parquet (deflated 19%)\nupdating: test_target.parquet/part-00198-tid-5921241872214806594-a5757a61-f16b-4056-bc9e-555d06ebb6d9-8948-1-c000.snappy.parquet (deflated 18%)\nupdating: test_target.parquet/.part-00096-tid-5921241872214806594-a5757a61-f16b-4056-bc9e-555d06ebb6d9-8846-1-c000.snappy.parquet.crc (stored 0%)\nupdating: test_target.parquet/part-00055-tid-5921241872214806594-a5757a61-f16b-4056-bc9e-555d06ebb6d9-8805-1-c000.snappy.parquet (deflated 18%)\nupdating: test_target.parquet/.part-00054-tid-5921241872214806594-a5757a61-f16b-4056-bc9e-555d06ebb6d9-8804-1-c000.snappy.parquet.crc (stored 0%)\nupdating: test_target.parquet/.part-00053-tid-5921241872214806594-a5757a61-f16b-4056-bc9e-555d06ebb6d9-8803-1-c000.snappy.parquet.crc (stored 0%)\nupdating: test_target.parquet/.part-00083-tid-5921241872214806594-a5757a61-f16b-4056-bc9e-555d06ebb6d9-8833-1-c000.snappy.parquet.crc (stored 0%)\nupdating: test_target.parquet/part-00177-tid-5921241872214806594-a5757a61-f16b-4056-bc9e-555d06ebb6d9-8927-1-c000.snappy.parquet (deflated 19%)\nupdating: test_target.parquet/part-00103-tid-5921241872214806594-a5757a61-f16b-4056-bc9e-555d06ebb6d9-8853-1-c000.snappy.parquet (deflated 19%)\nupdating: test_target.parquet/.part-00092-tid-5921241872214806594-a5757a61-f16b-4056-bc9e-555d06ebb6d9-8842-1-c000.snappy.parquet.crc (stored 0%)\nupdating: test_target.parquet/.part-00026-tid-5921241872214806594-a5757a61-f16b-4056-bc9e-555d06ebb6d9-8776-1-c000.snappy.parquet.crc (stored 0%)\nupdating: test_target.parquet/.part-00046-tid-5921241872214806594-a5757a61-f16b-4056-bc9e-555d06ebb6d9-8796-1-c000.snappy.parquet.crc (stored 0%)\nupdating: test_target.parquet/part-00016-tid-5921241872214806594-a5757a61-f16b-4056-bc9e-555d06ebb6d9-8766-1-c000.snappy.parquet (deflated 18%)\nupdating: test_target.parquet/.part-00072-tid-5921241872214806594-a5757a61-f16b-4056-bc9e-555d06ebb6d9-8822-1-c000.snappy.parquet.crc (stored 0%)\nupdating: test_target.parquet/part-00171-tid-5921241872214806594-a5757a61-f16b-4056-bc9e-555d06ebb6d9-8921-1-c000.snappy.parquet (deflated 19%)\nupdating: test_target.parquet/part-00154-tid-5921241872214806594-a5757a61-f16b-4056-bc9e-555d06ebb6d9-8904-1-c000.snappy.parquet (deflated 18%)\nupdating: test_target.parquet/part-00166-tid-5921241872214806594-a5757a61-f16b-4056-bc9e-555d06ebb6d9-8916-1-c000.snappy.parquet (deflated 19%)\nupdating: test_target.parquet/.part-00036-tid-5921241872214806594-a5757a61-f16b-4056-bc9e-555d06ebb6d9-8786-1-c000.snappy.parquet.crc (stored 0%)\nupdating: test_target.parquet/part-00107-tid-5921241872214806594-a5757a61-f16b-4056-bc9e-555d06ebb6d9-8857-1-c000.snappy.parquet (deflated 19%)\nupdating: test_target.parquet/.part-00160-tid-5921241872214806594-a5757a61-f16b-4056-bc9e-555d06ebb6d9-8910-1-c000.snappy.parquet.crc (stored 0%)\nupdating: test_target.parquet/.part-00047-tid-5921241872214806594-a5757a61-f16b-4056-bc9e-555d06ebb6d9-8797-1-c000.snappy.parquet.crc (stored 0%)\nupdating: test_target.parquet/.part-00062-tid-5921241872214806594-a5757a61-f16b-4056-bc9e-555d06ebb6d9-8812-1-c000.snappy.parquet.crc (stored 0%)\nupdating: test_target.parquet/.part-00191-tid-5921241872214806594-a5757a61-f16b-4056-bc9e-555d06ebb6d9-8941-1-c000.snappy.parquet.crc (stored 0%)\nupdating: test_target.parquet/.part-00086-tid-5921241872214806594-a5757a61-f16b-4056-bc9e-555d06ebb6d9-8836-1-c000.snappy.parquet.crc (stored 0%)\nupdating: test_target.parquet/part-00116-tid-5921241872214806594-a5757a61-f16b-4056-bc9e-555d06ebb6d9-8866-1-c000.snappy.parquet (deflated 19%)\nupdating: test_target.parquet/part-00085-tid-5921241872214806594-a5757a61-f16b-4056-bc9e-555d06ebb6d9-8835-1-c000.snappy.parquet (deflated 19%)\nupdating: test_target.parquet/part-00187-tid-5921241872214806594-a5757a61-f16b-4056-bc9e-555d06ebb6d9-8937-1-c000.snappy.parquet (deflated 18%)\nupdating: test_target.parquet/part-00006-tid-5921241872214806594-a5757a61-f16b-4056-bc9e-555d06ebb6d9-8756-1-c000.snappy.parquet (deflated 19%)\nupdating: test_target.parquet/.part-00125-tid-5921241872214806594-a5757a61-f16b-4056-bc9e-555d06ebb6d9-8875-1-c000.snappy.parquet.crc (stored 0%)\nupdating: test_target.parquet/.part-00131-tid-5921241872214806594-a5757a61-f16b-4056-bc9e-555d06ebb6d9-8881-1-c000.snappy.parquet.crc (stored 0%)\nupdating: test_target.parquet/.part-00034-tid-5921241872214806594-a5757a61-f16b-4056-bc9e-555d06ebb6d9-8784-1-c000.snappy.parquet.crc (stored 0%)\nupdating: test_target.parquet/part-00178-tid-5921241872214806594-a5757a61-f16b-4056-bc9e-555d06ebb6d9-8928-1-c000.snappy.parquet (deflated 18%)\nupdating: test_target.parquet/part-00041-tid-5921241872214806594-a5757a61-f16b-4056-bc9e-555d06ebb6d9-8791-1-c000.snappy.parquet (deflated 18%)\nupdating: test_target.parquet/.part-00147-tid-5921241872214806594-a5757a61-f16b-4056-bc9e-555d06ebb6d9-8897-1-c000.snappy.parquet.crc (stored 0%)\nupdating: test_target.parquet/.part-00195-tid-5921241872214806594-a5757a61-f16b-4056-bc9e-555d06ebb6d9-8945-1-c000.snappy.parquet.crc (stored 0%)\nupdating: test_target.parquet/part-00025-tid-5921241872214806594-a5757a61-f16b-4056-bc9e-555d06ebb6d9-8775-1-c000.snappy.parquet (deflated 18%)\nupdating: test_target.parquet/part-00152-tid-5921241872214806594-a5757a61-f16b-4056-bc9e-555d06ebb6d9-8902-1-c000.snappy.parquet (deflated 18%)\nupdating: test_target.parquet/part-00127-tid-5921241872214806594-a5757a61-f16b-4056-bc9e-555d06ebb6d9-8877-1-c000.snappy.parquet (deflated 18%)\nupdating: test_target.parquet/.part-00008-tid-5921241872214806594-a5757a61-f16b-4056-bc9e-555d06ebb6d9-8758-1-c000.snappy.parquet.crc (stored 0%)\nupdating: test_target.parquet/.part-00190-tid-5921241872214806594-a5757a61-f16b-4056-bc9e-555d06ebb6d9-8940-1-c000.snappy.parquet.crc (stored 0%)\nupdating: test_target.parquet/part-00091-tid-5921241872214806594-a5757a61-f16b-4056-bc9e-555d06ebb6d9-8841-1-c000.snappy.parquet (deflated 18%)\nupdating: test_target.parquet/part-00153-tid-5921241872214806594-a5757a61-f16b-4056-bc9e-555d06ebb6d9-8903-1-c000.snappy.parquet (deflated 18%)\nupdating: test_target.parquet/part-00065-tid-5921241872214806594-a5757a61-f16b-4056-bc9e-555d06ebb6d9-8815-1-c000.snappy.parquet (deflated 19%)\nupdating: test_target.parquet/part-00124-tid-5921241872214806594-a5757a61-f16b-4056-bc9e-555d06ebb6d9-8874-1-c000.snappy.parquet (deflated 19%)\nupdating: test_target.parquet/part-00158-tid-5921241872214806594-a5757a61-f16b-4056-bc9e-555d06ebb6d9-8908-1-c000.snappy.parquet (deflated 19%)\nupdating: test_target.parquet/part-00113-tid-5921241872214806594-a5757a61-f16b-4056-bc9e-555d06ebb6d9-8863-1-c000.snappy.parquet (deflated 19%)\nupdating: test_target.parquet/.part-00077-tid-5921241872214806594-a5757a61-f16b-4056-bc9e-555d06ebb6d9-8827-1-c000.snappy.parquet.crc (stored 0%)\nupdating: test_target.parquet/part-00074-tid-5921241872214806594-a5757a61-f16b-4056-bc9e-555d06ebb6d9-8824-1-c000.snappy.parquet (deflated 18%)\nupdating: test_target.parquet/.part-00163-tid-5921241872214806594-a5757a61-f16b-4056-bc9e-555d06ebb6d9-8913-1-c000.snappy.parquet.crc (stored 0%)\nupdating: test_target.parquet/.part-00103-tid-5921241872214806594-a5757a61-f16b-4056-bc9e-555d06ebb6d9-8853-1-c000.snappy.parquet.crc (stored 0%)\nupdating: test_target.parquet/part-00060-tid-5921241872214806594-a5757a61-f16b-4056-bc9e-555d06ebb6d9-8810-1-c000.snappy.parquet (deflated 19%)\nupdating: test_target.parquet/part-00053-tid-5921241872214806594-a5757a61-f16b-4056-bc9e-555d06ebb6d9-8803-1-c000.snappy.parquet (deflated 19%)\nupdating: test_target.parquet/part-00078-tid-5921241872214806594-a5757a61-f16b-4056-bc9e-555d06ebb6d9-8828-1-c000.snappy.parquet (deflated 19%)\nupdating: test_target.parquet/part-00115-tid-5921241872214806594-a5757a61-f16b-4056-bc9e-555d06ebb6d9-8865-1-c000.snappy.parquet (deflated 19%)\nupdating: test_target.parquet/.part-00003-tid-5921241872214806594-a5757a61-f16b-4056-bc9e-555d06ebb6d9-8753-1-c000.snappy.parquet.crc (stored 0%)\nupdating: test_target.parquet/.part-00044-tid-5921241872214806594-a5757a61-f16b-4056-bc9e-555d06ebb6d9-8794-1-c000.snappy.parquet.crc (stored 0%)\nupdating: test_target.parquet/part-00160-tid-5921241872214806594-a5757a61-f16b-4056-bc9e-555d06ebb6d9-8910-1-c000.snappy.parquet (deflated 19%)\nupdating: test_target.parquet/part-00130-tid-5921241872214806594-a5757a61-f16b-4056-bc9e-555d06ebb6d9-8880-1-c000.snappy.parquet (deflated 19%)\nupdating: test_target.parquet/.part-00157-tid-5921241872214806594-a5757a61-f16b-4056-bc9e-555d06ebb6d9-8907-1-c000.snappy.parquet.crc (stored 0%)\nupdating: test_target.parquet/.part-00017-tid-5921241872214806594-a5757a61-f16b-4056-bc9e-555d06ebb6d9-8767-1-c000.snappy.parquet.crc (stored 0%)\nupdating: test_target.parquet/part-00011-tid-5921241872214806594-a5757a61-f16b-4056-bc9e-555d06ebb6d9-8761-1-c000.snappy.parquet (deflated 18%)\nupdating: test_target.parquet/part-00118-tid-5921241872214806594-a5757a61-f16b-4056-bc9e-555d06ebb6d9-8868-1-c000.snappy.parquet (deflated 19%)\nupdating: test_target.parquet/.part-00143-tid-5921241872214806594-a5757a61-f16b-4056-bc9e-555d06ebb6d9-8893-1-c000.snappy.parquet.crc (stored 0%)\nupdating: test_target.parquet/.part-00030-tid-5921241872214806594-a5757a61-f16b-4056-bc9e-555d06ebb6d9-8780-1-c000.snappy.parquet.crc (stored 0%)\nupdating: test_target.parquet/.part-00074-tid-5921241872214806594-a5757a61-f16b-4056-bc9e-555d06ebb6d9-8824-1-c000.snappy.parquet.crc (stored 0%)\nupdating: test_target.parquet/part-00138-tid-5921241872214806594-a5757a61-f16b-4056-bc9e-555d06ebb6d9-8888-1-c000.snappy.parquet (deflated 19%)\nupdating: test_target.parquet/.part-00193-tid-5921241872214806594-a5757a61-f16b-4056-bc9e-555d06ebb6d9-8943-1-c000.snappy.parquet.crc (stored 0%)\nupdating: test_target.parquet/.part-00181-tid-5921241872214806594-a5757a61-f16b-4056-bc9e-555d06ebb6d9-8931-1-c000.snappy.parquet.crc (stored 0%)\nupdating: test_target.parquet/.part-00088-tid-5921241872214806594-a5757a61-f16b-4056-bc9e-555d06ebb6d9-8838-1-c000.snappy.parquet.crc (stored 0%)\nupdating: test_target.parquet/.part-00015-tid-5921241872214806594-a5757a61-f16b-4056-bc9e-555d06ebb6d9-8765-1-c000.snappy.parquet.crc (stored 0%)\nupdating: test_target.parquet/.part-00155-tid-5921241872214806594-a5757a61-f16b-4056-bc9e-555d06ebb6d9-8905-1-c000.snappy.parquet.crc (stored 0%)\nupdating: test_target.parquet/.part-00148-tid-5921241872214806594-a5757a61-f16b-4056-bc9e-555d06ebb6d9-8898-1-c000.snappy.parquet.crc (stored 0%)\nupdating: test_target.parquet/.part-00064-tid-5921241872214806594-a5757a61-f16b-4056-bc9e-555d06ebb6d9-8814-1-c000.snappy.parquet.crc (stored 0%)\nupdating: test_target.parquet/part-00139-tid-5921241872214806594-a5757a61-f16b-4056-bc9e-555d06ebb6d9-8889-1-c000.snappy.parquet (deflated 18%)\nupdating: test_target.parquet/part-00110-tid-5921241872214806594-a5757a61-f16b-4056-bc9e-555d06ebb6d9-8860-1-c000.snappy.parquet (deflated 19%)\nupdating: test_target.parquet/.part-00031-tid-5921241872214806594-a5757a61-f16b-4056-bc9e-555d06ebb6d9-8781-1-c000.snappy.parquet.crc (stored 0%)\nupdating: test_target.parquet/.part-00071-tid-5921241872214806594-a5757a61-f16b-4056-bc9e-555d06ebb6d9-8821-1-c000.snappy.parquet.crc (stored 0%)\nupdating: test_target.parquet/part-00031-tid-5921241872214806594-a5757a61-f16b-4056-bc9e-555d06ebb6d9-8781-1-c000.snappy.parquet (deflated 18%)\nupdating: test_target.parquet/part-00052-tid-5921241872214806594-a5757a61-f16b-4056-bc9e-555d06ebb6d9-8802-1-c000.snappy.parquet (deflated 18%)\nupdating: test_target.parquet/part-00095-tid-5921241872214806594-a5757a61-f16b-4056-bc9e-555d06ebb6d9-8845-1-c000.snappy.parquet (deflated 19%)\nupdating: test_target.parquet/.part-00049-tid-5921241872214806594-a5757a61-f16b-4056-bc9e-555d06ebb6d9-8799-1-c000.snappy.parquet.crc (stored 0%)\nupdating: test_target.parquet/.part-00021-tid-5921241872214806594-a5757a61-f16b-4056-bc9e-555d06ebb6d9-8771-1-c000.snappy.parquet.crc (stored 0%)\nupdating: test_target.parquet/part-00189-tid-5921241872214806594-a5757a61-f16b-4056-bc9e-555d06ebb6d9-8939-1-c000.snappy.parquet (deflated 18%)\nupdating: test_target.parquet/.part-00153-tid-5921241872214806594-a5757a61-f16b-4056-bc9e-555d06ebb6d9-8903-1-c000.snappy.parquet.crc (stored 0%)\nupdating: test_target.parquet/.part-00093-tid-5921241872214806594-a5757a61-f16b-4056-bc9e-555d06ebb6d9-8843-1-c000.snappy.parquet.crc (stored 0%)\nupdating: test_target.parquet/part-00024-tid-5921241872214806594-a5757a61-f16b-4056-bc9e-555d06ebb6d9-8774-1-c000.snappy.parquet (deflated 19%)\nupdating: test_target.parquet/part-00120-tid-5921241872214806594-a5757a61-f16b-4056-bc9e-555d06ebb6d9-8870-1-c000.snappy.parquet (deflated 19%)\nupdating: test_target.parquet/.part-00149-tid-5921241872214806594-a5757a61-f16b-4056-bc9e-555d06ebb6d9-8899-1-c000.snappy.parquet.crc (stored 0%)\nupdating: test_target.parquet/part-00029-tid-5921241872214806594-a5757a61-f16b-4056-bc9e-555d06ebb6d9-8779-1-c000.snappy.parquet (deflated 19%)\nupdating: test_target.parquet/part-00195-tid-5921241872214806594-a5757a61-f16b-4056-bc9e-555d06ebb6d9-8945-1-c000.snappy.parquet (deflated 19%)\nupdating: test_target.parquet/part-00100-tid-5921241872214806594-a5757a61-f16b-4056-bc9e-555d06ebb6d9-8850-1-c000.snappy.parquet (deflated 19%)\nupdating: test_target.parquet/part-00175-tid-5921241872214806594-a5757a61-f16b-4056-bc9e-555d06ebb6d9-8925-1-c000.snappy.parquet (deflated 18%)\nupdating: test_target.parquet/part-00009-tid-5921241872214806594-a5757a61-f16b-4056-bc9e-555d06ebb6d9-8759-1-c000.snappy.parquet (deflated 18%)\nupdating: test_target.parquet/part-00062-tid-5921241872214806594-a5757a61-f16b-4056-bc9e-555d06ebb6d9-8812-1-c000.snappy.parquet (deflated 20%)\nupdating: test_target.parquet/part-00045-tid-5921241872214806594-a5757a61-f16b-4056-bc9e-555d06ebb6d9-8795-1-c000.snappy.parquet (deflated 19%)\nupdating: test_target.parquet/.part-00174-tid-5921241872214806594-a5757a61-f16b-4056-bc9e-555d06ebb6d9-8924-1-c000.snappy.parquet.crc (stored 0%)\nupdating: test_target.parquet/part-00039-tid-5921241872214806594-a5757a61-f16b-4056-bc9e-555d06ebb6d9-8789-1-c000.snappy.parquet (deflated 20%)\nupdating: test_target.parquet/.part-00042-tid-5921241872214806594-a5757a61-f16b-4056-bc9e-555d06ebb6d9-8792-1-c000.snappy.parquet.crc (stored 0%)\nupdating: test_target.parquet/part-00079-tid-5921241872214806594-a5757a61-f16b-4056-bc9e-555d06ebb6d9-8829-1-c000.snappy.parquet (deflated 19%)\nupdating: test_target.parquet/.part-00073-tid-5921241872214806594-a5757a61-f16b-4056-bc9e-555d06ebb6d9-8823-1-c000.snappy.parquet.crc (stored 0%)\nupdating: test_target.parquet/.part-00094-tid-5921241872214806594-a5757a61-f16b-4056-bc9e-555d06ebb6d9-8844-1-c000.snappy.parquet.crc (stored 0%)\nupdating: test_target.parquet/.part-00098-tid-5921241872214806594-a5757a61-f16b-4056-bc9e-555d06ebb6d9-8848-1-c000.snappy.parquet.crc (stored 0%)\nupdating: test_target.parquet/.part-00199-tid-5921241872214806594-a5757a61-f16b-4056-bc9e-555d06ebb6d9-8949-1-c000.snappy.parquet.crc (stored 0%)\nupdating: test_target.parquet/.part-00182-tid-5921241872214806594-a5757a61-f16b-4056-bc9e-555d06ebb6d9-8932-1-c000.snappy.parquet.crc (stored 0%)\nupdating: test_target.parquet/part-00049-tid-5921241872214806594-a5757a61-f16b-4056-bc9e-555d06ebb6d9-8799-1-c000.snappy.parquet (deflated 19%)\nupdating: test_target.parquet/part-00083-tid-5921241872214806594-a5757a61-f16b-4056-bc9e-555d06ebb6d9-8833-1-c000.snappy.parquet (deflated 18%)\nupdating: test_target.parquet/part-00021-tid-5921241872214806594-a5757a61-f16b-4056-bc9e-555d06ebb6d9-8771-1-c000.snappy.parquet (deflated 19%)\nupdating: test_target.parquet/part-00150-tid-5921241872214806594-a5757a61-f16b-4056-bc9e-555d06ebb6d9-8900-1-c000.snappy.parquet (deflated 19%)\nupdating: test_target.parquet/part-00169-tid-5921241872214806594-a5757a61-f16b-4056-bc9e-555d06ebb6d9-8919-1-c000.snappy.parquet (deflated 18%)\nupdating: test_target.parquet/part-00104-tid-5921241872214806594-a5757a61-f16b-4056-bc9e-555d06ebb6d9-8854-1-c000.snappy.parquet (deflated 18%)\nupdating: test_target.parquet/part-00004-tid-5921241872214806594-a5757a61-f16b-4056-bc9e-555d06ebb6d9-8754-1-c000.snappy.parquet (deflated 19%)\nupdating: test_target.parquet/part-00196-tid-5921241872214806594-a5757a61-f16b-4056-bc9e-555d06ebb6d9-8946-1-c000.snappy.parquet (deflated 19%)\nupdating: test_target.parquet/.part-00069-tid-5921241872214806594-a5757a61-f16b-4056-bc9e-555d06ebb6d9-8819-1-c000.snappy.parquet.crc (stored 0%)\nupdating: test_target.parquet/.part-00066-tid-5921241872214806594-a5757a61-f16b-4056-bc9e-555d06ebb6d9-8816-1-c000.snappy.parquet.crc (stored 0%)\nupdating: test_target.parquet/part-00097-tid-5921241872214806594-a5757a61-f16b-4056-bc9e-555d06ebb6d9-8847-1-c000.snappy.parquet (deflated 19%)\nupdating: test_target.parquet/part-00020-tid-5921241872214806594-a5757a61-f16b-4056-bc9e-555d06ebb6d9-8770-1-c000.snappy.parquet (deflated 19%)\nupdating: test_target.parquet/part-00070-tid-5921241872214806594-a5757a61-f16b-4056-bc9e-555d06ebb6d9-8820-1-c000.snappy.parquet (deflated 19%)\nupdating: test_target.parquet/part-00088-tid-5921241872214806594-a5757a61-f16b-4056-bc9e-555d06ebb6d9-8838-1-c000.snappy.parquet (deflated 19%)\nupdating: test_target.parquet/.part-00000-tid-5921241872214806594-a5757a61-f16b-4056-bc9e-555d06ebb6d9-8750-1-c000.snappy.parquet.crc (stored 0%)\nupdating: test_target.parquet/part-00042-tid-5921241872214806594-a5757a61-f16b-4056-bc9e-555d06ebb6d9-8792-1-c000.snappy.parquet (deflated 18%)\nupdating: test_target.parquet/part-00043-tid-5921241872214806594-a5757a61-f16b-4056-bc9e-555d06ebb6d9-8793-1-c000.snappy.parquet (deflated 18%)\nupdating: test_target.parquet/part-00129-tid-5921241872214806594-a5757a61-f16b-4056-bc9e-555d06ebb6d9-8879-1-c000.snappy.parquet (deflated 18%)\nupdating: test_target.parquet/.part-00070-tid-5921241872214806594-a5757a61-f16b-4056-bc9e-555d06ebb6d9-8820-1-c000.snappy.parquet.crc (stored 0%)\nupdating: test_target.parquet/.part-00145-tid-5921241872214806594-a5757a61-f16b-4056-bc9e-555d06ebb6d9-8895-1-c000.snappy.parquet.crc (stored 0%)\nupdating: test_target.parquet/part-00054-tid-5921241872214806594-a5757a61-f16b-4056-bc9e-555d06ebb6d9-8804-1-c000.snappy.parquet (deflated 19%)\nupdating: test_target.parquet/part-00194-tid-5921241872214806594-a5757a61-f16b-4056-bc9e-555d06ebb6d9-8944-1-c000.snappy.parquet (deflated 19%)\nupdating: test_target.parquet/.part-00127-tid-5921241872214806594-a5757a61-f16b-4056-bc9e-555d06ebb6d9-8877-1-c000.snappy.parquet.crc (stored 0%)\nupdating: test_target.parquet/part-00018-tid-5921241872214806594-a5757a61-f16b-4056-bc9e-555d06ebb6d9-8768-1-c000.snappy.parquet (deflated 18%)\nupdating: test_target.parquet/.part-00113-tid-5921241872214806594-a5757a61-f16b-4056-bc9e-555d06ebb6d9-8863-1-c000.snappy.parquet.crc (stored 0%)\nupdating: test_target.parquet/part-00179-tid-5921241872214806594-a5757a61-f16b-4056-bc9e-555d06ebb6d9-8929-1-c000.snappy.parquet (deflated 18%)\nupdating: test_target.parquet/part-00147-tid-5921241872214806594-a5757a61-f16b-4056-bc9e-555d06ebb6d9-8897-1-c000.snappy.parquet (deflated 19%)\nupdating: test_target.parquet/part-00108-tid-5921241872214806594-a5757a61-f16b-4056-bc9e-555d06ebb6d9-8858-1-c000.snappy.parquet (deflated 19%)\nupdating: test_target.parquet/.part-00041-tid-5921241872214806594-a5757a61-f16b-4056-bc9e-555d06ebb6d9-8791-1-c000.snappy.parquet.crc (stored 0%)\nupdating: test_target.parquet/.part-00105-tid-5921241872214806594-a5757a61-f16b-4056-bc9e-555d06ebb6d9-8855-1-c000.snappy.parquet.crc (stored 0%)\nupdating: test_target.parquet/.part-00012-tid-5921241872214806594-a5757a61-f16b-4056-bc9e-555d06ebb6d9-8762-1-c000.snappy.parquet.crc (stored 0%)\nupdating: test_target.parquet/part-00048-tid-5921241872214806594-a5757a61-f16b-4056-bc9e-555d06ebb6d9-8798-1-c000.snappy.parquet (deflated 18%)\nupdating: test_target.parquet/.part-00095-tid-5921241872214806594-a5757a61-f16b-4056-bc9e-555d06ebb6d9-8845-1-c000.snappy.parquet.crc (stored 0%)\nupdating: test_target.parquet/part-00087-tid-5921241872214806594-a5757a61-f16b-4056-bc9e-555d06ebb6d9-8837-1-c000.snappy.parquet (deflated 18%)\nupdating: test_target.parquet/part-00128-tid-5921241872214806594-a5757a61-f16b-4056-bc9e-555d06ebb6d9-8878-1-c000.snappy.parquet (deflated 19%)\nupdating: test_target.parquet/part-00057-tid-5921241872214806594-a5757a61-f16b-4056-bc9e-555d06ebb6d9-8807-1-c000.snappy.parquet (deflated 18%)\nupdating: test_target.parquet/.part-00023-tid-5921241872214806594-a5757a61-f16b-4056-bc9e-555d06ebb6d9-8773-1-c000.snappy.parquet.crc (stored 0%)\nupdating: test_target.parquet/.part-00115-tid-5921241872214806594-a5757a61-f16b-4056-bc9e-555d06ebb6d9-8865-1-c000.snappy.parquet.crc (stored 0%)\nupdating: test_target.parquet/.part-00027-tid-5921241872214806594-a5757a61-f16b-4056-bc9e-555d06ebb6d9-8777-1-c000.snappy.parquet.crc (stored 0%)\nupdating: test_target.parquet/.part-00063-tid-5921241872214806594-a5757a61-f16b-4056-bc9e-555d06ebb6d9-8813-1-c000.snappy.parquet.crc (stored 0%)\nupdating: test_target.parquet/.part-00121-tid-5921241872214806594-a5757a61-f16b-4056-bc9e-555d06ebb6d9-8871-1-c000.snappy.parquet.crc (stored 0%)\nupdating: test_target.parquet/.part-00089-tid-5921241872214806594-a5757a61-f16b-4056-bc9e-555d06ebb6d9-8839-1-c000.snappy.parquet.crc (stored 0%)\nupdating: test_target.parquet/.part-00158-tid-5921241872214806594-a5757a61-f16b-4056-bc9e-555d06ebb6d9-8908-1-c000.snappy.parquet.crc (stored 0%)\nupdating: test_target.parquet/part-00102-tid-5921241872214806594-a5757a61-f16b-4056-bc9e-555d06ebb6d9-8852-1-c000.snappy.parquet (deflated 19%)\nupdating: test_target.parquet/.part-00171-tid-5921241872214806594-a5757a61-f16b-4056-bc9e-555d06ebb6d9-8921-1-c000.snappy.parquet.crc (stored 0%)\nupdating: test_target.parquet/.part-00091-tid-5921241872214806594-a5757a61-f16b-4056-bc9e-555d06ebb6d9-8841-1-c000.snappy.parquet.crc (stored 0%)\nupdating: test_target.parquet/part-00106-tid-5921241872214806594-a5757a61-f16b-4056-bc9e-555d06ebb6d9-8856-1-c000.snappy.parquet (deflated 18%)\n"
     ]
    }
   ],
   "source": [
    "%sh\n",
    "cd /dbfs/FileStore/predictive_clean\n",
    "zip -r data.zip train_input_pad.parquet test_input_pad.parquet final_input_pad.parquet train_target.parquet test_target.parquet\n",
    "\n"
   ]
  },
  {
   "cell_type": "code",
   "execution_count": 0,
   "metadata": {
    "application/vnd.databricks.v1+cell": {
     "cellMetadata": {
      "byteLimit": 2048000,
      "rowLimit": 10000
     },
     "inputWidgets": {},
     "nuid": "12e61c8c-baeb-42bc-8de6-aed456b17626",
     "showTitle": false,
     "tableResultSettingsMap": {},
     "title": ""
    }
   },
   "outputs": [
    {
     "output_type": "stream",
     "name": "stdout",
     "output_type": "stream",
     "text": [
      "Archive:  /dbfs/FileStore/predictive_clean/data.zip\n  Length      Date    Time    Name\n---------  ---------- -----   ----\n        0  2025-05-01 18:20   train_input_pad.parquet/\n        8  2025-05-01 18:20   train_input_pad.parquet/._started_1124793087610049014.crc\n  2464532  2025-05-01 18:20   train_input_pad.parquet/part-00003-tid-1124793087610049014-a4f75e2b-f77d-460c-be87-4b0a26fcc4ad-10297-1-c000.snappy.parquet\n    20292  2025-05-01 18:20   train_input_pad.parquet/.part-00010-tid-1124793087610049014-a4f75e2b-f77d-460c-be87-4b0a26fcc4ad-10304-1-c000.snappy.parquet.crc\n  2594906  2025-05-01 18:20   train_input_pad.parquet/part-00006-tid-1124793087610049014-a4f75e2b-f77d-460c-be87-4b0a26fcc4ad-10300-1-c000.snappy.parquet\n    19768  2025-05-01 18:20   train_input_pad.parquet/.part-00011-tid-1124793087610049014-a4f75e2b-f77d-460c-be87-4b0a26fcc4ad-10305-1-c000.snappy.parquet.crc\n        8  2025-05-01 18:20   train_input_pad.parquet/._SUCCESS.crc\n    20204  2025-05-01 18:20   train_input_pad.parquet/.part-00007-tid-1124793087610049014-a4f75e2b-f77d-460c-be87-4b0a26fcc4ad-10301-1-c000.snappy.parquet.crc\n  2581738  2025-05-01 18:20   train_input_pad.parquet/part-00005-tid-1124793087610049014-a4f75e2b-f77d-460c-be87-4b0a26fcc4ad-10299-1-c000.snappy.parquet\n    20284  2025-05-01 18:20   train_input_pad.parquet/.part-00006-tid-1124793087610049014-a4f75e2b-f77d-460c-be87-4b0a26fcc4ad-10300-1-c000.snappy.parquet.crc\n  2430258  2025-05-01 18:20   train_input_pad.parquet/part-00000-tid-1124793087610049014-a4f75e2b-f77d-460c-be87-4b0a26fcc4ad-10294-1-c000.snappy.parquet\n  2450573  2025-05-01 18:20   train_input_pad.parquet/part-00008-tid-1124793087610049014-a4f75e2b-f77d-460c-be87-4b0a26fcc4ad-10302-1-c000.snappy.parquet\n  2492462  2025-05-01 18:20   train_input_pad.parquet/part-00001-tid-1124793087610049014-a4f75e2b-f77d-460c-be87-4b0a26fcc4ad-10295-1-c000.snappy.parquet\n  2523783  2025-05-01 18:20   train_input_pad.parquet/part-00009-tid-1124793087610049014-a4f75e2b-f77d-460c-be87-4b0a26fcc4ad-10303-1-c000.snappy.parquet\n     2612  2025-05-01 18:20   train_input_pad.parquet/.part-00012-tid-1124793087610049014-a4f75e2b-f77d-460c-be87-4b0a26fcc4ad-10306-1-c000.snappy.parquet.crc\n  2551428  2025-05-01 18:20   train_input_pad.parquet/part-00002-tid-1124793087610049014-a4f75e2b-f77d-460c-be87-4b0a26fcc4ad-10296-1-c000.snappy.parquet\n    19944  2025-05-01 18:20   train_input_pad.parquet/.part-00002-tid-1124793087610049014-a4f75e2b-f77d-460c-be87-4b0a26fcc4ad-10296-1-c000.snappy.parquet.crc\n       20  2025-05-01 18:20   train_input_pad.parquet/._committed_1124793087610049014.crc\n  2595968  2025-05-01 18:20   train_input_pad.parquet/part-00010-tid-1124793087610049014-a4f75e2b-f77d-460c-be87-4b0a26fcc4ad-10304-1-c000.snappy.parquet\n    20180  2025-05-01 18:20   train_input_pad.parquet/.part-00005-tid-1124793087610049014-a4f75e2b-f77d-460c-be87-4b0a26fcc4ad-10299-1-c000.snappy.parquet.crc\n  2584857  2025-05-01 18:20   train_input_pad.parquet/part-00007-tid-1124793087610049014-a4f75e2b-f77d-460c-be87-4b0a26fcc4ad-10301-1-c000.snappy.parquet\n        0  2025-05-01 18:20   train_input_pad.parquet/_SUCCESS\n    19728  2025-05-01 18:20   train_input_pad.parquet/.part-00009-tid-1124793087610049014-a4f75e2b-f77d-460c-be87-4b0a26fcc4ad-10303-1-c000.snappy.parquet.crc\n    19484  2025-05-01 18:20   train_input_pad.parquet/.part-00001-tid-1124793087610049014-a4f75e2b-f77d-460c-be87-4b0a26fcc4ad-10295-1-c000.snappy.parquet.crc\n    19156  2025-05-01 18:20   train_input_pad.parquet/.part-00008-tid-1124793087610049014-a4f75e2b-f77d-460c-be87-4b0a26fcc4ad-10302-1-c000.snappy.parquet.crc\n    19264  2025-05-01 18:20   train_input_pad.parquet/.part-00003-tid-1124793087610049014-a4f75e2b-f77d-460c-be87-4b0a26fcc4ad-10297-1-c000.snappy.parquet.crc\n     1350  2025-05-01 18:20   train_input_pad.parquet/_committed_1124793087610049014\n   333272  2025-05-01 18:20   train_input_pad.parquet/part-00012-tid-1124793087610049014-a4f75e2b-f77d-460c-be87-4b0a26fcc4ad-10306-1-c000.snappy.parquet\n        0  2025-05-01 18:20   train_input_pad.parquet/_started_1124793087610049014\n    18996  2025-05-01 18:20   train_input_pad.parquet/.part-00000-tid-1124793087610049014-a4f75e2b-f77d-460c-be87-4b0a26fcc4ad-10294-1-c000.snappy.parquet.crc\n  2529211  2025-05-01 18:20   train_input_pad.parquet/part-00011-tid-1124793087610049014-a4f75e2b-f77d-460c-be87-4b0a26fcc4ad-10305-1-c000.snappy.parquet\n  2498636  2025-05-01 18:20   train_input_pad.parquet/part-00004-tid-1124793087610049014-a4f75e2b-f77d-460c-be87-4b0a26fcc4ad-10298-1-c000.snappy.parquet\n    19532  2025-05-01 18:20   train_input_pad.parquet/.part-00004-tid-1124793087610049014-a4f75e2b-f77d-460c-be87-4b0a26fcc4ad-10298-1-c000.snappy.parquet.crc\n        0  2025-05-01 18:20   test_input_pad.parquet/\n    22332  2025-05-01 18:20   test_input_pad.parquet/.part-00010-tid-6341098318129863703-f4da18e6-eea9-4d99-8265-c704d5bd6593-10717-1-c000.snappy.parquet.crc\n    22496  2025-05-01 18:20   test_input_pad.parquet/.part-00004-tid-6341098318129863703-f4da18e6-eea9-4d99-8265-c704d5bd6593-10711-1-c000.snappy.parquet.crc\n  2726292  2025-05-01 18:20   test_input_pad.parquet/part-00005-tid-6341098318129863703-f4da18e6-eea9-4d99-8265-c704d5bd6593-10712-1-c000.snappy.parquet\n  2857223  2025-05-01 18:20   test_input_pad.parquet/part-00010-tid-6341098318129863703-f4da18e6-eea9-4d99-8265-c704d5bd6593-10717-1-c000.snappy.parquet\n  1888318  2025-05-01 18:20   test_input_pad.parquet/part-00011-tid-6341098318129863703-f4da18e6-eea9-4d99-8265-c704d5bd6593-10718-1-c000.snappy.parquet\n    21676  2025-05-01 18:20   test_input_pad.parquet/.part-00006-tid-6341098318129863703-f4da18e6-eea9-4d99-8265-c704d5bd6593-10713-1-c000.snappy.parquet.crc\n        8  2025-05-01 18:20   test_input_pad.parquet/._SUCCESS.crc\n  2750071  2025-05-01 18:20   test_input_pad.parquet/part-00007-tid-6341098318129863703-f4da18e6-eea9-4d99-8265-c704d5bd6593-10714-1-c000.snappy.parquet\n  2700505  2025-05-01 18:20   test_input_pad.parquet/part-00009-tid-6341098318129863703-f4da18e6-eea9-4d99-8265-c704d5bd6593-10716-1-c000.snappy.parquet\n    22172  2025-05-01 18:20   test_input_pad.parquet/.part-00003-tid-6341098318129863703-f4da18e6-eea9-4d99-8265-c704d5bd6593-10710-1-c000.snappy.parquet.crc\n  2772999  2025-05-01 18:20   test_input_pad.parquet/part-00006-tid-6341098318129863703-f4da18e6-eea9-4d99-8265-c704d5bd6593-10713-1-c000.snappy.parquet\n    22068  2025-05-01 18:20   test_input_pad.parquet/.part-00000-tid-6341098318129863703-f4da18e6-eea9-4d99-8265-c704d5bd6593-10707-1-c000.snappy.parquet.crc\n  2878417  2025-05-01 18:20   test_input_pad.parquet/part-00004-tid-6341098318129863703-f4da18e6-eea9-4d99-8265-c704d5bd6593-10711-1-c000.snappy.parquet\n    22904  2025-05-01 18:20   test_input_pad.parquet/.part-00002-tid-6341098318129863703-f4da18e6-eea9-4d99-8265-c704d5bd6593-10709-1-c000.snappy.parquet.crc\n       20  2025-05-01 18:20   test_input_pad.parquet/._committed_6341098318129863703.crc\n        0  2025-05-01 18:20   test_input_pad.parquet/_SUCCESS\n     1248  2025-05-01 18:20   test_input_pad.parquet/_committed_6341098318129863703\n    21308  2025-05-01 18:20   test_input_pad.parquet/.part-00005-tid-6341098318129863703-f4da18e6-eea9-4d99-8265-c704d5bd6593-10712-1-c000.snappy.parquet.crc\n  2781284  2025-05-01 18:20   test_input_pad.parquet/part-00008-tid-6341098318129863703-f4da18e6-eea9-4d99-8265-c704d5bd6593-10715-1-c000.snappy.parquet\n    21496  2025-05-01 18:20   test_input_pad.parquet/.part-00007-tid-6341098318129863703-f4da18e6-eea9-4d99-8265-c704d5bd6593-10714-1-c000.snappy.parquet.crc\n  2930372  2025-05-01 18:20   test_input_pad.parquet/part-00002-tid-6341098318129863703-f4da18e6-eea9-4d99-8265-c704d5bd6593-10709-1-c000.snappy.parquet\n  2836645  2025-05-01 18:20   test_input_pad.parquet/part-00003-tid-6341098318129863703-f4da18e6-eea9-4d99-8265-c704d5bd6593-10710-1-c000.snappy.parquet\n    21108  2025-05-01 18:20   test_input_pad.parquet/.part-00009-tid-6341098318129863703-f4da18e6-eea9-4d99-8265-c704d5bd6593-10716-1-c000.snappy.parquet.crc\n    21740  2025-05-01 18:20   test_input_pad.parquet/.part-00008-tid-6341098318129863703-f4da18e6-eea9-4d99-8265-c704d5bd6593-10715-1-c000.snappy.parquet.crc\n    14764  2025-05-01 18:20   test_input_pad.parquet/.part-00011-tid-6341098318129863703-f4da18e6-eea9-4d99-8265-c704d5bd6593-10718-1-c000.snappy.parquet.crc\n    22212  2025-05-01 18:20   test_input_pad.parquet/.part-00001-tid-6341098318129863703-f4da18e6-eea9-4d99-8265-c704d5bd6593-10708-1-c000.snappy.parquet.crc\n  2823196  2025-05-01 18:20   test_input_pad.parquet/part-00000-tid-6341098318129863703-f4da18e6-eea9-4d99-8265-c704d5bd6593-10707-1-c000.snappy.parquet\n        8  2025-05-01 18:20   test_input_pad.parquet/._started_6341098318129863703.crc\n        0  2025-05-01 18:20   test_input_pad.parquet/_started_6341098318129863703\n  2841911  2025-05-01 18:20   test_input_pad.parquet/part-00001-tid-6341098318129863703-f4da18e6-eea9-4d99-8265-c704d5bd6593-10708-1-c000.snappy.parquet\n        0  2025-05-01 18:21   final_input_pad.parquet/\n  2707564  2025-05-01 18:21   final_input_pad.parquet/part-00009-tid-1198775509260456708-684ee51f-a544-446e-96d0-63abbc1a89f6-11128-1-c000.snappy.parquet\n  2788287  2025-05-01 18:21   final_input_pad.parquet/part-00008-tid-1198775509260456708-684ee51f-a544-446e-96d0-63abbc1a89f6-11127-1-c000.snappy.parquet\n    21560  2025-05-01 18:21   final_input_pad.parquet/.part-00007-tid-1198775509260456708-684ee51f-a544-446e-96d0-63abbc1a89f6-11126-1-c000.snappy.parquet.crc\n    21364  2025-05-01 18:21   final_input_pad.parquet/.part-00005-tid-1198775509260456708-684ee51f-a544-446e-96d0-63abbc1a89f6-11124-1-c000.snappy.parquet.crc\n    22356  2025-05-01 18:21   final_input_pad.parquet/.part-00003-tid-1198775509260456708-684ee51f-a544-446e-96d0-63abbc1a89f6-11122-1-c000.snappy.parquet.crc\n        8  2025-05-01 18:20   final_input_pad.parquet/._SUCCESS.crc\n  2733556  2025-05-01 18:21   final_input_pad.parquet/part-00005-tid-1198775509260456708-684ee51f-a544-446e-96d0-63abbc1a89f6-11124-1-c000.snappy.parquet\n    21792  2025-05-01 18:21   final_input_pad.parquet/.part-00008-tid-1198775509260456708-684ee51f-a544-446e-96d0-63abbc1a89f6-11127-1-c000.snappy.parquet.crc\n  2951794  2025-05-01 18:21   final_input_pad.parquet/part-00002-tid-1198775509260456708-684ee51f-a544-446e-96d0-63abbc1a89f6-11121-1-c000.snappy.parquet\n    22368  2025-05-01 18:21   final_input_pad.parquet/.part-00010-tid-1198775509260456708-684ee51f-a544-446e-96d0-63abbc1a89f6-11129-1-c000.snappy.parquet.crc\n  2758351  2025-05-01 18:21   final_input_pad.parquet/part-00007-tid-1198775509260456708-684ee51f-a544-446e-96d0-63abbc1a89f6-11126-1-c000.snappy.parquet\n    21164  2025-05-01 18:21   final_input_pad.parquet/.part-00009-tid-1198775509260456708-684ee51f-a544-446e-96d0-63abbc1a89f6-11128-1-c000.snappy.parquet.crc\n    22120  2025-05-01 18:21   final_input_pad.parquet/.part-00000-tid-1198775509260456708-684ee51f-a544-446e-96d0-63abbc1a89f6-11119-1-c000.snappy.parquet.crc\n        0  2025-05-01 18:20   final_input_pad.parquet/_SUCCESS\n    22564  2025-05-01 18:21   final_input_pad.parquet/.part-00004-tid-1198775509260456708-684ee51f-a544-446e-96d0-63abbc1a89f6-11123-1-c000.snappy.parquet.crc\n  1892515  2025-05-01 18:21   final_input_pad.parquet/part-00011-tid-1198775509260456708-684ee51f-a544-446e-96d0-63abbc1a89f6-11130-1-c000.snappy.parquet\n    14796  2025-05-01 18:21   final_input_pad.parquet/.part-00011-tid-1198775509260456708-684ee51f-a544-446e-96d0-63abbc1a89f6-11130-1-c000.snappy.parquet.crc\n    21676  2025-05-01 18:21   final_input_pad.parquet/.part-00006-tid-1198775509260456708-684ee51f-a544-446e-96d0-63abbc1a89f6-11125-1-c000.snappy.parquet.crc\n    22312  2025-05-01 18:21   final_input_pad.parquet/.part-00001-tid-1198775509260456708-684ee51f-a544-446e-96d0-63abbc1a89f6-11120-1-c000.snappy.parquet.crc\n        8  2025-05-01 18:21   final_input_pad.parquet/._started_1198775509260456708.crc\n       20  2025-05-01 18:21   final_input_pad.parquet/._committed_1198775509260456708.crc\n  2886774  2025-05-01 18:21   final_input_pad.parquet/part-00004-tid-1198775509260456708-684ee51f-a544-446e-96d0-63abbc1a89f6-11123-1-c000.snappy.parquet\n  2861790  2025-05-01 18:21   final_input_pad.parquet/part-00010-tid-1198775509260456708-684ee51f-a544-446e-96d0-63abbc1a89f6-11129-1-c000.snappy.parquet\n  2773453  2025-05-01 18:21   final_input_pad.parquet/part-00006-tid-1198775509260456708-684ee51f-a544-446e-96d0-63abbc1a89f6-11125-1-c000.snappy.parquet\n        0  2025-05-01 18:21   final_input_pad.parquet/_started_1198775509260456708\n  2854748  2025-05-01 18:21   final_input_pad.parquet/part-00001-tid-1198775509260456708-684ee51f-a544-446e-96d0-63abbc1a89f6-11120-1-c000.snappy.parquet\n  2829879  2025-05-01 18:21   final_input_pad.parquet/part-00000-tid-1198775509260456708-684ee51f-a544-446e-96d0-63abbc1a89f6-11119-1-c000.snappy.parquet\n    23072  2025-05-01 18:21   final_input_pad.parquet/.part-00002-tid-1198775509260456708-684ee51f-a544-446e-96d0-63abbc1a89f6-11121-1-c000.snappy.parquet.crc\n  2860385  2025-05-01 18:21   final_input_pad.parquet/part-00003-tid-1198775509260456708-684ee51f-a544-446e-96d0-63abbc1a89f6-11122-1-c000.snappy.parquet\n     1248  2025-05-01 18:21   final_input_pad.parquet/_committed_1198775509260456708\n        0  2025-05-01 18:21   train_target.parquet/\n      112  2025-05-01 18:21   train_target.parquet/.part-00187-tid-5982363118589765492-95149607-a82e-4b97-b0a8-5bb20b7625fd-8737-1-c000.snappy.parquet.crc\n    13325  2025-05-01 18:21   train_target.parquet/part-00180-tid-5982363118589765492-95149607-a82e-4b97-b0a8-5bb20b7625fd-8730-1-c000.snappy.parquet\n      116  2025-05-01 18:21   train_target.parquet/.part-00163-tid-5982363118589765492-95149607-a82e-4b97-b0a8-5bb20b7625fd-8713-1-c000.snappy.parquet.crc\n    13595  2025-05-01 18:21   train_target.parquet/part-00164-tid-5982363118589765492-95149607-a82e-4b97-b0a8-5bb20b7625fd-8714-1-c000.snappy.parquet\n    13238  2025-05-01 18:21   train_target.parquet/part-00124-tid-5982363118589765492-95149607-a82e-4b97-b0a8-5bb20b7625fd-8674-1-c000.snappy.parquet\n    13070  2025-05-01 18:21   train_target.parquet/part-00181-tid-5982363118589765492-95149607-a82e-4b97-b0a8-5bb20b7625fd-8731-1-c000.snappy.parquet\n      108  2025-05-01 18:21   train_target.parquet/.part-00088-tid-5982363118589765492-95149607-a82e-4b97-b0a8-5bb20b7625fd-8638-1-c000.snappy.parquet.crc\n      112  2025-05-01 18:21   train_target.parquet/.part-00043-tid-5982363118589765492-95149607-a82e-4b97-b0a8-5bb20b7625fd-8593-1-c000.snappy.parquet.crc\n      112  2025-05-01 18:21   train_target.parquet/.part-00155-tid-5982363118589765492-95149607-a82e-4b97-b0a8-5bb20b7625fd-8705-1-c000.snappy.parquet.crc\n    12659  2025-05-01 18:21   train_target.parquet/part-00016-tid-5982363118589765492-95149607-a82e-4b97-b0a8-5bb20b7625fd-8566-1-c000.snappy.parquet\n      116  2025-05-01 18:21   train_target.parquet/.part-00076-tid-5982363118589765492-95149607-a82e-4b97-b0a8-5bb20b7625fd-8626-1-c000.snappy.parquet.crc\n    13130  2025-05-01 18:21   train_target.parquet/part-00077-tid-5982363118589765492-95149607-a82e-4b97-b0a8-5bb20b7625fd-8627-1-c000.snappy.parquet\n      120  2025-05-01 18:21   train_target.parquet/.part-00115-tid-5982363118589765492-95149607-a82e-4b97-b0a8-5bb20b7625fd-8665-1-c000.snappy.parquet.crc\n    13707  2025-05-01 18:21   train_target.parquet/part-00044-tid-5982363118589765492-95149607-a82e-4b97-b0a8-5bb20b7625fd-8594-1-c000.snappy.parquet\n      116  2025-05-01 18:21   train_target.parquet/.part-00009-tid-5982363118589765492-95149607-a82e-4b97-b0a8-5bb20b7625fd-8559-1-c000.snappy.parquet.crc\n    13228  2025-05-01 18:21   train_target.parquet/part-00194-tid-5982363118589765492-95149607-a82e-4b97-b0a8-5bb20b7625fd-8744-1-c000.snappy.parquet\n    13725  2025-05-01 18:21   train_target.parquet/part-00082-tid-5982363118589765492-95149607-a82e-4b97-b0a8-5bb20b7625fd-8632-1-c000.snappy.parquet\n    13369  2025-05-01 18:21   train_target.parquet/part-00136-tid-5982363118589765492-95149607-a82e-4b97-b0a8-5bb20b7625fd-8686-1-c000.snappy.parquet\n    13593  2025-05-01 18:21   train_target.parquet/part-00152-tid-5982363118589765492-95149607-a82e-4b97-b0a8-5bb20b7625fd-8702-1-c000.snappy.parquet\n    13627  2025-05-01 18:21   train_target.parquet/part-00096-tid-5982363118589765492-95149607-a82e-4b97-b0a8-5bb20b7625fd-8646-1-c000.snappy.parquet\n    13124  2025-05-01 18:21   train_target.parquet/part-00050-tid-5982363118589765492-95149607-a82e-4b97-b0a8-5bb20b7625fd-8600-1-c000.snappy.parquet\n    13767  2025-05-01 18:21   train_target.parquet/part-00092-tid-5982363118589765492-95149607-a82e-4b97-b0a8-5bb20b7625fd-8642-1-c000.snappy.parquet\n    13447  2025-05-01 18:21   train_target.parquet/part-00196-tid-5982363118589765492-95149607-a82e-4b97-b0a8-5bb20b7625fd-8746-1-c000.snappy.parquet\n      108  2025-05-01 18:21   train_target.parquet/.part-00085-tid-5982363118589765492-95149607-a82e-4b97-b0a8-5bb20b7625fd-8635-1-c000.snappy.parquet.crc\n      116  2025-05-01 18:21   train_target.parquet/.part-00097-tid-5982363118589765492-95149607-a82e-4b97-b0a8-5bb20b7625fd-8647-1-c000.snappy.parquet.crc\n    13119  2025-05-01 18:21   train_target.parquet/part-00192-tid-5982363118589765492-95149607-a82e-4b97-b0a8-5bb20b7625fd-8742-1-c000.snappy.parquet\n    12886  2025-05-01 18:21   train_target.parquet/part-00048-tid-5982363118589765492-95149607-a82e-4b97-b0a8-5bb20b7625fd-8598-1-c000.snappy.parquet\n    13883  2025-05-01 18:21   train_target.parquet/part-00115-tid-5982363118589765492-95149607-a82e-4b97-b0a8-5bb20b7625fd-8665-1-c000.snappy.parquet\n    13351  2025-05-01 18:21   train_target.parquet/part-00001-tid-5982363118589765492-95149607-a82e-4b97-b0a8-5bb20b7625fd-8551-1-c000.snappy.parquet\n      108  2025-05-01 18:21   train_target.parquet/.part-00083-tid-5982363118589765492-95149607-a82e-4b97-b0a8-5bb20b7625fd-8633-1-c000.snappy.parquet.crc\n    12723  2025-05-01 18:21   train_target.parquet/part-00156-tid-5982363118589765492-95149607-a82e-4b97-b0a8-5bb20b7625fd-8706-1-c000.snappy.parquet\n    13678  2025-05-01 18:21   train_target.parquet/part-00163-tid-5982363118589765492-95149607-a82e-4b97-b0a8-5bb20b7625fd-8713-1-c000.snappy.parquet\n    12605  2025-05-01 18:21   train_target.parquet/part-00141-tid-5982363118589765492-95149607-a82e-4b97-b0a8-5bb20b7625fd-8691-1-c000.snappy.parquet\n      120  2025-05-01 18:21   train_target.parquet/.part-00018-tid-5982363118589765492-95149607-a82e-4b97-b0a8-5bb20b7625fd-8568-1-c000.snappy.parquet.crc\n    12925  2025-05-01 18:21   train_target.parquet/part-00007-tid-5982363118589765492-95149607-a82e-4b97-b0a8-5bb20b7625fd-8557-1-c000.snappy.parquet\n    12664  2025-05-01 18:21   train_target.parquet/part-00191-tid-5982363118589765492-95149607-a82e-4b97-b0a8-5bb20b7625fd-8741-1-c000.snappy.parquet\n    12452  2025-05-01 18:21   train_target.parquet/part-00120-tid-5982363118589765492-95149607-a82e-4b97-b0a8-5bb20b7625fd-8670-1-c000.snappy.parquet\n    12593  2025-05-01 18:21   train_target.parquet/part-00059-tid-5982363118589765492-95149607-a82e-4b97-b0a8-5bb20b7625fd-8609-1-c000.snappy.parquet\n    12491  2025-05-01 18:21   train_target.parquet/part-00014-tid-5982363118589765492-95149607-a82e-4b97-b0a8-5bb20b7625fd-8564-1-c000.snappy.parquet\n      116  2025-05-01 18:21   train_target.parquet/.part-00089-tid-5982363118589765492-95149607-a82e-4b97-b0a8-5bb20b7625fd-8639-1-c000.snappy.parquet.crc\n    12901  2025-05-01 18:21   train_target.parquet/part-00179-tid-5982363118589765492-95149607-a82e-4b97-b0a8-5bb20b7625fd-8729-1-c000.snappy.parquet\n      112  2025-05-01 18:21   train_target.parquet/.part-00116-tid-5982363118589765492-95149607-a82e-4b97-b0a8-5bb20b7625fd-8666-1-c000.snappy.parquet.crc\n    12725  2025-05-01 18:21   train_target.parquet/part-00197-tid-5982363118589765492-95149607-a82e-4b97-b0a8-5bb20b7625fd-8747-1-c000.snappy.parquet\n      116  2025-05-01 18:21   train_target.parquet/.part-00112-tid-5982363118589765492-95149607-a82e-4b97-b0a8-5bb20b7625fd-8662-1-c000.snappy.parquet.crc\n        0  2025-05-01 18:21   train_target.parquet/_started_5982363118589765492\n      108  2025-05-01 18:21   train_target.parquet/.part-00030-tid-5982363118589765492-95149607-a82e-4b97-b0a8-5bb20b7625fd-8580-1-c000.snappy.parquet.crc\n      112  2025-05-01 18:21   train_target.parquet/.part-00185-tid-5982363118589765492-95149607-a82e-4b97-b0a8-5bb20b7625fd-8735-1-c000.snappy.parquet.crc\n    12966  2025-05-01 18:21   train_target.parquet/part-00032-tid-5982363118589765492-95149607-a82e-4b97-b0a8-5bb20b7625fd-8582-1-c000.snappy.parquet\n      108  2025-05-01 18:21   train_target.parquet/.part-00108-tid-5982363118589765492-95149607-a82e-4b97-b0a8-5bb20b7625fd-8658-1-c000.snappy.parquet.crc\n    12740  2025-05-01 18:21   train_target.parquet/part-00103-tid-5982363118589765492-95149607-a82e-4b97-b0a8-5bb20b7625fd-8653-1-c000.snappy.parquet\n    12999  2025-05-01 18:21   train_target.parquet/part-00073-tid-5982363118589765492-95149607-a82e-4b97-b0a8-5bb20b7625fd-8623-1-c000.snappy.parquet\n    13774  2025-05-01 18:21   train_target.parquet/part-00189-tid-5982363118589765492-95149607-a82e-4b97-b0a8-5bb20b7625fd-8739-1-c000.snappy.parquet\n      112  2025-05-01 18:21   train_target.parquet/.part-00119-tid-5982363118589765492-95149607-a82e-4b97-b0a8-5bb20b7625fd-8669-1-c000.snappy.parquet.crc\n      116  2025-05-01 18:21   train_target.parquet/.part-00165-tid-5982363118589765492-95149607-a82e-4b97-b0a8-5bb20b7625fd-8715-1-c000.snappy.parquet.crc\n    13700  2025-05-01 18:21   train_target.parquet/part-00097-tid-5982363118589765492-95149607-a82e-4b97-b0a8-5bb20b7625fd-8647-1-c000.snappy.parquet\n      108  2025-05-01 18:21   train_target.parquet/.part-00004-tid-5982363118589765492-95149607-a82e-4b97-b0a8-5bb20b7625fd-8554-1-c000.snappy.parquet.crc\n    12295  2025-05-01 18:21   train_target.parquet/part-00013-tid-5982363118589765492-95149607-a82e-4b97-b0a8-5bb20b7625fd-8563-1-c000.snappy.parquet\n      112  2025-05-01 18:21   train_target.parquet/.part-00179-tid-5982363118589765492-95149607-a82e-4b97-b0a8-5bb20b7625fd-8729-1-c000.snappy.parquet.crc\n      112  2025-05-01 18:21   train_target.parquet/.part-00070-tid-5982363118589765492-95149607-a82e-4b97-b0a8-5bb20b7625fd-8620-1-c000.snappy.parquet.crc\n    13041  2025-05-01 18:21   train_target.parquet/part-00011-tid-5982363118589765492-95149607-a82e-4b97-b0a8-5bb20b7625fd-8561-1-c000.snappy.parquet\n      108  2025-05-01 18:21   train_target.parquet/.part-00014-tid-5982363118589765492-95149607-a82e-4b97-b0a8-5bb20b7625fd-8564-1-c000.snappy.parquet.crc\n    13422  2025-05-01 18:21   train_target.parquet/part-00071-tid-5982363118589765492-95149607-a82e-4b97-b0a8-5bb20b7625fd-8621-1-c000.snappy.parquet\n      116  2025-05-01 18:21   train_target.parquet/.part-00144-tid-5982363118589765492-95149607-a82e-4b97-b0a8-5bb20b7625fd-8694-1-c000.snappy.parquet.crc\n    13547  2025-05-01 18:21   train_target.parquet/part-00162-tid-5982363118589765492-95149607-a82e-4b97-b0a8-5bb20b7625fd-8712-1-c000.snappy.parquet\n    12753  2025-05-01 18:21   train_target.parquet/part-00023-tid-5982363118589765492-95149607-a82e-4b97-b0a8-5bb20b7625fd-8573-1-c000.snappy.parquet\n    13203  2025-05-01 18:21   train_target.parquet/part-00116-tid-5982363118589765492-95149607-a82e-4b97-b0a8-5bb20b7625fd-8666-1-c000.snappy.parquet\n    13343  2025-05-01 18:21   train_target.parquet/part-00173-tid-5982363118589765492-95149607-a82e-4b97-b0a8-5bb20b7625fd-8723-1-c000.snappy.parquet\n    12999  2025-05-01 18:21   train_target.parquet/part-00107-tid-5982363118589765492-95149607-a82e-4b97-b0a8-5bb20b7625fd-8657-1-c000.snappy.parquet\n    13548  2025-05-01 18:21   train_target.parquet/part-00127-tid-5982363118589765492-95149607-a82e-4b97-b0a8-5bb20b7625fd-8677-1-c000.snappy.parquet\n      108  2025-05-01 18:21   train_target.parquet/.part-00039-tid-5982363118589765492-95149607-a82e-4b97-b0a8-5bb20b7625fd-8589-1-c000.snappy.parquet.crc\n      108  2025-05-01 18:21   train_target.parquet/.part-00141-tid-5982363118589765492-95149607-a82e-4b97-b0a8-5bb20b7625fd-8691-1-c000.snappy.parquet.crc\n      116  2025-05-01 18:21   train_target.parquet/.part-00022-tid-5982363118589765492-95149607-a82e-4b97-b0a8-5bb20b7625fd-8572-1-c000.snappy.parquet.crc\n      120  2025-05-01 18:21   train_target.parquet/.part-00142-tid-5982363118589765492-95149607-a82e-4b97-b0a8-5bb20b7625fd-8692-1-c000.snappy.parquet.crc\n    13439  2025-05-01 18:21   train_target.parquet/part-00182-tid-5982363118589765492-95149607-a82e-4b97-b0a8-5bb20b7625fd-8732-1-c000.snappy.parquet\n    13676  2025-05-01 18:21   train_target.parquet/part-00166-tid-5982363118589765492-95149607-a82e-4b97-b0a8-5bb20b7625fd-8716-1-c000.snappy.parquet\n      116  2025-05-01 18:21   train_target.parquet/.part-00127-tid-5982363118589765492-95149607-a82e-4b97-b0a8-5bb20b7625fd-8677-1-c000.snappy.parquet.crc\n      112  2025-05-01 18:21   train_target.parquet/.part-00167-tid-5982363118589765492-95149607-a82e-4b97-b0a8-5bb20b7625fd-8717-1-c000.snappy.parquet.crc\n      116  2025-05-01 18:21   train_target.pa\n\n*** WARNING: max output size exceeded, skipping output. ***\n\n21241872214806594-a5757a61-f16b-4056-bc9e-555d06ebb6d9-8878-1-c000.snappy.parquet.crc\n      112  2025-05-01 18:21   test_target.parquet/.part-00192-tid-5921241872214806594-a5757a61-f16b-4056-bc9e-555d06ebb6d9-8942-1-c000.snappy.parquet.crc\n    13108  2025-05-01 18:21   test_target.parquet/part-00000-tid-5921241872214806594-a5757a61-f16b-4056-bc9e-555d06ebb6d9-8750-1-c000.snappy.parquet\n    13325  2025-05-01 18:21   test_target.parquet/part-00122-tid-5921241872214806594-a5757a61-f16b-4056-bc9e-555d06ebb6d9-8872-1-c000.snappy.parquet\n      116  2025-05-01 18:21   test_target.parquet/.part-00022-tid-5921241872214806594-a5757a61-f16b-4056-bc9e-555d06ebb6d9-8772-1-c000.snappy.parquet.crc\n      116  2025-05-01 18:21   test_target.parquet/.part-00043-tid-5921241872214806594-a5757a61-f16b-4056-bc9e-555d06ebb6d9-8793-1-c000.snappy.parquet.crc\n      116  2025-05-01 18:21   test_target.parquet/.part-00009-tid-5921241872214806594-a5757a61-f16b-4056-bc9e-555d06ebb6d9-8759-1-c000.snappy.parquet.crc\n    13347  2025-05-01 18:21   test_target.parquet/part-00014-tid-5921241872214806594-a5757a61-f16b-4056-bc9e-555d06ebb6d9-8764-1-c000.snappy.parquet\n    13554  2025-05-01 18:21   test_target.parquet/part-00064-tid-5921241872214806594-a5757a61-f16b-4056-bc9e-555d06ebb6d9-8814-1-c000.snappy.parquet\n      116  2025-05-01 18:21   test_target.parquet/.part-00164-tid-5921241872214806594-a5757a61-f16b-4056-bc9e-555d06ebb6d9-8914-1-c000.snappy.parquet.crc\n      104  2025-05-01 18:21   test_target.parquet/.part-00188-tid-5921241872214806594-a5757a61-f16b-4056-bc9e-555d06ebb6d9-8938-1-c000.snappy.parquet.crc\n    13342  2025-05-01 18:21   test_target.parquet/part-00143-tid-5921241872214806594-a5757a61-f16b-4056-bc9e-555d06ebb6d9-8893-1-c000.snappy.parquet\n      108  2025-05-01 18:21   test_target.parquet/.part-00133-tid-5921241872214806594-a5757a61-f16b-4056-bc9e-555d06ebb6d9-8883-1-c000.snappy.parquet.crc\n      112  2025-05-01 18:21   test_target.parquet/.part-00033-tid-5921241872214806594-a5757a61-f16b-4056-bc9e-555d06ebb6d9-8783-1-c000.snappy.parquet.crc\n    13684  2025-05-01 18:21   test_target.parquet/part-00182-tid-5921241872214806594-a5757a61-f16b-4056-bc9e-555d06ebb6d9-8932-1-c000.snappy.parquet\n    13173  2025-05-01 18:21   test_target.parquet/part-00198-tid-5921241872214806594-a5757a61-f16b-4056-bc9e-555d06ebb6d9-8948-1-c000.snappy.parquet\n      112  2025-05-01 18:21   test_target.parquet/.part-00096-tid-5921241872214806594-a5757a61-f16b-4056-bc9e-555d06ebb6d9-8846-1-c000.snappy.parquet.crc\n    13444  2025-05-01 18:21   test_target.parquet/part-00055-tid-5921241872214806594-a5757a61-f16b-4056-bc9e-555d06ebb6d9-8805-1-c000.snappy.parquet\n      108  2025-05-01 18:21   test_target.parquet/.part-00054-tid-5921241872214806594-a5757a61-f16b-4056-bc9e-555d06ebb6d9-8804-1-c000.snappy.parquet.crc\n      116  2025-05-01 18:21   test_target.parquet/.part-00053-tid-5921241872214806594-a5757a61-f16b-4056-bc9e-555d06ebb6d9-8803-1-c000.snappy.parquet.crc\n      112  2025-05-01 18:21   test_target.parquet/.part-00083-tid-5921241872214806594-a5757a61-f16b-4056-bc9e-555d06ebb6d9-8833-1-c000.snappy.parquet.crc\n    12910  2025-05-01 18:21   test_target.parquet/part-00177-tid-5921241872214806594-a5757a61-f16b-4056-bc9e-555d06ebb6d9-8927-1-c000.snappy.parquet\n    13329  2025-05-01 18:21   test_target.parquet/part-00103-tid-5921241872214806594-a5757a61-f16b-4056-bc9e-555d06ebb6d9-8853-1-c000.snappy.parquet\n      116  2025-05-01 18:21   test_target.parquet/.part-00092-tid-5921241872214806594-a5757a61-f16b-4056-bc9e-555d06ebb6d9-8842-1-c000.snappy.parquet.crc\n      116  2025-05-01 18:21   test_target.parquet/.part-00026-tid-5921241872214806594-a5757a61-f16b-4056-bc9e-555d06ebb6d9-8776-1-c000.snappy.parquet.crc\n      116  2025-05-01 18:21   test_target.parquet/.part-00046-tid-5921241872214806594-a5757a61-f16b-4056-bc9e-555d06ebb6d9-8796-1-c000.snappy.parquet.crc\n    13262  2025-05-01 18:21   test_target.parquet/part-00016-tid-5921241872214806594-a5757a61-f16b-4056-bc9e-555d06ebb6d9-8766-1-c000.snappy.parquet\n      116  2025-05-01 18:21   test_target.parquet/.part-00072-tid-5921241872214806594-a5757a61-f16b-4056-bc9e-555d06ebb6d9-8822-1-c000.snappy.parquet.crc\n    13340  2025-05-01 18:21   test_target.parquet/part-00171-tid-5921241872214806594-a5757a61-f16b-4056-bc9e-555d06ebb6d9-8921-1-c000.snappy.parquet\n    12438  2025-05-01 18:21   test_target.parquet/part-00154-tid-5921241872214806594-a5757a61-f16b-4056-bc9e-555d06ebb6d9-8904-1-c000.snappy.parquet\n    13634  2025-05-01 18:21   test_target.parquet/part-00166-tid-5921241872214806594-a5757a61-f16b-4056-bc9e-555d06ebb6d9-8916-1-c000.snappy.parquet\n      116  2025-05-01 18:21   test_target.parquet/.part-00036-tid-5921241872214806594-a5757a61-f16b-4056-bc9e-555d06ebb6d9-8786-1-c000.snappy.parquet.crc\n    13826  2025-05-01 18:21   test_target.parquet/part-00107-tid-5921241872214806594-a5757a61-f16b-4056-bc9e-555d06ebb6d9-8857-1-c000.snappy.parquet\n      108  2025-05-01 18:21   test_target.parquet/.part-00160-tid-5921241872214806594-a5757a61-f16b-4056-bc9e-555d06ebb6d9-8910-1-c000.snappy.parquet.crc\n      112  2025-05-01 18:21   test_target.parquet/.part-00047-tid-5921241872214806594-a5757a61-f16b-4056-bc9e-555d06ebb6d9-8797-1-c000.snappy.parquet.crc\n      116  2025-05-01 18:21   test_target.parquet/.part-00062-tid-5921241872214806594-a5757a61-f16b-4056-bc9e-555d06ebb6d9-8812-1-c000.snappy.parquet.crc\n      112  2025-05-01 18:21   test_target.parquet/.part-00191-tid-5921241872214806594-a5757a61-f16b-4056-bc9e-555d06ebb6d9-8941-1-c000.snappy.parquet.crc\n      116  2025-05-01 18:21   test_target.parquet/.part-00086-tid-5921241872214806594-a5757a61-f16b-4056-bc9e-555d06ebb6d9-8836-1-c000.snappy.parquet.crc\n    13176  2025-05-01 18:21   test_target.parquet/part-00116-tid-5921241872214806594-a5757a61-f16b-4056-bc9e-555d06ebb6d9-8866-1-c000.snappy.parquet\n    13227  2025-05-01 18:21   test_target.parquet/part-00085-tid-5921241872214806594-a5757a61-f16b-4056-bc9e-555d06ebb6d9-8835-1-c000.snappy.parquet\n    13478  2025-05-01 18:21   test_target.parquet/part-00187-tid-5921241872214806594-a5757a61-f16b-4056-bc9e-555d06ebb6d9-8937-1-c000.snappy.parquet\n    13171  2025-05-01 18:21   test_target.parquet/part-00006-tid-5921241872214806594-a5757a61-f16b-4056-bc9e-555d06ebb6d9-8756-1-c000.snappy.parquet\n      116  2025-05-01 18:21   test_target.parquet/.part-00125-tid-5921241872214806594-a5757a61-f16b-4056-bc9e-555d06ebb6d9-8875-1-c000.snappy.parquet.crc\n      112  2025-05-01 18:21   test_target.parquet/.part-00131-tid-5921241872214806594-a5757a61-f16b-4056-bc9e-555d06ebb6d9-8881-1-c000.snappy.parquet.crc\n      116  2025-05-01 18:21   test_target.parquet/.part-00034-tid-5921241872214806594-a5757a61-f16b-4056-bc9e-555d06ebb6d9-8784-1-c000.snappy.parquet.crc\n    13566  2025-05-01 18:21   test_target.parquet/part-00178-tid-5921241872214806594-a5757a61-f16b-4056-bc9e-555d06ebb6d9-8928-1-c000.snappy.parquet\n    13402  2025-05-01 18:21   test_target.parquet/part-00041-tid-5921241872214806594-a5757a61-f16b-4056-bc9e-555d06ebb6d9-8791-1-c000.snappy.parquet\n      116  2025-05-01 18:21   test_target.parquet/.part-00147-tid-5921241872214806594-a5757a61-f16b-4056-bc9e-555d06ebb6d9-8897-1-c000.snappy.parquet.crc\n      116  2025-05-01 18:21   test_target.parquet/.part-00195-tid-5921241872214806594-a5757a61-f16b-4056-bc9e-555d06ebb6d9-8945-1-c000.snappy.parquet.crc\n    13775  2025-05-01 18:21   test_target.parquet/part-00025-tid-5921241872214806594-a5757a61-f16b-4056-bc9e-555d06ebb6d9-8775-1-c000.snappy.parquet\n    13870  2025-05-01 18:21   test_target.parquet/part-00152-tid-5921241872214806594-a5757a61-f16b-4056-bc9e-555d06ebb6d9-8902-1-c000.snappy.parquet\n    13671  2025-05-01 18:21   test_target.parquet/part-00127-tid-5921241872214806594-a5757a61-f16b-4056-bc9e-555d06ebb6d9-8877-1-c000.snappy.parquet\n      116  2025-05-01 18:21   test_target.parquet/.part-00008-tid-5921241872214806594-a5757a61-f16b-4056-bc9e-555d06ebb6d9-8758-1-c000.snappy.parquet.crc\n      108  2025-05-01 18:21   test_target.parquet/.part-00190-tid-5921241872214806594-a5757a61-f16b-4056-bc9e-555d06ebb6d9-8940-1-c000.snappy.parquet.crc\n    13106  2025-05-01 18:21   test_target.parquet/part-00091-tid-5921241872214806594-a5757a61-f16b-4056-bc9e-555d06ebb6d9-8841-1-c000.snappy.parquet\n    13799  2025-05-01 18:21   test_target.parquet/part-00153-tid-5921241872214806594-a5757a61-f16b-4056-bc9e-555d06ebb6d9-8903-1-c000.snappy.parquet\n    12915  2025-05-01 18:21   test_target.parquet/part-00065-tid-5921241872214806594-a5757a61-f16b-4056-bc9e-555d06ebb6d9-8815-1-c000.snappy.parquet\n    13691  2025-05-01 18:21   test_target.parquet/part-00124-tid-5921241872214806594-a5757a61-f16b-4056-bc9e-555d06ebb6d9-8874-1-c000.snappy.parquet\n    13366  2025-05-01 18:21   test_target.parquet/part-00158-tid-5921241872214806594-a5757a61-f16b-4056-bc9e-555d06ebb6d9-8908-1-c000.snappy.parquet\n    13335  2025-05-01 18:21   test_target.parquet/part-00113-tid-5921241872214806594-a5757a61-f16b-4056-bc9e-555d06ebb6d9-8863-1-c000.snappy.parquet\n      112  2025-05-01 18:21   test_target.parquet/.part-00077-tid-5921241872214806594-a5757a61-f16b-4056-bc9e-555d06ebb6d9-8827-1-c000.snappy.parquet.crc\n    13106  2025-05-01 18:21   test_target.parquet/part-00074-tid-5921241872214806594-a5757a61-f16b-4056-bc9e-555d06ebb6d9-8824-1-c000.snappy.parquet\n      112  2025-05-01 18:21   test_target.parquet/.part-00163-tid-5921241872214806594-a5757a61-f16b-4056-bc9e-555d06ebb6d9-8913-1-c000.snappy.parquet.crc\n      116  2025-05-01 18:21   test_target.parquet/.part-00103-tid-5921241872214806594-a5757a61-f16b-4056-bc9e-555d06ebb6d9-8853-1-c000.snappy.parquet.crc\n    13102  2025-05-01 18:21   test_target.parquet/part-00060-tid-5921241872214806594-a5757a61-f16b-4056-bc9e-555d06ebb6d9-8810-1-c000.snappy.parquet\n    13617  2025-05-01 18:21   test_target.parquet/part-00053-tid-5921241872214806594-a5757a61-f16b-4056-bc9e-555d06ebb6d9-8803-1-c000.snappy.parquet\n    13369  2025-05-01 18:21   test_target.parquet/part-00078-tid-5921241872214806594-a5757a61-f16b-4056-bc9e-555d06ebb6d9-8828-1-c000.snappy.parquet\n    13057  2025-05-01 18:21   test_target.parquet/part-00115-tid-5921241872214806594-a5757a61-f16b-4056-bc9e-555d06ebb6d9-8865-1-c000.snappy.parquet\n      116  2025-05-01 18:21   test_target.parquet/.part-00003-tid-5921241872214806594-a5757a61-f16b-4056-bc9e-555d06ebb6d9-8753-1-c000.snappy.parquet.crc\n      116  2025-05-01 18:21   test_target.parquet/.part-00044-tid-5921241872214806594-a5757a61-f16b-4056-bc9e-555d06ebb6d9-8794-1-c000.snappy.parquet.crc\n    12722  2025-05-01 18:21   test_target.parquet/part-00160-tid-5921241872214806594-a5757a61-f16b-4056-bc9e-555d06ebb6d9-8910-1-c000.snappy.parquet\n    13889  2025-05-01 18:21   test_target.parquet/part-00130-tid-5921241872214806594-a5757a61-f16b-4056-bc9e-555d06ebb6d9-8880-1-c000.snappy.parquet\n      116  2025-05-01 18:21   test_target.parquet/.part-00157-tid-5921241872214806594-a5757a61-f16b-4056-bc9e-555d06ebb6d9-8907-1-c000.snappy.parquet.crc\n      112  2025-05-01 18:21   test_target.parquet/.part-00017-tid-5921241872214806594-a5757a61-f16b-4056-bc9e-555d06ebb6d9-8767-1-c000.snappy.parquet.crc\n    13357  2025-05-01 18:21   test_target.parquet/part-00011-tid-5921241872214806594-a5757a61-f16b-4056-bc9e-555d06ebb6d9-8761-1-c000.snappy.parquet\n    12885  2025-05-01 18:21   test_target.parquet/part-00118-tid-5921241872214806594-a5757a61-f16b-4056-bc9e-555d06ebb6d9-8868-1-c000.snappy.parquet\n      116  2025-05-01 18:21   test_target.parquet/.part-00143-tid-5921241872214806594-a5757a61-f16b-4056-bc9e-555d06ebb6d9-8893-1-c000.snappy.parquet.crc\n      112  2025-05-01 18:21   test_target.parquet/.part-00030-tid-5921241872214806594-a5757a61-f16b-4056-bc9e-555d06ebb6d9-8780-1-c000.snappy.parquet.crc\n      112  2025-05-01 18:21   test_target.parquet/.part-00074-tid-5921241872214806594-a5757a61-f16b-4056-bc9e-555d06ebb6d9-8824-1-c000.snappy.parquet.crc\n    13034  2025-05-01 18:21   test_target.parquet/part-00138-tid-5921241872214806594-a5757a61-f16b-4056-bc9e-555d06ebb6d9-8888-1-c000.snappy.parquet\n      112  2025-05-01 18:21   test_target.parquet/.part-00193-tid-5921241872214806594-a5757a61-f16b-4056-bc9e-555d06ebb6d9-8943-1-c000.snappy.parquet.crc\n      116  2025-05-01 18:21   test_target.parquet/.part-00181-tid-5921241872214806594-a5757a61-f16b-4056-bc9e-555d06ebb6d9-8931-1-c000.snappy.parquet.crc\n      112  2025-05-01 18:21   test_target.parquet/.part-00088-tid-5921241872214806594-a5757a61-f16b-4056-bc9e-555d06ebb6d9-8838-1-c000.snappy.parquet.crc\n      112  2025-05-01 18:21   test_target.parquet/.part-00015-tid-5921241872214806594-a5757a61-f16b-4056-bc9e-555d06ebb6d9-8765-1-c000.snappy.parquet.crc\n      112  2025-05-01 18:21   test_target.parquet/.part-00155-tid-5921241872214806594-a5757a61-f16b-4056-bc9e-555d06ebb6d9-8905-1-c000.snappy.parquet.crc\n      108  2025-05-01 18:21   test_target.parquet/.part-00148-tid-5921241872214806594-a5757a61-f16b-4056-bc9e-555d06ebb6d9-8898-1-c000.snappy.parquet.crc\n      116  2025-05-01 18:21   test_target.parquet/.part-00064-tid-5921241872214806594-a5757a61-f16b-4056-bc9e-555d06ebb6d9-8814-1-c000.snappy.parquet.crc\n    12727  2025-05-01 18:21   test_target.parquet/part-00139-tid-5921241872214806594-a5757a61-f16b-4056-bc9e-555d06ebb6d9-8889-1-c000.snappy.parquet\n    13259  2025-05-01 18:21   test_target.parquet/part-00110-tid-5921241872214806594-a5757a61-f16b-4056-bc9e-555d06ebb6d9-8860-1-c000.snappy.parquet\n      116  2025-05-01 18:21   test_target.parquet/.part-00031-tid-5921241872214806594-a5757a61-f16b-4056-bc9e-555d06ebb6d9-8781-1-c000.snappy.parquet.crc\n      116  2025-05-01 18:21   test_target.parquet/.part-00071-tid-5921241872214806594-a5757a61-f16b-4056-bc9e-555d06ebb6d9-8821-1-c000.snappy.parquet.crc\n    13577  2025-05-01 18:21   test_target.parquet/part-00031-tid-5921241872214806594-a5757a61-f16b-4056-bc9e-555d06ebb6d9-8781-1-c000.snappy.parquet\n    13653  2025-05-01 18:21   test_target.parquet/part-00052-tid-5921241872214806594-a5757a61-f16b-4056-bc9e-555d06ebb6d9-8802-1-c000.snappy.parquet\n    13214  2025-05-01 18:21   test_target.parquet/part-00095-tid-5921241872214806594-a5757a61-f16b-4056-bc9e-555d06ebb6d9-8845-1-c000.snappy.parquet\n      116  2025-05-01 18:21   test_target.parquet/.part-00049-tid-5921241872214806594-a5757a61-f16b-4056-bc9e-555d06ebb6d9-8799-1-c000.snappy.parquet.crc\n      116  2025-05-01 18:21   test_target.parquet/.part-00021-tid-5921241872214806594-a5757a61-f16b-4056-bc9e-555d06ebb6d9-8771-1-c000.snappy.parquet.crc\n    13353  2025-05-01 18:21   test_target.parquet/part-00189-tid-5921241872214806594-a5757a61-f16b-4056-bc9e-555d06ebb6d9-8939-1-c000.snappy.parquet\n      116  2025-05-01 18:21   test_target.parquet/.part-00153-tid-5921241872214806594-a5757a61-f16b-4056-bc9e-555d06ebb6d9-8903-1-c000.snappy.parquet.crc\n      116  2025-05-01 18:21   test_target.parquet/.part-00093-tid-5921241872214806594-a5757a61-f16b-4056-bc9e-555d06ebb6d9-8843-1-c000.snappy.parquet.crc\n    13293  2025-05-01 18:21   test_target.parquet/part-00024-tid-5921241872214806594-a5757a61-f16b-4056-bc9e-555d06ebb6d9-8774-1-c000.snappy.parquet\n    12780  2025-05-01 18:21   test_target.parquet/part-00120-tid-5921241872214806594-a5757a61-f16b-4056-bc9e-555d06ebb6d9-8870-1-c000.snappy.parquet\n      112  2025-05-01 18:21   test_target.parquet/.part-00149-tid-5921241872214806594-a5757a61-f16b-4056-bc9e-555d06ebb6d9-8899-1-c000.snappy.parquet.crc\n    12871  2025-05-01 18:21   test_target.parquet/part-00029-tid-5921241872214806594-a5757a61-f16b-4056-bc9e-555d06ebb6d9-8779-1-c000.snappy.parquet\n    13513  2025-05-01 18:21   test_target.parquet/part-00195-tid-5921241872214806594-a5757a61-f16b-4056-bc9e-555d06ebb6d9-8945-1-c000.snappy.parquet\n    13118  2025-05-01 18:21   test_target.parquet/part-00100-tid-5921241872214806594-a5757a61-f16b-4056-bc9e-555d06ebb6d9-8850-1-c000.snappy.parquet\n    13279  2025-05-01 18:21   test_target.parquet/part-00175-tid-5921241872214806594-a5757a61-f16b-4056-bc9e-555d06ebb6d9-8925-1-c000.snappy.parquet\n    13399  2025-05-01 18:21   test_target.parquet/part-00009-tid-5921241872214806594-a5757a61-f16b-4056-bc9e-555d06ebb6d9-8759-1-c000.snappy.parquet\n    13519  2025-05-01 18:21   test_target.parquet/part-00062-tid-5921241872214806594-a5757a61-f16b-4056-bc9e-555d06ebb6d9-8812-1-c000.snappy.parquet\n    13042  2025-05-01 18:21   test_target.parquet/part-00045-tid-5921241872214806594-a5757a61-f16b-4056-bc9e-555d06ebb6d9-8795-1-c000.snappy.parquet\n      108  2025-05-01 18:21   test_target.parquet/.part-00174-tid-5921241872214806594-a5757a61-f16b-4056-bc9e-555d06ebb6d9-8924-1-c000.snappy.parquet.crc\n    13108  2025-05-01 18:21   test_target.parquet/part-00039-tid-5921241872214806594-a5757a61-f16b-4056-bc9e-555d06ebb6d9-8789-1-c000.snappy.parquet\n      116  2025-05-01 18:21   test_target.parquet/.part-00042-tid-5921241872214806594-a5757a61-f16b-4056-bc9e-555d06ebb6d9-8792-1-c000.snappy.parquet.crc\n    13233  2025-05-01 18:21   test_target.parquet/part-00079-tid-5921241872214806594-a5757a61-f16b-4056-bc9e-555d06ebb6d9-8829-1-c000.snappy.parquet\n      108  2025-05-01 18:21   test_target.parquet/.part-00073-tid-5921241872214806594-a5757a61-f16b-4056-bc9e-555d06ebb6d9-8823-1-c000.snappy.parquet.crc\n      112  2025-05-01 18:21   test_target.parquet/.part-00094-tid-5921241872214806594-a5757a61-f16b-4056-bc9e-555d06ebb6d9-8844-1-c000.snappy.parquet.crc\n      120  2025-05-01 18:21   test_target.parquet/.part-00098-tid-5921241872214806594-a5757a61-f16b-4056-bc9e-555d06ebb6d9-8848-1-c000.snappy.parquet.crc\n      116  2025-05-01 18:21   test_target.parquet/.part-00199-tid-5921241872214806594-a5757a61-f16b-4056-bc9e-555d06ebb6d9-8949-1-c000.snappy.parquet.crc\n      116  2025-05-01 18:21   test_target.parquet/.part-00182-tid-5921241872214806594-a5757a61-f16b-4056-bc9e-555d06ebb6d9-8932-1-c000.snappy.parquet.crc\n    13325  2025-05-01 18:21   test_target.parquet/part-00049-tid-5921241872214806594-a5757a61-f16b-4056-bc9e-555d06ebb6d9-8799-1-c000.snappy.parquet\n    12890  2025-05-01 18:21   test_target.parquet/part-00083-tid-5921241872214806594-a5757a61-f16b-4056-bc9e-555d06ebb6d9-8833-1-c000.snappy.parquet\n    13569  2025-05-01 18:21   test_target.parquet/part-00021-tid-5921241872214806594-a5757a61-f16b-4056-bc9e-555d06ebb6d9-8771-1-c000.snappy.parquet\n    13308  2025-05-01 18:21   test_target.parquet/part-00150-tid-5921241872214806594-a5757a61-f16b-4056-bc9e-555d06ebb6d9-8900-1-c000.snappy.parquet\n    12783  2025-05-01 18:21   test_target.parquet/part-00169-tid-5921241872214806594-a5757a61-f16b-4056-bc9e-555d06ebb6d9-8919-1-c000.snappy.parquet\n    13674  2025-05-01 18:21   test_target.parquet/part-00104-tid-5921241872214806594-a5757a61-f16b-4056-bc9e-555d06ebb6d9-8854-1-c000.snappy.parquet\n    13344  2025-05-01 18:21   test_target.parquet/part-00004-tid-5921241872214806594-a5757a61-f16b-4056-bc9e-555d06ebb6d9-8754-1-c000.snappy.parquet\n    13313  2025-05-01 18:21   test_target.parquet/part-00196-tid-5921241872214806594-a5757a61-f16b-4056-bc9e-555d06ebb6d9-8946-1-c000.snappy.parquet\n      108  2025-05-01 18:21   test_target.parquet/.part-00069-tid-5921241872214806594-a5757a61-f16b-4056-bc9e-555d06ebb6d9-8819-1-c000.snappy.parquet.crc\n      116  2025-05-01 18:21   test_target.parquet/.part-00066-tid-5921241872214806594-a5757a61-f16b-4056-bc9e-555d06ebb6d9-8816-1-c000.snappy.parquet.crc\n    13117  2025-05-01 18:21   test_target.parquet/part-00097-tid-5921241872214806594-a5757a61-f16b-4056-bc9e-555d06ebb6d9-8847-1-c000.snappy.parquet\n    13681  2025-05-01 18:21   test_target.parquet/part-00020-tid-5921241872214806594-a5757a61-f16b-4056-bc9e-555d06ebb6d9-8770-1-c000.snappy.parquet\n    13268  2025-05-01 18:21   test_target.parquet/part-00070-tid-5921241872214806594-a5757a61-f16b-4056-bc9e-555d06ebb6d9-8820-1-c000.snappy.parquet\n    13004  2025-05-01 18:21   test_target.parquet/part-00088-tid-5921241872214806594-a5757a61-f16b-4056-bc9e-555d06ebb6d9-8838-1-c000.snappy.parquet\n      112  2025-05-01 18:21   test_target.parquet/.part-00000-tid-5921241872214806594-a5757a61-f16b-4056-bc9e-555d06ebb6d9-8750-1-c000.snappy.parquet.crc\n    13390  2025-05-01 18:21   test_target.parquet/part-00042-tid-5921241872214806594-a5757a61-f16b-4056-bc9e-555d06ebb6d9-8792-1-c000.snappy.parquet\n    13703  2025-05-01 18:21   test_target.parquet/part-00043-tid-5921241872214806594-a5757a61-f16b-4056-bc9e-555d06ebb6d9-8793-1-c000.snappy.parquet\n    13856  2025-05-01 18:21   test_target.parquet/part-00129-tid-5921241872214806594-a5757a61-f16b-4056-bc9e-555d06ebb6d9-8879-1-c000.snappy.parquet\n      112  2025-05-01 18:21   test_target.parquet/.part-00070-tid-5921241872214806594-a5757a61-f16b-4056-bc9e-555d06ebb6d9-8820-1-c000.snappy.parquet.crc\n      120  2025-05-01 18:21   test_target.parquet/.part-00145-tid-5921241872214806594-a5757a61-f16b-4056-bc9e-555d06ebb6d9-8895-1-c000.snappy.parquet.crc\n    12598  2025-05-01 18:21   test_target.parquet/part-00054-tid-5921241872214806594-a5757a61-f16b-4056-bc9e-555d06ebb6d9-8804-1-c000.snappy.parquet\n    12829  2025-05-01 18:21   test_target.parquet/part-00194-tid-5921241872214806594-a5757a61-f16b-4056-bc9e-555d06ebb6d9-8944-1-c000.snappy.parquet\n      116  2025-05-01 18:21   test_target.parquet/.part-00127-tid-5921241872214806594-a5757a61-f16b-4056-bc9e-555d06ebb6d9-8877-1-c000.snappy.parquet.crc\n    12970  2025-05-01 18:21   test_target.parquet/part-00018-tid-5921241872214806594-a5757a61-f16b-4056-bc9e-555d06ebb6d9-8768-1-c000.snappy.parquet\n      116  2025-05-01 18:21   test_target.parquet/.part-00113-tid-5921241872214806594-a5757a61-f16b-4056-bc9e-555d06ebb6d9-8863-1-c000.snappy.parquet.crc\n    13858  2025-05-01 18:21   test_target.parquet/part-00179-tid-5921241872214806594-a5757a61-f16b-4056-bc9e-555d06ebb6d9-8929-1-c000.snappy.parquet\n    13728  2025-05-01 18:21   test_target.parquet/part-00147-tid-5921241872214806594-a5757a61-f16b-4056-bc9e-555d06ebb6d9-8897-1-c000.snappy.parquet\n    13208  2025-05-01 18:21   test_target.parquet/part-00108-tid-5921241872214806594-a5757a61-f16b-4056-bc9e-555d06ebb6d9-8858-1-c000.snappy.parquet\n      116  2025-05-01 18:21   test_target.parquet/.part-00041-tid-5921241872214806594-a5757a61-f16b-4056-bc9e-555d06ebb6d9-8791-1-c000.snappy.parquet.crc\n      120  2025-05-01 18:21   test_target.parquet/.part-00105-tid-5921241872214806594-a5757a61-f16b-4056-bc9e-555d06ebb6d9-8855-1-c000.snappy.parquet.crc\n      112  2025-05-01 18:21   test_target.parquet/.part-00012-tid-5921241872214806594-a5757a61-f16b-4056-bc9e-555d06ebb6d9-8762-1-c000.snappy.parquet.crc\n    12955  2025-05-01 18:21   test_target.parquet/part-00048-tid-5921241872214806594-a5757a61-f16b-4056-bc9e-555d06ebb6d9-8798-1-c000.snappy.parquet\n      112  2025-05-01 18:21   test_target.parquet/.part-00095-tid-5921241872214806594-a5757a61-f16b-4056-bc9e-555d06ebb6d9-8845-1-c000.snappy.parquet.crc\n    12841  2025-05-01 18:21   test_target.parquet/part-00087-tid-5921241872214806594-a5757a61-f16b-4056-bc9e-555d06ebb6d9-8837-1-c000.snappy.parquet\n    12974  2025-05-01 18:21   test_target.parquet/part-00128-tid-5921241872214806594-a5757a61-f16b-4056-bc9e-555d06ebb6d9-8878-1-c000.snappy.parquet\n    13037  2025-05-01 18:21   test_target.parquet/part-00057-tid-5921241872214806594-a5757a61-f16b-4056-bc9e-555d06ebb6d9-8807-1-c000.snappy.parquet\n      120  2025-05-01 18:21   test_target.parquet/.part-00023-tid-5921241872214806594-a5757a61-f16b-4056-bc9e-555d06ebb6d9-8773-1-c000.snappy.parquet.crc\n      112  2025-05-01 18:21   test_target.parquet/.part-00115-tid-5921241872214806594-a5757a61-f16b-4056-bc9e-555d06ebb6d9-8865-1-c000.snappy.parquet.crc\n      112  2025-05-01 18:21   test_target.parquet/.part-00027-tid-5921241872214806594-a5757a61-f16b-4056-bc9e-555d06ebb6d9-8777-1-c000.snappy.parquet.crc\n      120  2025-05-01 18:21   test_target.parquet/.part-00063-tid-5921241872214806594-a5757a61-f16b-4056-bc9e-555d06ebb6d9-8813-1-c000.snappy.parquet.crc\n      116  2025-05-01 18:21   test_target.parquet/.part-00121-tid-5921241872214806594-a5757a61-f16b-4056-bc9e-555d06ebb6d9-8871-1-c000.snappy.parquet.crc\n      116  2025-05-01 18:21   test_target.parquet/.part-00089-tid-5921241872214806594-a5757a61-f16b-4056-bc9e-555d06ebb6d9-8839-1-c000.snappy.parquet.crc\n      116  2025-05-01 18:21   test_target.parquet/.part-00158-tid-5921241872214806594-a5757a61-f16b-4056-bc9e-555d06ebb6d9-8908-1-c000.snappy.parquet.crc\n    14428  2025-05-01 18:21   test_target.parquet/part-00102-tid-5921241872214806594-a5757a61-f16b-4056-bc9e-555d06ebb6d9-8852-1-c000.snappy.parquet\n      116  2025-05-01 18:21   test_target.parquet/.part-00171-tid-5921241872214806594-a5757a61-f16b-4056-bc9e-555d06ebb6d9-8921-1-c000.snappy.parquet.crc\n      112  2025-05-01 18:21   test_target.parquet/.part-00091-tid-5921241872214806594-a5757a61-f16b-4056-bc9e-555d06ebb6d9-8841-1-c000.snappy.parquet.crc\n    13656  2025-05-01 18:21   test_target.parquet/part-00106-tid-5921241872214806594-a5757a61-f16b-4056-bc9e-555d06ebb6d9-8856-1-c000.snappy.parquet\n---------                     -------\n102445367                     909 files\n"
     ]
    }
   ],
   "source": [
    "%sh\n",
    "unzip -l /dbfs/FileStore/predictive_clean/data.zip"
   ]
  },
  {
   "cell_type": "code",
   "execution_count": 0,
   "metadata": {
    "application/vnd.databricks.v1+cell": {
     "cellMetadata": {
      "byteLimit": 2048000,
      "rowLimit": 10000
     },
     "inputWidgets": {},
     "nuid": "cbe95f4f-3cbc-4d88-a624-b5da95a009d3",
     "showTitle": false,
     "tableResultSettingsMap": {},
     "title": ""
    }
   },
   "outputs": [
    {
     "output_type": "stream",
     "name": "stdout",
     "output_type": "stream",
     "text": [
      "data.zip\nfinal_input_pad.parquet\ntest_input_pad.parquet\ntest_input_pad.zip\ntest_target.parquet\ntrain_input_pad.parquet\ntrain_target.parquet\n"
     ]
    }
   ],
   "source": [
    "%sh\n",
    "cd /dbfs/FileStore/predictive_clean\n",
    "ls\n",
    "\n"
   ]
  },
  {
   "cell_type": "code",
   "execution_count": 0,
   "metadata": {
    "application/vnd.databricks.v1+cell": {
     "cellMetadata": {
      "byteLimit": 2048000,
      "rowLimit": 10000
     },
     "inputWidgets": {},
     "nuid": "d100dca8-627a-427a-a60b-0e191edd84c5",
     "showTitle": false,
     "tableResultSettingsMap": {},
     "title": ""
    }
   },
   "outputs": [
    {
     "output_type": "display_data",
     "data": {
      "text/html": [
       "<style scoped>\n",
       "  .ansiout {\n",
       "    display: block;\n",
       "    unicode-bidi: embed;\n",
       "    white-space: pre-wrap;\n",
       "    word-wrap: break-word;\n",
       "    word-break: break-all;\n",
       "    font-family: \"Menlo\", \"Monaco\", \"Consolas\", \"Ubuntu Mono\", \"Source Code Pro\", monospace;\n",
       "    font-size: 13px;\n",
       "    color: #555;\n",
       "    margin-left: 4px;\n",
       "    line-height: 19px;\n",
       "  }\n",
       "</style>\n",
       "<div class=\"ansiout\">res9: Boolean = true\n",
       "</div>"
      ]
     },
     "metadata": {
      "application/vnd.databricks.v1+output": {
       "addedWidgets": {},
       "arguments": {},
       "data": "<div class=\"ansiout\">res9: Boolean = true\n</div>",
       "datasetInfos": [],
       "metadata": {
        "isDbfsCommandResult": false
       },
       "removedWidgets": [],
       "type": "html"
      }
     },
     "output_type": "display_data"
    }
   ],
   "source": [
    "%fs cp file:/dbfs/FileStore/predictive_clean/data.zip dbfs:/FileStore/data.zip\n"
   ]
  },
  {
   "cell_type": "code",
   "execution_count": 0,
   "metadata": {
    "application/vnd.databricks.v1+cell": {
     "cellMetadata": {},
     "inputWidgets": {},
     "nuid": "e7ae6ce4-1cec-4324-8163-6cda474d3dea",
     "showTitle": false,
     "tableResultSettingsMap": {},
     "title": ""
    }
   },
   "outputs": [],
   "source": [
    "#https://community.cloud.databricks.com/files/data.zip"
   ]
  }
 ],
 "metadata": {
  "accelerator": "GPU",
  "application/vnd.databricks.v1+notebook": {
   "computePreferences": null,
   "dashboards": [],
   "environmentMetadata": null,
   "inputWidgetPreferences": null,
   "language": "python",
   "notebookMetadata": {
    "mostRecentlyExecutedCommandWithImplicitDF": {
     "commandId": 758905861924988,
     "dataframes": [
      "_sqldf"
     ]
    },
    "pythonIndentUnit": 4
   },
   "notebookName": "predictive_project (2)",
   "widgets": {}
  },
  "colab": {
   "gpuType": "T4",
   "provenance": []
  },
  "kernelspec": {
   "display_name": "Python 3 [3.10]",
   "language": "python",
   "name": "python3"
  },
  "language_info": {
   "codemirror_mode": {
    "name": "ipython",
    "version": 3
   },
   "file_extension": ".py",
   "mimetype": "text/x-python",
   "name": "python",
   "nbconvert_exporter": "python",
   "pygments_lexer": "ipython3",
   "version": "3.10.2"
  }
 },
 "nbformat": 4,
 "nbformat_minor": 0
}
